{
 "cells": [
  {
   "cell_type": "markdown",
   "metadata": {},
   "source": [
    "## 1. Execute imports"
   ]
  },
  {
   "cell_type": "code",
   "execution_count": 1,
   "metadata": {},
   "outputs": [],
   "source": [
    "import warnings\n",
    "warnings.filterwarnings('ignore')\n",
    "import pandas as pd\n",
    "import numpy as np\n",
    "from patsy import ModelDesc, dmatrices, dmatrix, demo_data\n",
    "import re\n",
    "import pprint\n",
    "import json\n",
    "from sklearn.neighbors import KNeighborsClassifier\n",
    "from sklearn.metrics import accuracy_score\n",
    "from sklearn.model_selection import cross_val_score\n",
    "from sklearn.model_selection import train_test_split\n",
    "from sklearn.metrics import confusion_matrix, classification_report\n",
    "from sklearn import metrics\n",
    "from sklearn.linear_model import LogisticRegression\n",
    "from sklearn.svm import SVC\n",
    "from sklearn.naive_bayes import GaussianNB"
   ]
  },
  {
   "cell_type": "markdown",
   "metadata": {},
   "source": [
    "## 2. Create complex operations dict"
   ]
  },
  {
   "cell_type": "code",
   "execution_count": 2,
   "metadata": {},
   "outputs": [],
   "source": [
    "# TODO: add more complex operations from numpy\n",
    "COMPLEX_OPERATIONS = {\n",
    "    'cos': 'np.cos',\n",
    "    'tan': 'np.tan',\n",
    "    'log': 'np.log',\n",
    "    'log10': 'np.log10',\n",
    "    'log2': 'np.log2',\n",
    "    'min': 'np.min',\n",
    "    'max': 'np.max',\n",
    "    'pi': 'np.pi'\n",
    "}\n",
    "\n",
    "class bcolors:\n",
    "    HEADER = '\\033[95m'\n",
    "    OKBLUE = '\\033[94m'\n",
    "    OKCYAN = '\\033[96m'\n",
    "    OKGREEN = '\\033[92m'\n",
    "    WARNING = '\\033[93m'\n",
    "    FAIL = '\\033[91m'\n",
    "    ENDC = '\\033[0m'\n",
    "    BOLD = '\\033[1m'\n",
    "    UNDERLINE = '\\033[4m'"
   ]
  },
  {
   "cell_type": "markdown",
   "metadata": {},
   "source": [
    "## 3. Execute functions"
   ]
  },
  {
   "cell_type": "code",
   "execution_count": 3,
   "metadata": {},
   "outputs": [],
   "source": [
    "def add_blank_spaces_to_formula(formula: str) -> str:\n",
    "    new = ''\n",
    "    for index, element in enumerate(formula):\n",
    "        next_idx = index + 1\n",
    "        if next_idx < len(formula):\n",
    "            if not re.match('\\w', formula[index+1]):\n",
    "                new += element + ' '\n",
    "            else:\n",
    "                new += element\n",
    "        else:\n",
    "            new += element + ' '\n",
    "    return new"
   ]
  },
  {
   "cell_type": "code",
   "execution_count": 4,
   "metadata": {},
   "outputs": [],
   "source": [
    "def clean_formula(formula: str) -> str:\n",
    "    result = formula\n",
    "    for operation in COMPLEX_OPERATIONS:\n",
    "        if(operation in formula):\n",
    "            result = result.replace(operation, \"\")\n",
    "    return result\n",
    "\n",
    "def get_formula_variables(formula: str):\n",
    "  '''\n",
    "  Returns a list of every variable (non repeated) from the formula\n",
    "  '''\n",
    "  cleaned_formula = clean_formula(formula)\n",
    "  return sorted(list(set(\"\".join(re.findall(\"[a-zA-Z]+\", cleaned_formula)))))\n",
    "\n",
    "def group_columns(formula: str, data: pd.DataFrame):\n",
    "  # get number of variables inside formula\n",
    "  # convert string to set that only holds unique elements\n",
    "  characters = get_formula_variables(formula=formula)\n",
    "\n",
    "  # get dataset number of columns\n",
    "  columns = len(data.columns)\n",
    "  columns_lst = list(data.columns)\n",
    "  characters_len = len(characters)\n",
    "\n",
    "  result = []\n",
    "  \n",
    "  # column by column\n",
    "  for i in range(0, columns):  \n",
    "    # current column + 1 and substract 1 from characters so we don't count current character\n",
    "    for j in range(i+1, columns, characters_len-1):\n",
    "      column_variables = [columns_lst[i]]\n",
    "      column_variables.extend(columns_lst[j:j+(characters_len-1)])\n",
    "      # compare numbers and group columns by number of variables inside the formula\n",
    "      if(len(column_variables) == characters_len):\n",
    "        result.append(column_variables)\n",
    "  return result # grouped columns"
   ]
  },
  {
   "cell_type": "code",
   "execution_count": 5,
   "metadata": {},
   "outputs": [],
   "source": [
    "def get_formula_by_columns(formula: str, columns: list) -> dict:\n",
    "  '''\n",
    "  Mapping every single formula's variable to a column.\n",
    "  '''\n",
    "  to_replace = {}\n",
    "\n",
    "  # formula variables\n",
    "  variables = get_formula_variables(formula=formula)\n",
    "  # iterate over grouped columns\n",
    "  for cidx, column_group in enumerate(columns):\n",
    "    formula_grouped = {}\n",
    "    # iterate over variables\n",
    "    for idx, variable in enumerate(variables):\n",
    "      # variable paired to column name\n",
    "      formula_grouped[variable] = column_group[idx]\n",
    "    # every column group represents a key\n",
    "    to_replace[cidx] = formula_grouped\n",
    "  return to_replace"
   ]
  },
  {
   "cell_type": "code",
   "execution_count": 6,
   "metadata": {},
   "outputs": [],
   "source": [
    "def parse_formula(formula: str, formula_columns: dict) -> list:\n",
    "  '''\n",
    "  Parses, effectively, every grouped column to a real formula. \n",
    "  In simple words, replaces every formula variable for its paired column.\n",
    "  '''\n",
    "  result = []\n",
    "  formula_variables = re.findall(r'\\w+', formula)\n",
    "\n",
    "  for variables_paired in formula_columns.values():\n",
    "        new_formula = formula\n",
    "        for variable in formula_variables:\n",
    "            if variable in variables_paired:\n",
    "                # we need to put a blank space after a single character, \n",
    "                # so we can identify it then with the regex\n",
    "                replace_regex = f'{variable}(?:[^\\w\\*\\\\\\+\\(\\)\\-])'\n",
    "                new_formula = re.sub(replace_regex, variables_paired[variable], new_formula)\n",
    "#             elif variable in COMPLEX_OPERATIONS:\n",
    "#                 print(f'Going to replace [{variable} for [{COMPLEX_OPERATIONS[variable]}]')\n",
    "#                 new_formula = new_formula.replace(variable, COMPLEX_OPERATIONS[variable])\n",
    "#                 print(f'GOING TO APPEND => [{new_formula}]')\n",
    "        new_formula = new_formula.replace(\" \", \"\")\n",
    "        for key, value in COMPLEX_OPERATIONS.items():\n",
    "            if key in new_formula:\n",
    "                new_formula = new_formula.replace(key, value)\n",
    "        \n",
    "        result.append(new_formula)\n",
    "  \n",
    "  return result"
   ]
  },
  {
   "cell_type": "code",
   "execution_count": 7,
   "metadata": {},
   "outputs": [],
   "source": [
    "def execute_formula(formula_by_columns: list, data: pd.DataFrame) -> pd.DataFrame:\n",
    "  '''\n",
    "  Take every real formula and executes it via patsy dmatrix.\n",
    "  Saves every formula result inside a new dataframe's column.\n",
    "  '''\n",
    "  new_df = data.copy()\n",
    "     \n",
    "  for formula_columns in formula_by_columns:\n",
    "    result_items = []\n",
    "    add_data = True\n",
    "#     try:\n",
    "    formula = \"I(\"+formula_columns+\")-1\"\n",
    "    result = dmatrix(formula, data, NA_action='raise')\n",
    "    for item in result:\n",
    "        result_items.append(item.item())\n",
    "#     except:\n",
    "#         # Ignore Patsy error.\n",
    "#         add_data = False\n",
    "        \n",
    "    if add_data:\n",
    "        if \"np.\" in formula_columns:\n",
    "            new_df[formula_columns.replace('np.', '')] = result_items\n",
    "        else:\n",
    "            new_df[formula_columns] = result_items\n",
    "    else:\n",
    "        print(f\"{bcolors.WARNING}Your data has some invalid values. Script will ignore them and their possible result.{bcolors.ENDC}\")\n",
    "        \n",
    "  return new_df"
   ]
  },
  {
   "cell_type": "code",
   "execution_count": 8,
   "metadata": {},
   "outputs": [],
   "source": [
    "def execute(formula_input: str, data: pd.DataFrame) -> pd.DataFrame:\n",
    "    \n",
    "    formula = add_blank_spaces_to_formula(formula_input.lower())\n",
    "    grouped_columns = group_columns(formula, data)\n",
    "    replaceable_result = get_formula_by_columns(formula, grouped_columns)\n",
    "    print(f'Got formula => {formula}')\n",
    "    executable_formulas = parse_formula(formula, replaceable_result)\n",
    "    new_data = execute_formula(executable_formulas, data)\n",
    "    \n",
    "    return new_data"
   ]
  }
 ],
 "metadata": {
  "kernelspec": {
   "display_name": "Python 3 (ipykernel)",
   "language": "python",
   "name": "python3"
  },
  "language_info": {
   "codemirror_mode": {
    "name": "ipython",
    "version": 3
   },
   "file_extension": ".py",
   "mimetype": "text/x-python",
   "name": "python",
   "nbconvert_exporter": "python",
   "pygments_lexer": "ipython3",
   "version": "3.8.5"
  }
 },
 "nbformat": 4,
 "nbformat_minor": 5
}
