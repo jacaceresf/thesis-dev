{
 "cells": [
  {
   "cell_type": "markdown",
   "id": "8f8fb654",
   "metadata": {},
   "source": [
    "# Stage 2 cos(a+b)"
   ]
  },
  {
   "cell_type": "code",
   "execution_count": 7,
   "id": "6f5d77b0",
   "metadata": {},
   "outputs": [],
   "source": [
    "import pandas as pd\n",
    "import numpy as np\n",
    "import warnings\n",
    "warnings.filterwarnings('ignore')\n",
    "from sklearn.model_selection import train_test_split\n",
    "from sklearn.metrics import confusion_matrix, classification_report\n",
    "from sklearn import metrics\n",
    "from sklearn.neighbors import KNeighborsClassifier\n",
    "from sklearn.metrics import accuracy_score\n",
    "from sklearn.model_selection import cross_val_score"
   ]
  },
  {
   "cell_type": "code",
   "execution_count": 8,
   "id": "465a9a37",
   "metadata": {},
   "outputs": [],
   "source": [
    "X_full = pd.read_csv('glass_formula_a.csv')\n",
    "X_full\n",
    "\n",
    "data = pd.read_csv('glass.csv', delimiter=',')\n",
    "data.isnull().sum().sum()\n",
    "data\n",
    "y = data['Type']"
   ]
  },
  {
   "cell_type": "code",
   "execution_count": 9,
   "id": "99d40d24",
   "metadata": {},
   "outputs": [],
   "source": [
    "X_train, X_test, y_train, y_test = train_test_split(X_full, y, test_size = 0.2, random_state = 42)"
   ]
  },
  {
   "cell_type": "markdown",
   "id": "cdd7415b",
   "metadata": {},
   "source": [
    "## KNN"
   ]
  },
  {
   "cell_type": "code",
   "execution_count": 10,
   "id": "bbff0548",
   "metadata": {},
   "outputs": [
    {
     "name": "stdout",
     "output_type": "stream",
     "text": [
      "              precision    recall  f1-score   support\n",
      "\n",
      "           1       0.53      0.82      0.64        11\n",
      "           2       0.82      0.64      0.72        14\n",
      "           3       0.33      0.33      0.33         3\n",
      "           5       1.00      0.75      0.86         4\n",
      "           6       1.00      0.67      0.80         3\n",
      "           7       1.00      0.88      0.93         8\n",
      "\n",
      "    accuracy                           0.72        43\n",
      "   macro avg       0.78      0.68      0.71        43\n",
      "weighted avg       0.77      0.72      0.73        43\n",
      "\n",
      "####### CROSS VAL SCORE #######\n",
      "0.6506493506493507\n"
     ]
    }
   ],
   "source": [
    "reg_knn = KNeighborsClassifier()\n",
    "reg_knn.fit(X_train, y_train)\n",
    "y_pred = reg_knn.predict(X_test)\n",
    "\n",
    "print(metrics.classification_report(y_test, y_pred))\n",
    "print(\"####### CROSS VAL SCORE #######\")\n",
    "print(cross_val_score(reg_knn, X_full, y, cv=10).mean())"
   ]
  },
  {
   "cell_type": "markdown",
   "id": "aad7d1a9",
   "metadata": {},
   "source": [
    "## Logistic Regression"
   ]
  },
  {
   "cell_type": "code",
   "execution_count": 11,
   "id": "9de2228b",
   "metadata": {},
   "outputs": [],
   "source": [
    "from sklearn.linear_model import LogisticRegression"
   ]
  },
  {
   "cell_type": "code",
   "execution_count": 12,
   "id": "36e3210b",
   "metadata": {},
   "outputs": [
    {
     "name": "stdout",
     "output_type": "stream",
     "text": [
      "              precision    recall  f1-score   support\n",
      "\n",
      "           1       0.69      1.00      0.81        11\n",
      "           2       0.83      0.71      0.77        14\n",
      "           3       0.00      0.00      0.00         3\n",
      "           5       0.80      1.00      0.89         4\n",
      "           6       1.00      0.67      0.80         3\n",
      "           7       1.00      1.00      1.00         8\n",
      "\n",
      "    accuracy                           0.81        43\n",
      "   macro avg       0.72      0.73      0.71        43\n",
      "weighted avg       0.78      0.81      0.78        43\n",
      "\n",
      "####### CROSS VAL SCORE #######\n",
      "0.6547619047619047\n"
     ]
    }
   ],
   "source": [
    "reg_log = LogisticRegression()\n",
    "reg_log.fit(X_train, y_train)\n",
    "y_pred = reg_log.predict(X_test)\n",
    "\n",
    "print(metrics.classification_report(y_test, y_pred))\n",
    "print(\"####### CROSS VAL SCORE #######\")\n",
    "print(cross_val_score(reg_log, X_full, y, cv=10).mean())"
   ]
  },
  {
   "cell_type": "markdown",
   "id": "0444ee3e",
   "metadata": {},
   "source": [
    "## SVM"
   ]
  },
  {
   "cell_type": "code",
   "execution_count": 13,
   "id": "463978d2",
   "metadata": {},
   "outputs": [],
   "source": [
    "from sklearn.svm import SVC"
   ]
  },
  {
   "cell_type": "code",
   "execution_count": 14,
   "id": "a7e79d13",
   "metadata": {},
   "outputs": [
    {
     "name": "stdout",
     "output_type": "stream",
     "text": [
      "              precision    recall  f1-score   support\n",
      "\n",
      "           1       0.61      1.00      0.76        11\n",
      "           2       0.91      0.71      0.80        14\n",
      "           3       0.00      0.00      0.00         3\n",
      "           5       1.00      1.00      1.00         4\n",
      "           6       0.67      0.67      0.67         3\n",
      "           7       1.00      0.88      0.93         8\n",
      "\n",
      "    accuracy                           0.79        43\n",
      "   macro avg       0.70      0.71      0.69        43\n",
      "weighted avg       0.78      0.79      0.77        43\n",
      "\n",
      "####### CROSS VAL SCORE #######\n",
      "0.6658008658008658\n"
     ]
    }
   ],
   "source": [
    "reg_svc = SVC(kernel='linear')\n",
    "reg_svc.fit(X_train, y_train)\n",
    "y_pred = reg_svc.predict(X_test)\n",
    "print(metrics.classification_report(y_test, y_pred))\n",
    "print(\"####### CROSS VAL SCORE #######\")\n",
    "print(cross_val_score(reg_svc, X_full, y, cv=10).mean())"
   ]
  },
  {
   "cell_type": "markdown",
   "id": "6bc230eb",
   "metadata": {},
   "source": [
    "## Naive Bayes"
   ]
  },
  {
   "cell_type": "code",
   "execution_count": 15,
   "id": "73b17ae0",
   "metadata": {},
   "outputs": [],
   "source": [
    "from sklearn.naive_bayes import GaussianNB"
   ]
  },
  {
   "cell_type": "code",
   "execution_count": 16,
   "id": "d8f05fbc",
   "metadata": {},
   "outputs": [
    {
     "name": "stdout",
     "output_type": "stream",
     "text": [
      "              precision    recall  f1-score   support\n",
      "\n",
      "           1       0.50      0.64      0.56        11\n",
      "           2       0.83      0.36      0.50        14\n",
      "           3       0.50      1.00      0.67         3\n",
      "           5       0.67      1.00      0.80         4\n",
      "           6       1.00      0.67      0.80         3\n",
      "           7       0.89      1.00      0.94         8\n",
      "\n",
      "    accuracy                           0.67        43\n",
      "   macro avg       0.73      0.78      0.71        43\n",
      "weighted avg       0.73      0.67      0.66        43\n",
      "\n",
      "####### CROSS VAL SCORE #######\n",
      "0.44307359307359306\n"
     ]
    }
   ],
   "source": [
    "reg_rf = GaussianNB()\n",
    "reg_rf.fit(X_train, y_train)\n",
    "y_pred = reg_rf.predict(X_test)\n",
    "print(metrics.classification_report(y_test, y_pred))\n",
    "print(\"####### CROSS VAL SCORE #######\")\n",
    "print(cross_val_score(reg_rf, X_full, y, cv=10).mean())"
   ]
  }
 ],
 "metadata": {
  "kernelspec": {
   "display_name": "Python 3",
   "language": "python",
   "name": "python3"
  },
  "language_info": {
   "codemirror_mode": {
    "name": "ipython",
    "version": 3
   },
   "file_extension": ".py",
   "mimetype": "text/x-python",
   "name": "python",
   "nbconvert_exporter": "python",
   "pygments_lexer": "ipython3",
   "version": "3.8.12"
  }
 },
 "nbformat": 4,
 "nbformat_minor": 5
}
