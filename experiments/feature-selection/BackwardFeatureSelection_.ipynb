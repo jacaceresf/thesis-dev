{
 "cells": [
  {
   "cell_type": "code",
   "execution_count": 44,
   "id": "91490811",
   "metadata": {},
   "outputs": [],
   "source": [
    "import pandas as pd\n",
    "import numpy as np\n",
    "from sklearn.model_selection import train_test_split\n",
    "from sklearn.metrics import mean_squared_error\n",
    "from sklearn.linear_model import LinearRegression\n",
    "from sklearn.preprocessing import PolynomialFeatures\n",
    "\n",
    "\n",
    "from sklearn.naive_bayes import GaussianNB\n",
    "from sklearn import svm\n",
    "from sklearn.linear_model import LogisticRegression\n",
    "from sklearn.neighbors import KNeighborsClassifier\n",
    "from mlxtend.feature_selection import SequentialFeatureSelector as SFS\n",
    "from sklearn.metrics import confusion_matrix, classification_report\n",
    "import warnings\n",
    "warnings.filterwarnings('ignore')\n",
    "from sklearn.metrics import accuracy_score\n",
    "from sklearn.model_selection import cross_val_score\n",
    "\n",
    "from sklearn.ensemble import RandomForestClassifier\n",
    "from sklearn.neural_network import MLPClassifier\n",
    "import random\n",
    "from sklearn.model_selection import KFold\n",
    "from datetime import datetime"
   ]
  },
  {
   "cell_type": "code",
   "execution_count": 45,
   "id": "890c2138",
   "metadata": {},
   "outputs": [],
   "source": [
    "X = pd.read_csv('../datasets/speaker_formula_b.csv')"
   ]
  },
  {
   "cell_type": "code",
   "execution_count": 46,
   "id": "41722db0",
   "metadata": {},
   "outputs": [
    {
     "name": "stdout",
     "output_type": "stream",
     "text": [
      "['X1', 'X2', 'X3', 'X4', 'X5', 'X6', 'X7', 'X8', 'X9', 'X10', 'X11', 'X12', 'cos(2*pi*(X1-min(X1)+X2-min(X2)))/(max(X1)+max(X2)-min(X1)-min(X2))', 'cos(2*pi*(X1-min(X1)+X3-min(X3)))/(max(X1)+max(X3)-min(X1)-min(X3))', 'cos(2*pi*(X1-min(X1)+X4-min(X4)))/(max(X1)+max(X4)-min(X1)-min(X4))', 'cos(2*pi*(X1-min(X1)+X5-min(X5)))/(max(X1)+max(X5)-min(X1)-min(X5))', 'cos(2*pi*(X1-min(X1)+X6-min(X6)))/(max(X1)+max(X6)-min(X1)-min(X6))', 'cos(2*pi*(X1-min(X1)+X7-min(X7)))/(max(X1)+max(X7)-min(X1)-min(X7))', 'cos(2*pi*(X1-min(X1)+X8-min(X8)))/(max(X1)+max(X8)-min(X1)-min(X8))', 'cos(2*pi*(X1-min(X1)+X9-min(X9)))/(max(X1)+max(X9)-min(X1)-min(X9))', 'cos(2*pi*(X1-min(X1)+X10-min(X10)))/(max(X1)+max(X10)-min(X1)-min(X10))', 'cos(2*pi*(X1-min(X1)+X11-min(X11)))/(max(X1)+max(X11)-min(X1)-min(X11))', 'cos(2*pi*(X1-min(X1)+X12-min(X12)))/(max(X1)+max(X12)-min(X1)-min(X12))', 'cos(2*pi*(X2-min(X2)+X3-min(X3)))/(max(X2)+max(X3)-min(X2)-min(X3))', 'cos(2*pi*(X2-min(X2)+X4-min(X4)))/(max(X2)+max(X4)-min(X2)-min(X4))', 'cos(2*pi*(X2-min(X2)+X5-min(X5)))/(max(X2)+max(X5)-min(X2)-min(X5))', 'cos(2*pi*(X2-min(X2)+X6-min(X6)))/(max(X2)+max(X6)-min(X2)-min(X6))', 'cos(2*pi*(X2-min(X2)+X7-min(X7)))/(max(X2)+max(X7)-min(X2)-min(X7))', 'cos(2*pi*(X2-min(X2)+X8-min(X8)))/(max(X2)+max(X8)-min(X2)-min(X8))', 'cos(2*pi*(X2-min(X2)+X9-min(X9)))/(max(X2)+max(X9)-min(X2)-min(X9))', 'cos(2*pi*(X2-min(X2)+X10-min(X10)))/(max(X2)+max(X10)-min(X2)-min(X10))', 'cos(2*pi*(X2-min(X2)+X11-min(X11)))/(max(X2)+max(X11)-min(X2)-min(X11))', 'cos(2*pi*(X2-min(X2)+X12-min(X12)))/(max(X2)+max(X12)-min(X2)-min(X12))', 'cos(2*pi*(X3-min(X3)+X4-min(X4)))/(max(X3)+max(X4)-min(X3)-min(X4))', 'cos(2*pi*(X3-min(X3)+X5-min(X5)))/(max(X3)+max(X5)-min(X3)-min(X5))', 'cos(2*pi*(X3-min(X3)+X6-min(X6)))/(max(X3)+max(X6)-min(X3)-min(X6))', 'cos(2*pi*(X3-min(X3)+X7-min(X7)))/(max(X3)+max(X7)-min(X3)-min(X7))', 'cos(2*pi*(X3-min(X3)+X8-min(X8)))/(max(X3)+max(X8)-min(X3)-min(X8))', 'cos(2*pi*(X3-min(X3)+X9-min(X9)))/(max(X3)+max(X9)-min(X3)-min(X9))', 'cos(2*pi*(X3-min(X3)+X10-min(X10)))/(max(X3)+max(X10)-min(X3)-min(X10))', 'cos(2*pi*(X3-min(X3)+X11-min(X11)))/(max(X3)+max(X11)-min(X3)-min(X11))', 'cos(2*pi*(X3-min(X3)+X12-min(X12)))/(max(X3)+max(X12)-min(X3)-min(X12))', 'cos(2*pi*(X4-min(X4)+X5-min(X5)))/(max(X4)+max(X5)-min(X4)-min(X5))', 'cos(2*pi*(X4-min(X4)+X6-min(X6)))/(max(X4)+max(X6)-min(X4)-min(X6))', 'cos(2*pi*(X4-min(X4)+X7-min(X7)))/(max(X4)+max(X7)-min(X4)-min(X7))', 'cos(2*pi*(X4-min(X4)+X8-min(X8)))/(max(X4)+max(X8)-min(X4)-min(X8))', 'cos(2*pi*(X4-min(X4)+X9-min(X9)))/(max(X4)+max(X9)-min(X4)-min(X9))', 'cos(2*pi*(X4-min(X4)+X10-min(X10)))/(max(X4)+max(X10)-min(X4)-min(X10))', 'cos(2*pi*(X4-min(X4)+X11-min(X11)))/(max(X4)+max(X11)-min(X4)-min(X11))', 'cos(2*pi*(X4-min(X4)+X12-min(X12)))/(max(X4)+max(X12)-min(X4)-min(X12))', 'cos(2*pi*(X5-min(X5)+X6-min(X6)))/(max(X5)+max(X6)-min(X5)-min(X6))', 'cos(2*pi*(X5-min(X5)+X7-min(X7)))/(max(X5)+max(X7)-min(X5)-min(X7))', 'cos(2*pi*(X5-min(X5)+X8-min(X8)))/(max(X5)+max(X8)-min(X5)-min(X8))', 'cos(2*pi*(X5-min(X5)+X9-min(X9)))/(max(X5)+max(X9)-min(X5)-min(X9))', 'cos(2*pi*(X5-min(X5)+X10-min(X10)))/(max(X5)+max(X10)-min(X5)-min(X10))', 'cos(2*pi*(X5-min(X5)+X11-min(X11)))/(max(X5)+max(X11)-min(X5)-min(X11))', 'cos(2*pi*(X5-min(X5)+X12-min(X12)))/(max(X5)+max(X12)-min(X5)-min(X12))', 'cos(2*pi*(X6-min(X6)+X7-min(X7)))/(max(X6)+max(X7)-min(X6)-min(X7))', 'cos(2*pi*(X6-min(X6)+X8-min(X8)))/(max(X6)+max(X8)-min(X6)-min(X8))', 'cos(2*pi*(X6-min(X6)+X9-min(X9)))/(max(X6)+max(X9)-min(X6)-min(X9))', 'cos(2*pi*(X6-min(X6)+X10-min(X10)))/(max(X6)+max(X10)-min(X6)-min(X10))', 'cos(2*pi*(X6-min(X6)+X11-min(X11)))/(max(X6)+max(X11)-min(X6)-min(X11))', 'cos(2*pi*(X6-min(X6)+X12-min(X12)))/(max(X6)+max(X12)-min(X6)-min(X12))', 'cos(2*pi*(X7-min(X7)+X8-min(X8)))/(max(X7)+max(X8)-min(X7)-min(X8))', 'cos(2*pi*(X7-min(X7)+X9-min(X9)))/(max(X7)+max(X9)-min(X7)-min(X9))', 'cos(2*pi*(X7-min(X7)+X10-min(X10)))/(max(X7)+max(X10)-min(X7)-min(X10))', 'cos(2*pi*(X7-min(X7)+X11-min(X11)))/(max(X7)+max(X11)-min(X7)-min(X11))', 'cos(2*pi*(X7-min(X7)+X12-min(X12)))/(max(X7)+max(X12)-min(X7)-min(X12))', 'cos(2*pi*(X8-min(X8)+X9-min(X9)))/(max(X8)+max(X9)-min(X8)-min(X9))', 'cos(2*pi*(X8-min(X8)+X10-min(X10)))/(max(X8)+max(X10)-min(X8)-min(X10))', 'cos(2*pi*(X8-min(X8)+X11-min(X11)))/(max(X8)+max(X11)-min(X8)-min(X11))', 'cos(2*pi*(X8-min(X8)+X12-min(X12)))/(max(X8)+max(X12)-min(X8)-min(X12))', 'cos(2*pi*(X9-min(X9)+X10-min(X10)))/(max(X9)+max(X10)-min(X9)-min(X10))', 'cos(2*pi*(X9-min(X9)+X11-min(X11)))/(max(X9)+max(X11)-min(X9)-min(X11))', 'cos(2*pi*(X9-min(X9)+X12-min(X12)))/(max(X9)+max(X12)-min(X9)-min(X12))', 'cos(2*pi*(X10-min(X10)+X11-min(X11)))/(max(X10)+max(X11)-min(X10)-min(X11))', 'cos(2*pi*(X10-min(X10)+X12-min(X12)))/(max(X10)+max(X12)-min(X10)-min(X12))', 'cos(2*pi*(X11-min(X11)+X12-min(X12)))/(max(X11)+max(X12)-min(X11)-min(X12))']\n"
     ]
    }
   ],
   "source": [
    "target_column = 'language'\n",
    "y = X[target_column]\n",
    "X_ = X.drop([target_column], axis=1)\n",
    "features = list(X_)\n",
    "print(features)"
   ]
  },
  {
   "cell_type": "markdown",
   "id": "641fa5f8",
   "metadata": {},
   "source": [
    "### KNN"
   ]
  },
  {
   "cell_type": "code",
   "execution_count": 37,
   "id": "c246d936",
   "metadata": {},
   "outputs": [
    {
     "name": "stdout",
     "output_type": "stream",
     "text": [
      "Now => 2022-02-20 11:51:01.919833\n",
      "Features => ['RI', 'Na', 'Mg', 'Na*Mg', 'Na*Al', 'Na*Si', 'Na*Ca', 'Mg*Si', 'Si*Ca', 'Si*Fe']\n",
      "Accuracy for the fold no. 1 on the test set: 0.5348837209302325\n",
      "\n",
      "Features => ['RI', 'Na', 'Mg', 'Na*Mg', 'Na*Ca', 'Mg*Ca', 'Al*Si', 'Al*Ca', 'Si*K', 'Si*Ba']\n",
      "Accuracy for the fold no. 2 on the test set: 0.813953488372093\n",
      "\n",
      "Features => ['Ca', 'Na*Si', 'Na*Ca', 'Al*Si', 'Al*Ca']\n",
      "Accuracy for the fold no. 3 on the test set: 0.5116279069767442\n",
      "\n",
      "Features => ['RI', 'Na', 'Mg', 'Al', 'RI*Na', 'Na*Mg', 'Na*Ca', 'Al*Si', 'Si*K', 'Si*Ba']\n",
      "Accuracy for the fold no. 4 on the test set: 0.6511627906976745\n",
      "\n",
      "Features => ['RI', 'Na', 'Mg', 'Al', 'Na*Si', 'Mg*Si', 'Mg*Ca', 'Al*Si', 'Si*K', 'Si*Ba']\n",
      "Accuracy for the fold no. 5 on the test set: 0.5238095238095238\n",
      "\n",
      "KNN 0.6070874861572536\n",
      "CPU times: user 11.8 s, sys: 1.12 s, total: 12.9 s\n",
      "Wall time: 22.2 s\n"
     ]
    }
   ],
   "source": [
    "%%time\n",
    "print(f\"Now => {datetime.now()}\")\n",
    "kf = KFold(n_splits=5, shuffle=True, random_state=random.randint(100, 2000))\n",
    "i = 1\n",
    "results = []\n",
    "for train_index, test_index in kf.split(X):\n",
    "    X_train = X.iloc[train_index].loc[:, features]\n",
    "    X_test = X.iloc[test_index][features]\n",
    "    y_train = X.iloc[train_index].loc[:, target_column]\n",
    "    y_test = X.loc[test_index][target_column]\n",
    "    \n",
    "    plain_sfs = SFS(KNeighborsClassifier(), \n",
    "          k_features=(5, 10), \n",
    "          forward=False, \n",
    "          floating=False,\n",
    "          n_jobs=-1)\n",
    "    \n",
    "    plain_sfs.fit(X_train, y_train)\n",
    "    selected_features = X.columns[list(plain_sfs.k_feature_idx_)]\n",
    "    print(f'Features => {list(selected_features)}')\n",
    "    x_t = X_test[selected_features]\n",
    "    \n",
    "    clf = KNeighborsClassifier()\n",
    "    clf.fit(X_train[selected_features], y_train)\n",
    "    score = accuracy_score(y_test, clf.predict(x_t))\n",
    "    results.append(score)\n",
    "    print(f\"Accuracy for the fold no. {i} on the test set: {score}\\n\")\n",
    "    i += 1\n",
    "    \n",
    "print(f'KNN {np.array(results).mean()}')"
   ]
  },
  {
   "cell_type": "markdown",
   "id": "5b44731a",
   "metadata": {},
   "source": [
    "#### Logistic Regression"
   ]
  },
  {
   "cell_type": "code",
   "execution_count": 38,
   "id": "33c7b46f",
   "metadata": {},
   "outputs": [
    {
     "name": "stdout",
     "output_type": "stream",
     "text": [
      "Now => 2022-02-20 11:51:24.167225\n",
      "Features => ['Ba', 'RI*Fe', 'Na*Mg', 'Na*Si', 'Al*Si', 'Al*Ca', 'Si*K', 'Si*Ca', 'Si*Ba', 'Si*Fe']\n",
      "Accuracy for the fold no. 1 on the test set: 0.5348837209302325\n",
      "\n",
      "Features => ['RI*Al', 'Na*Si', 'Mg*Al', 'Mg*Ca', 'Mg*Ba', 'Al*K', 'Al*Ba', 'Si*Ca', 'Si*Ba']\n",
      "Accuracy for the fold no. 2 on the test set: 0.6511627906976745\n",
      "\n",
      "Features => ['Si', 'RI*Fe', 'Na*Si', 'Na*Ca', 'Mg*Ca', 'Al*Si', 'Al*Ca', 'Al*Ba', 'Si*K', 'Si*Ba']\n",
      "Accuracy for the fold no. 3 on the test set: 0.5581395348837209\n",
      "\n",
      "Features => ['Na', 'Na*Mg', 'Na*K', 'Na*Ba', 'Al*Si', 'Al*Ca', 'Si*K', 'Si*Ca', 'Si*Fe']\n",
      "Accuracy for the fold no. 4 on the test set: 0.6976744186046512\n",
      "\n",
      "Features => ['Al', 'Si', 'Na*Mg', 'Mg*Ca', 'Al*Si', 'Al*Ca', 'Si*K', 'Si*Ca', 'Si*Fe']\n",
      "Accuracy for the fold no. 5 on the test set: 0.5952380952380952\n",
      "\n",
      "LogisticRegression 0.6074197120708749\n",
      "CPU times: user 12.7 s, sys: 1.02 s, total: 13.7 s\n",
      "Wall time: 3min 37s\n"
     ]
    }
   ],
   "source": [
    "%%time\n",
    "print(f\"Now => {datetime.now()}\")\n",
    "kf = KFold(n_splits=5, shuffle=True, random_state=321)\n",
    "i = 1\n",
    "results = []\n",
    "for train_index, test_index in kf.split(X):\n",
    "    X_train = X.iloc[train_index].loc[:, features]\n",
    "    X_test = X.iloc[test_index][features]\n",
    "    y_train = X.iloc[train_index].loc[:, target_column]\n",
    "    y_test = X.loc[test_index][target_column]\n",
    "    \n",
    "    plain_sfs_ls = SFS(LogisticRegression(), \n",
    "          k_features=(5, 10), \n",
    "          forward=False, \n",
    "          floating=False,\n",
    "          n_jobs=-1)\n",
    "    \n",
    "    plain_sfs_ls.fit(X_train, y_train)\n",
    "    selected_features = X.columns[list(plain_sfs_ls.k_feature_idx_)]\n",
    "    print(f'Features => {list(selected_features)}')\n",
    "    x_t = X_test[selected_features]\n",
    "    \n",
    "    clf = LogisticRegression()\n",
    "    clf.fit(X_train[selected_features], y_train)\n",
    "    score = accuracy_score(y_test, clf.predict(x_t))\n",
    "    results.append(score)\n",
    "    print(f\"Accuracy for the fold no. {i} on the test set: {score}\\n\")\n",
    "    i += 1\n",
    "    \n",
    "print(f'LogisticRegression {np.array(results).mean()}')"
   ]
  },
  {
   "cell_type": "markdown",
   "id": "27126db8",
   "metadata": {},
   "source": [
    "### Naive Bayes"
   ]
  },
  {
   "cell_type": "code",
   "execution_count": 39,
   "id": "9e2b57cc",
   "metadata": {},
   "outputs": [
    {
     "name": "stdout",
     "output_type": "stream",
     "text": [
      "Now => 2022-02-20 11:55:01.373973\n",
      "Features => ['Al', 'K', 'Ca', 'Ba', 'Fe', 'RI*Al', 'Na*Si', 'Na*K', 'Al*K', 'Si*K']\n",
      "Accuracy for the fold no. 1 on the test set: 0.627906976744186\n",
      "\n",
      "Features => ['Na', 'Mg', 'Al', 'K', 'RI*Mg', 'RI*Al', 'RI*Si', 'Na*Al', 'Si*Ca', 'K*Fe']\n",
      "Accuracy for the fold no. 2 on the test set: 0.3953488372093023\n",
      "\n",
      "Features => ['Al', 'RI*Ba', 'Si*K', 'Si*Ca', 'Ba*Fe']\n",
      "Accuracy for the fold no. 3 on the test set: 0.5348837209302325\n",
      "\n",
      "Features => ['Al', 'K', 'RI*Al', 'RI*Ca', 'Na*Al', 'Na*K']\n",
      "Accuracy for the fold no. 4 on the test set: 0.5348837209302325\n",
      "\n",
      "Features => ['Al', 'K', 'Ca', 'Ba', 'RI*K', 'Si*Ca']\n",
      "Accuracy for the fold no. 5 on the test set: 0.40476190476190477\n",
      "\n",
      "Naive Bayes 0.49955703211517166\n",
      "CPU times: user 47.1 s, sys: 498 ms, total: 47.6 s\n",
      "Wall time: 48.2 s\n"
     ]
    }
   ],
   "source": [
    "%%time\n",
    "print(f\"Now => {datetime.now()}\")\n",
    "i = 1\n",
    "results = []\n",
    "kf = KFold(n_splits=5, shuffle=True, random_state=3421)\n",
    "for train_index, test_index in kf.split(X):\n",
    "    X_train = X.iloc[train_index].loc[:, features]\n",
    "    X_test = X.iloc[test_index][features]\n",
    "    y_train = X.iloc[train_index].loc[:, target_column]\n",
    "    y_test = X.loc[test_index][target_column]\n",
    "    \n",
    "    naive_bayes = GaussianNB()\n",
    "    plain_sfs_nb = SFS(naive_bayes, \n",
    "          k_features=(5, 10), \n",
    "          forward=False, \n",
    "          floating=False)\n",
    "    \n",
    "    plain_sfs_nb.fit(X_train, y_train)\n",
    "    selected_features = X.columns[list(plain_sfs_nb.k_feature_idx_)]\n",
    "    print(f'Features => {list(selected_features)}')\n",
    "    x_t = X_test[selected_features]\n",
    "    \n",
    "    clf = GaussianNB()\n",
    "    clf.fit(X_train[selected_features], y_train)\n",
    "    score = accuracy_score(y_test, clf.predict(x_t))\n",
    "    results.append(score)\n",
    "    print(f\"Accuracy for the fold no. {i} on the test set: {score}\\n\")\n",
    "    i += 1\n",
    "    \n",
    "print(f'Naive Bayes {np.array(results).mean()}')"
   ]
  },
  {
   "cell_type": "markdown",
   "id": "1a418916",
   "metadata": {},
   "source": [
    "### SVM"
   ]
  },
  {
   "cell_type": "code",
   "execution_count": 40,
   "id": "fa7ee789",
   "metadata": {},
   "outputs": [
    {
     "name": "stdout",
     "output_type": "stream",
     "text": [
      "Now => 2022-02-20 11:55:49.610253\n",
      "Features => ['Al', 'K', 'Na*Mg', 'Na*Al', 'Na*Si', 'Mg*Ca', 'Si*Ca', 'K*Ca']\n",
      "Accuracy for the fold no. 1 on the test set: 0.5581395348837209\n",
      "\n",
      "Features => ['RI*Si', 'Na*Mg', 'Na*Si', 'Na*K', 'Na*Ca', 'Al*Si', 'Si*Ca', 'Si*Ba', 'K*Ca']\n",
      "Accuracy for the fold no. 2 on the test set: 0.6046511627906976\n",
      "\n",
      "Features => ['Na', 'Si', 'Mg*Al', 'Mg*Si', 'Al*K', 'Si*Ca']\n",
      "Accuracy for the fold no. 3 on the test set: 0.6976744186046512\n",
      "\n",
      "Features => ['Mg', 'Si', 'K', 'RI*Ca', 'Na*Al', 'Na*Si', 'Mg*Si', 'Al*Si', 'Al*Ca']\n",
      "Accuracy for the fold no. 4 on the test set: 0.6744186046511628\n",
      "\n",
      "Features => ['RI*Si', 'Na*Si', 'Mg*Si', 'Mg*Ca', 'Al*Si', 'Al*Ca', 'Si*Ca', 'Si*Ba', 'Si*Fe', 'K*Ca']\n",
      "Accuracy for the fold no. 5 on the test set: 0.5952380952380952\n",
      "\n",
      "SVM 0.6260243632336655\n",
      "CPU times: user 14.8 s, sys: 860 ms, total: 15.6 s\n",
      "Wall time: 18min 25s\n"
     ]
    }
   ],
   "source": [
    "%%time\n",
    "print(f\"Now => {datetime.now()}\")\n",
    "\n",
    "kf = KFold(n_splits=5, shuffle=True, random_state=random.randint(1000,9999))\n",
    "i = 1\n",
    "results = []\n",
    "for train_index, test_index in kf.split(X):\n",
    "    X_train = X.iloc[train_index].loc[:, features]\n",
    "    X_test = X.iloc[test_index][features]\n",
    "    y_train = X.iloc[train_index].loc[:, target_column]\n",
    "    y_test = X.loc[test_index][target_column]\n",
    "    \n",
    "    plain_sfs_svm = SFS(svm.SVC(kernel='linear'), \n",
    "          k_features=(2, 10), \n",
    "          forward=False, \n",
    "          floating=False,\n",
    "          n_jobs=-1)\n",
    "    \n",
    "    plain_sfs_svm.fit(X_train, y_train)\n",
    "    selected_features = X.columns[list(plain_sfs_svm.k_feature_idx_)]\n",
    "    print(f'Features => {list(selected_features)}')\n",
    "    x_t = X_test[selected_features]\n",
    "    \n",
    "    clf = svm.SVC(kernel='linear')\n",
    "    clf.fit(X_train[selected_features], y_train)\n",
    "    score = accuracy_score(y_test, clf.predict(x_t))\n",
    "    results.append(score)\n",
    "    print(f\"Accuracy for the fold no. {i} on the test set: {score}\\n\")\n",
    "    i += 1\n",
    "    \n",
    "print(f'SVM {np.array(results).mean()}')"
   ]
  },
  {
   "cell_type": "markdown",
   "id": "ba9fb630",
   "metadata": {},
   "source": [
    "### Random Forest"
   ]
  },
  {
   "cell_type": "code",
   "execution_count": 41,
   "id": "7135ba68",
   "metadata": {},
   "outputs": [
    {
     "name": "stdout",
     "output_type": "stream",
     "text": [
      "Now => 2022-02-20 12:14:14.928897\n",
      "Features => ['RI', 'RI*Al', 'Na*Mg', 'Al*Ca', 'Al*Ba', 'Si*K', 'Si*Ba', 'Ba*Fe']\n",
      "Accuracy for the fold no. 1 on the test set: 0.7674418604651163\n",
      "\n",
      "Features => ['RI', 'Mg', 'Fe', 'RI*Ba', 'Mg*Ca', 'Al*Ca', 'K*Ca', 'K*Ba']\n",
      "Accuracy for the fold no. 2 on the test set: 0.7441860465116279\n",
      "\n",
      "Features => ['RI', 'Mg', 'RI*Na', 'RI*Ba', 'Mg*Ca', 'Al*K', 'Al*Ca', 'Si*K', 'Ca*Fe']\n",
      "Accuracy for the fold no. 3 on the test set: 0.7674418604651163\n",
      "\n",
      "Features => ['RI', 'RI*Al', 'Na*Si', 'Mg*Si', 'Mg*Ba', 'Al*Ca', 'Al*Ba', 'Si*K', 'Si*Ba', 'Si*Fe']\n",
      "Accuracy for the fold no. 4 on the test set: 0.7209302325581395\n",
      "\n",
      "Features => ['RI', 'Na', 'Ba', 'RI*Mg', 'RI*Al', 'RI*Ca', 'Mg*Ca', 'Al*Fe', 'Si*K', 'Si*Ba']\n",
      "Accuracy for the fold no. 5 on the test set: 0.7380952380952381\n",
      "\n",
      "RandomForest 0.7476190476190476\n",
      "CPU times: user 16.5 s, sys: 1.07 s, total: 17.6 s\n",
      "Wall time: 12min 56s\n"
     ]
    }
   ],
   "source": [
    "%%time\n",
    "print(f\"Now => {datetime.now()}\")\n",
    "\n",
    "kf = KFold(n_splits=5, shuffle=True, random_state=random.randint(1000,9999))\n",
    "i = 1\n",
    "results = []\n",
    "for train_index, test_index in kf.split(X):\n",
    "    X_train = X.iloc[train_index].loc[:, features]\n",
    "    X_test = X.iloc[test_index][features]\n",
    "    y_train = X.iloc[train_index].loc[:, target_column]\n",
    "    y_test = X.loc[test_index][target_column]\n",
    "    \n",
    "    rfc_sbs = SFS(RandomForestClassifier(random_state=0), \n",
    "          k_features=(3, 10), \n",
    "          forward=False, \n",
    "          floating=False, n_jobs=-1)\n",
    "\n",
    "    \n",
    "    rfc_sbs.fit(X_train, y_train)\n",
    "    selected_features = X.columns[list(rfc_sbs.k_feature_idx_)]\n",
    "    print(f'Features => {list(selected_features)}')\n",
    "    x_t = X_test[selected_features]\n",
    "    \n",
    "    clf = RandomForestClassifier(random_state=0)\n",
    "    clf.fit(X_train[selected_features], y_train)\n",
    "    score = accuracy_score(y_test, clf.predict(x_t))\n",
    "    results.append(score)\n",
    "    print(f\"Accuracy for the fold no. {i} on the test set: {score}\\n\")\n",
    "    i += 1\n",
    "    \n",
    "print(f'RandomForest {np.array(results).mean()}')"
   ]
  },
  {
   "cell_type": "markdown",
   "id": "e7dcd44c",
   "metadata": {},
   "source": [
    "### Multilayer Perceptron"
   ]
  },
  {
   "cell_type": "code",
   "execution_count": null,
   "id": "7a0e7f90",
   "metadata": {
    "scrolled": true
   },
   "outputs": [
    {
     "name": "stdout",
     "output_type": "stream",
     "text": [
      "Now => 2022-02-20 13:25:00.213558\n",
      "Features => ['X1', 'X5', 'X8', 'X10', 'X11', 'cos(2*pi*(X1-min(X1)+X3-min(X3)))/(max(X1)+max(X3)-min(X1)-min(X3))']\n",
      "Accuracy for the fold no. 1 on the test set: 0.696969696969697\n",
      "\n"
     ]
    }
   ],
   "source": [
    "%%time\n",
    "print(f\"Now => {datetime.now()}\")\n",
    "\n",
    "kf = KFold(n_splits=5, shuffle=True, random_state=random.randint(1000,9999))\n",
    "i = 1\n",
    "results = []\n",
    "for train_index, test_index in kf.split(X):\n",
    "    X_train = X.iloc[train_index].loc[:, features]\n",
    "    X_test = X.iloc[test_index][features]\n",
    "    y_train = X.iloc[train_index].loc[:, target_column]\n",
    "    y_test = X.loc[test_index][target_column]\n",
    "    \n",
    "    mlp_sbs = SFS(MLPClassifier(random_state=1), \n",
    "          k_features=(1, 10), \n",
    "          forward=False, \n",
    "          floating=False)\n",
    "    \n",
    "    mlp_sbs.fit(X_train, y_train)\n",
    "    selected_features = X.columns[list(mlp_sbs.k_feature_idx_)]\n",
    "    print(f'Features => {list(selected_features)}')\n",
    "    x_t = X_test[selected_features]\n",
    "    \n",
    "    clf = MLPClassifier(random_state=1)\n",
    "    clf.fit(X_train[selected_features], y_train)\n",
    "    score = accuracy_score(y_test, clf.predict(x_t))\n",
    "    results.append(score)\n",
    "    print(f\"Accuracy for the fold no. {i} on the test set: {score}\\n\")\n",
    "    i += 1\n",
    "    \n",
    "print(f'MLP {np.array(results).mean()}')"
   ]
  }
 ],
 "metadata": {
  "kernelspec": {
   "display_name": "Python 3",
   "language": "python",
   "name": "python3"
  },
  "language_info": {
   "codemirror_mode": {
    "name": "ipython",
    "version": 3
   },
   "file_extension": ".py",
   "mimetype": "text/x-python",
   "name": "python",
   "nbconvert_exporter": "python",
   "pygments_lexer": "ipython3",
   "version": "3.8.12"
  }
 },
 "nbformat": 4,
 "nbformat_minor": 5
}
