{
 "cells": [
  {
   "cell_type": "code",
   "execution_count": 2,
   "id": "113fe1f5",
   "metadata": {},
   "outputs": [],
   "source": [
    "import pandas as pd\n",
    "import numpy as np\n",
    "from sklearn.model_selection import train_test_split\n",
    "from sklearn.metrics import mean_squared_error\n",
    "from sklearn.linear_model import LinearRegression\n",
    "from sklearn.preprocessing import PolynomialFeatures\n",
    "\n",
    "\n",
    "from sklearn.naive_bayes import GaussianNB\n",
    "from sklearn import svm\n",
    "from sklearn.linear_model import LogisticRegression\n",
    "from sklearn.neighbors import KNeighborsClassifier\n",
    "from mlxtend.feature_selection import SequentialFeatureSelector as SFS\n",
    "from sklearn.metrics import confusion_matrix, classification_report\n",
    "import warnings\n",
    "warnings.filterwarnings('ignore')\n",
    "from sklearn.metrics import accuracy_score\n",
    "from sklearn.model_selection import cross_val_score\n",
    "\n",
    "from sklearn.ensemble import RandomForestClassifier\n",
    "from sklearn.neural_network import MLPClassifier\n",
    "import random\n",
    "from sklearn.model_selection import KFold"
   ]
  },
  {
   "cell_type": "code",
   "execution_count": 27,
   "id": "4feb5fad",
   "metadata": {},
   "outputs": [],
   "source": [
    "X = pd.read_csv('../datasets/glass_formula_c.csv')"
   ]
  },
  {
   "cell_type": "code",
   "execution_count": 28,
   "id": "97591de9",
   "metadata": {},
   "outputs": [
    {
     "data": {
      "text/plain": [
       "['RI',\n",
       " 'Na',\n",
       " 'Mg',\n",
       " 'Al',\n",
       " 'Si',\n",
       " 'K',\n",
       " 'Ca',\n",
       " 'Ba',\n",
       " 'Fe',\n",
       " 'RI*Na',\n",
       " 'RI*Mg',\n",
       " 'RI*Al',\n",
       " 'RI*Si',\n",
       " 'RI*K',\n",
       " 'RI*Ca',\n",
       " 'RI*Ba',\n",
       " 'RI*Fe',\n",
       " 'Na*Mg',\n",
       " 'Na*Al',\n",
       " 'Na*Si',\n",
       " 'Na*K',\n",
       " 'Na*Ca',\n",
       " 'Na*Ba',\n",
       " 'Na*Fe',\n",
       " 'Mg*Al',\n",
       " 'Mg*Si',\n",
       " 'Mg*K',\n",
       " 'Mg*Ca',\n",
       " 'Mg*Ba',\n",
       " 'Mg*Fe',\n",
       " 'Al*Si',\n",
       " 'Al*K',\n",
       " 'Al*Ca',\n",
       " 'Al*Ba',\n",
       " 'Al*Fe',\n",
       " 'Si*K',\n",
       " 'Si*Ca',\n",
       " 'Si*Ba',\n",
       " 'Si*Fe',\n",
       " 'K*Ca',\n",
       " 'K*Ba',\n",
       " 'K*Fe',\n",
       " 'Ca*Ba',\n",
       " 'Ca*Fe',\n",
       " 'Ba*Fe']"
      ]
     },
     "execution_count": 28,
     "metadata": {},
     "output_type": "execute_result"
    }
   ],
   "source": [
    "target_column = 'Type'\n",
    "y = X[target_column]\n",
    "X_ = X.drop([target_column], axis=1)\n",
    "features = list(X_)\n",
    "features"
   ]
  },
  {
   "cell_type": "markdown",
   "id": "d5df9db3",
   "metadata": {},
   "source": [
    "### KNN"
   ]
  },
  {
   "cell_type": "code",
   "execution_count": 29,
   "id": "2aa7d997",
   "metadata": {},
   "outputs": [
    {
     "name": "stdout",
     "output_type": "stream",
     "text": [
      "Features => ['Al', 'K', 'Ba', 'Mg*Fe', 'Al*Fe']\n",
      "Accuracy for the fold no. 1 on the test set: 0.5581395348837209\n",
      "\n",
      "Features => ['RI', 'Na', 'Al', 'K', 'Ba', 'Mg*Ba', 'Al*K', 'Al*Ba', 'K*Ca']\n",
      "Accuracy for the fold no. 2 on the test set: 0.4186046511627907\n",
      "\n",
      "Features => ['Al', 'K', 'Ca', 'RI*Na', 'RI*Ca', 'Mg*Ca', 'Al*K', 'Si*Ba']\n",
      "Accuracy for the fold no. 3 on the test set: 0.6511627906976745\n",
      "\n",
      "Features => ['RI', 'Na', 'Ca', 'RI*Ca', 'Na*Al', 'Na*Ba', 'Mg*Ca', 'Si*K', 'Si*Ba']\n",
      "Accuracy for the fold no. 4 on the test set: 0.7441860465116279\n",
      "\n",
      "Features => ['Mg', 'RI*Al', 'Mg*K', 'Mg*Ca', 'Ca*Ba']\n",
      "Accuracy for the fold no. 5 on the test set: 0.6904761904761905\n",
      "\n",
      "KNN 0.6125138427464009\n",
      "CPU times: user 3.27 s, sys: 414 ms, total: 3.68 s\n",
      "Wall time: 12.9 s\n"
     ]
    }
   ],
   "source": [
    "%%time\n",
    "kf = KFold(n_splits=5, shuffle=True, random_state=random.randint(100, 2000))\n",
    "i = 1\n",
    "results = []\n",
    "for train_index, test_index in kf.split(X):\n",
    "    X_train = X.iloc[train_index].loc[:, features]\n",
    "    X_test = X.iloc[test_index][features]\n",
    "    y_train = X.iloc[train_index].loc[:, target_column]\n",
    "    y_test = X.loc[test_index][target_column]\n",
    "    \n",
    "    plain_sfs = SFS(KNeighborsClassifier(), \n",
    "          k_features=(5, 10), \n",
    "          forward=True, \n",
    "          floating=False,\n",
    "          scoring='accuracy',\n",
    "          n_jobs=-1)\n",
    "    \n",
    "    plain_sfs.fit(X_train, y_train)\n",
    "    selected_features = X.columns[list(plain_sfs.k_feature_idx_)]\n",
    "    print(f'Features => {list(selected_features)}')\n",
    "    x_t = X_test[selected_features]\n",
    "    \n",
    "    clf = KNeighborsClassifier()\n",
    "    clf.fit(X_train[selected_features], y_train)\n",
    "    score = accuracy_score(y_test, clf.predict(x_t))\n",
    "    results.append(score)\n",
    "    print(f\"Accuracy for the fold no. {i} on the test set: {score}\\n\")\n",
    "    i += 1\n",
    "    \n",
    "print(f'KNN {np.array(results).mean()}')"
   ]
  },
  {
   "cell_type": "markdown",
   "id": "4e0b1a97",
   "metadata": {},
   "source": [
    "#### Logistic Regression"
   ]
  },
  {
   "cell_type": "code",
   "execution_count": 30,
   "id": "d9465576",
   "metadata": {},
   "outputs": [
    {
     "name": "stdout",
     "output_type": "stream",
     "text": [
      "Features => ['RI*Si', 'Na*Al', 'Na*K', 'Na*Ba', 'Na*Fe', 'Al*Ca', 'K*Ca', 'K*Ba']\n",
      "Accuracy for the fold no. 1 on the test set: 0.4883720930232558\n",
      "\n",
      "Features => ['RI', 'Si', 'Ba', 'RI*K', 'Na*Al', 'Al*Ba', 'K*Ca', 'Ba*Fe']\n",
      "Accuracy for the fold no. 2 on the test set: 0.6744186046511628\n",
      "\n",
      "Features => ['RI', 'Al', 'Ba', 'RI*Al', 'RI*Si', 'RI*Fe', 'Na*Al', 'Al*Ca', 'Si*K', 'Ca*Ba']\n",
      "Accuracy for the fold no. 3 on the test set: 0.627906976744186\n",
      "\n",
      "Features => ['Al', 'Na*Al', 'Al*K', 'Al*Ba', 'K*Ca', 'Ca*Fe']\n",
      "Accuracy for the fold no. 4 on the test set: 0.6511627906976745\n",
      "\n",
      "Features => ['RI', 'Si', 'Ba', 'Fe', 'RI*Al', 'Na*Al', 'Na*K', 'K*Fe', 'Ca*Fe', 'Ba*Fe']\n",
      "Accuracy for the fold no. 5 on the test set: 0.5714285714285714\n",
      "\n",
      "LogisticRegression 0.60265780730897\n",
      "CPU times: user 3.49 s, sys: 299 ms, total: 3.79 s\n",
      "Wall time: 1min 21s\n"
     ]
    }
   ],
   "source": [
    "%%time\n",
    "kf = KFold(n_splits=5, shuffle=True, random_state=321)\n",
    "i = 1\n",
    "results = []\n",
    "for train_index, test_index in kf.split(X):\n",
    "    X_train = X.iloc[train_index].loc[:, features]\n",
    "    X_test = X.iloc[test_index][features]\n",
    "    y_train = X.iloc[train_index].loc[:, target_column]\n",
    "    y_test = X.loc[test_index][target_column]\n",
    "    \n",
    "    plain_sfs_ls = SFS(LogisticRegression(), \n",
    "          k_features=(5, 10), \n",
    "          forward=True, \n",
    "          floating=False,\n",
    "          n_jobs=-1)\n",
    "    \n",
    "    plain_sfs_ls.fit(X_train, y_train)\n",
    "    selected_features = X.columns[list(plain_sfs_ls.k_feature_idx_)]\n",
    "    print(f'Features => {list(selected_features)}')\n",
    "    x_t = X_test[selected_features]\n",
    "    \n",
    "    clf = LogisticRegression()\n",
    "    clf.fit(X_train[selected_features], y_train)\n",
    "    score = accuracy_score(y_test, clf.predict(x_t))\n",
    "    results.append(score)\n",
    "    print(f\"Accuracy for the fold no. {i} on the test set: {score}\\n\")\n",
    "    i += 1\n",
    "    \n",
    "print(f'LogisticRegression {np.array(results).mean()}')"
   ]
  },
  {
   "cell_type": "markdown",
   "id": "d04a4fa0",
   "metadata": {},
   "source": [
    "### Naive Bayes"
   ]
  },
  {
   "cell_type": "code",
   "execution_count": 31,
   "id": "917f9c6d",
   "metadata": {},
   "outputs": [
    {
     "name": "stdout",
     "output_type": "stream",
     "text": [
      "Features => ['RI', 'Al', 'RI*Al', 'RI*Si', 'Na*Al', 'Na*Si', 'Mg*Al', 'Al*Si', 'Al*Ca']\n",
      "Accuracy for the fold no. 1 on the test set: 0.6046511627906976\n",
      "\n",
      "Features => ['Na', 'Al', 'Na*Al', 'Al*Si', 'Al*Ca']\n",
      "Accuracy for the fold no. 2 on the test set: 0.6744186046511628\n",
      "\n",
      "Features => ['RI', 'Al', 'Na*Al', 'Na*Si', 'Al*Ca']\n",
      "Accuracy for the fold no. 3 on the test set: 0.5813953488372093\n",
      "\n",
      "Features => ['Na', 'Al', 'Na*Al', 'Mg*Ca', 'Al*Ca']\n",
      "Accuracy for the fold no. 4 on the test set: 0.5813953488372093\n",
      "\n",
      "Features => ['Na', 'Al', 'RI*Na', 'RI*Al', 'RI*Si', 'Na*Al', 'Mg*Al', 'Al*Si', 'Al*K', 'Al*Ca']\n",
      "Accuracy for the fold no. 5 on the test set: 0.5714285714285714\n",
      "\n",
      "Naive Bayes 0.6026578073089702\n",
      "CPU times: user 17.5 s, sys: 145 ms, total: 17.7 s\n",
      "Wall time: 17.8 s\n"
     ]
    }
   ],
   "source": [
    "%%time\n",
    "i = 1\n",
    "results = []\n",
    "for train_index, test_index in kf.split(X):\n",
    "    X_train = X.iloc[train_index].loc[:, features]\n",
    "    X_test = X.iloc[test_index][features]\n",
    "    y_train = X.iloc[train_index].loc[:, target_column]\n",
    "    y_test = X.loc[test_index][target_column]\n",
    "    \n",
    "    naive_bayes = GaussianNB()\n",
    "    plain_sfs_nb = SFS(naive_bayes, \n",
    "          k_features=(5, 10), \n",
    "          forward=True, \n",
    "          floating=False)\n",
    "    \n",
    "    plain_sfs_nb.fit(X_train, y_train)\n",
    "    selected_features = X.columns[list(plain_sfs_nb.k_feature_idx_)]\n",
    "    print(f'Features => {list(selected_features)}')\n",
    "    x_t = X_test[selected_features]\n",
    "    \n",
    "    clf = GaussianNB()\n",
    "    clf.fit(X_train[selected_features], y_train)\n",
    "    score = accuracy_score(y_test, clf.predict(x_t))\n",
    "    results.append(score)\n",
    "    print(f\"Accuracy for the fold no. {i} on the test set: {score}\\n\")\n",
    "    i += 1\n",
    "    \n",
    "print(f'Naive Bayes {np.array(results).mean()}')"
   ]
  },
  {
   "cell_type": "markdown",
   "id": "1fc09f56",
   "metadata": {},
   "source": [
    "### SVM"
   ]
  },
  {
   "cell_type": "code",
   "execution_count": 32,
   "id": "2b0bdeef",
   "metadata": {},
   "outputs": [
    {
     "name": "stderr",
     "output_type": "stream",
     "text": [
      "\n",
      "STOPPING EARLY DUE TO KEYBOARD INTERRUPT..."
     ]
    },
    {
     "ename": "KeyError",
     "evalue": "None",
     "output_type": "error",
     "traceback": [
      "\u001b[0;31m---------------------------------------------------------------------------\u001b[0m",
      "\u001b[0;31mKeyError\u001b[0m                                  Traceback (most recent call last)",
      "\u001b[0;32m<timed exec>\u001b[0m in \u001b[0;36m<module>\u001b[0;34m\u001b[0m\n",
      "\u001b[0;32m/opt/anaconda3/lib/python3.8/site-packages/mlxtend/feature_selection/sequential_feature_selector.py\u001b[0m in \u001b[0;36mfit\u001b[0;34m(self, X, y, custom_feature_names, groups, **fit_params)\u001b[0m\n\u001b[1;32m    566\u001b[0m                     \u001b[0mbest_subset\u001b[0m \u001b[0;34m=\u001b[0m \u001b[0mk\u001b[0m\u001b[0;34m\u001b[0m\u001b[0;34m\u001b[0m\u001b[0m\n\u001b[1;32m    567\u001b[0m             \u001b[0mk_score\u001b[0m \u001b[0;34m=\u001b[0m \u001b[0mmax_score\u001b[0m\u001b[0;34m\u001b[0m\u001b[0;34m\u001b[0m\u001b[0m\n\u001b[0;32m--> 568\u001b[0;31m             \u001b[0mk_idx\u001b[0m \u001b[0;34m=\u001b[0m \u001b[0mself\u001b[0m\u001b[0;34m.\u001b[0m\u001b[0msubsets_\u001b[0m\u001b[0;34m[\u001b[0m\u001b[0mbest_subset\u001b[0m\u001b[0;34m]\u001b[0m\u001b[0;34m[\u001b[0m\u001b[0;34m'feature_idx'\u001b[0m\u001b[0;34m]\u001b[0m\u001b[0;34m\u001b[0m\u001b[0;34m\u001b[0m\u001b[0m\n\u001b[0m\u001b[1;32m    569\u001b[0m \u001b[0;34m\u001b[0m\u001b[0m\n\u001b[1;32m    570\u001b[0m             \u001b[0;32mif\u001b[0m \u001b[0mself\u001b[0m\u001b[0;34m.\u001b[0m\u001b[0mk_features\u001b[0m \u001b[0;34m==\u001b[0m \u001b[0;34m'parsimonious'\u001b[0m\u001b[0;34m:\u001b[0m\u001b[0;34m\u001b[0m\u001b[0;34m\u001b[0m\u001b[0m\n",
      "\u001b[0;31mKeyError\u001b[0m: None"
     ]
    }
   ],
   "source": [
    "%%time\n",
    "kf = KFold(n_splits=5, shuffle=True, random_state=random.randint(1000,9999))\n",
    "i = 1\n",
    "results = []\n",
    "for train_index, test_index in kf.split(X):\n",
    "    X_train = X.iloc[train_index].loc[:, features]\n",
    "    X_test = X.iloc[test_index][features]\n",
    "    y_train = X.iloc[train_index].loc[:, target_column]\n",
    "    y_test = X.loc[test_index][target_column]\n",
    "    \n",
    "    plain_sfs_svm = SFS(svm.SVC(kernel='linear'), \n",
    "          k_features=(2, 10), \n",
    "          forward=False, \n",
    "          floating=False,\n",
    "          n_jobs=-1)\n",
    "    \n",
    "    plain_sfs_svm.fit(X_train, y_train)\n",
    "    selected_features = X.columns[list(plain_sfs_svm.k_feature_idx_)]\n",
    "    print(f'Features => {list(selected_features)}')\n",
    "    x_t = X_test[selected_features]\n",
    "    \n",
    "    clf = svm.SVC(kernel='linear')\n",
    "    clf.fit(X_train[selected_features], y_train)\n",
    "    score = accuracy_score(y_test, clf.predict(x_t))\n",
    "    results.append(score)\n",
    "    print(f\"Accuracy for the fold no. {i} on the test set: {score}\\n\")\n",
    "    i += 1\n",
    "    \n",
    "print(f'SVM {np.array(results).mean()}')"
   ]
  },
  {
   "cell_type": "markdown",
   "id": "35fd7862",
   "metadata": {},
   "source": [
    "### Random Forest"
   ]
  },
  {
   "cell_type": "code",
   "execution_count": 33,
   "id": "c183fa59",
   "metadata": {},
   "outputs": [
    {
     "name": "stdout",
     "output_type": "stream",
     "text": [
      "Features => ['RI', 'Fe', 'RI*Al', 'RI*Ca', 'Mg*Ca', 'K*Ca']\n",
      "Accuracy for the fold no. 1 on the test set: 0.7209302325581395\n",
      "\n",
      "Features => ['RI', 'Ba', 'RI*Mg', 'RI*Si', 'Mg*Ca', 'Al*K', 'Al*Ca', 'Si*Fe', 'K*Fe']\n",
      "Accuracy for the fold no. 2 on the test set: 0.813953488372093\n",
      "\n",
      "Features => ['RI', 'Al', 'RI*Ca', 'RI*Ba', 'Na*Fe', 'Mg*Si', 'Mg*Ca', 'K*Ca']\n",
      "Accuracy for the fold no. 3 on the test set: 0.7674418604651163\n",
      "\n",
      "Features => ['RI', 'Si', 'RI*Ba', 'RI*Fe', 'Na*Fe', 'Mg*Ca', 'Al*K', 'Al*Ca', 'K*Ba', 'K*Fe']\n",
      "Accuracy for the fold no. 4 on the test set: 0.7209302325581395\n",
      "\n",
      "Features => ['RI', 'Si', 'RI*Ca', 'RI*Ba', 'Mg*K', 'Mg*Ca', 'Al*Si', 'Al*Ba', 'Si*K', 'Ba*Fe']\n",
      "Accuracy for the fold no. 5 on the test set: 0.7142857142857143\n",
      "\n",
      "RandomForest 0.7475083056478405\n",
      "CPU times: user 4.97 s, sys: 542 ms, total: 5.52 s\n",
      "Wall time: 6min 30s\n"
     ]
    }
   ],
   "source": [
    "%%time\n",
    "kf = KFold(n_splits=5, shuffle=True, random_state=random.randint(1000,9999))\n",
    "i = 1\n",
    "results = []\n",
    "for train_index, test_index in kf.split(X):\n",
    "    X_train = X.iloc[train_index].loc[:, features]\n",
    "    X_test = X.iloc[test_index][features]\n",
    "    y_train = X.iloc[train_index].loc[:, target_column]\n",
    "    y_test = X.loc[test_index][target_column]\n",
    "    \n",
    "    rfc_sbs = SFS(RandomForestClassifier(random_state=0), \n",
    "          k_features=(3, 10), \n",
    "          forward=False, \n",
    "          floating=False, n_jobs=-1)\n",
    "\n",
    "    \n",
    "    rfc_sbs.fit(X_train, y_train)\n",
    "    selected_features = X.columns[list(rfc_sbs.k_feature_idx_)]\n",
    "    print(f'Features => {list(selected_features)}')\n",
    "    x_t = X_test[selected_features]\n",
    "    \n",
    "    clf = RandomForestClassifier(random_state=0)\n",
    "    clf.fit(X_train[selected_features], y_train)\n",
    "    score = accuracy_score(y_test, clf.predict(x_t))\n",
    "    results.append(score)\n",
    "    print(f\"Accuracy for the fold no. {i} on the test set: {score}\\n\")\n",
    "    i += 1\n",
    "    \n",
    "print(f'RandomForest {np.array(results).mean()}')"
   ]
  },
  {
   "cell_type": "markdown",
   "id": "a1c310c5",
   "metadata": {},
   "source": [
    "### Multilayer Perceptron"
   ]
  },
  {
   "cell_type": "code",
   "execution_count": 34,
   "id": "bb5adcce",
   "metadata": {
    "scrolled": true
   },
   "outputs": [
    {
     "name": "stdout",
     "output_type": "stream",
     "text": [
      "Features => ['Na*Mg', 'Na*Ba', 'Na*Fe', 'Mg*Al', 'Mg*Ca', 'Mg*Fe', 'Si*K']\n",
      "Accuracy for the fold no. 1 on the test set: 0.46511627906976744\n",
      "\n",
      "Features => ['Mg', 'RI*K', 'RI*Ca', 'Na*Al', 'Mg*Al', 'Si*K', 'Si*Ba']\n",
      "Accuracy for the fold no. 2 on the test set: 0.6976744186046512\n",
      "\n",
      "Features => ['RI', 'Na', 'Mg', 'Na*Al', 'Na*K', 'Na*Ba', 'Al*Ca', 'Si*Fe', 'K*Ca', 'K*Fe']\n",
      "Accuracy for the fold no. 3 on the test set: 0.4883720930232558\n",
      "\n",
      "Features => ['Si', 'Fe', 'RI*K', 'RI*Ca', 'Na*Al', 'Na*K', 'Al*K', 'Ca*Ba']\n",
      "Accuracy for the fold no. 4 on the test set: 0.6976744186046512\n",
      "\n",
      "Features => ['Al', 'Ba', 'RI*Mg', 'RI*Al', 'RI*Ba', 'Na*Mg', 'Mg*Ca', 'Al*Ba', 'Si*K', 'Ba*Fe']\n",
      "Accuracy for the fold no. 5 on the test set: 0.5714285714285714\n",
      "\n",
      "MLP 0.5840531561461795\n",
      "CPU times: user 2h 23min 29s, sys: 4min 27s, total: 2h 27min 57s\n",
      "Wall time: 26min 12s\n"
     ]
    }
   ],
   "source": [
    "%%time\n",
    "kf = KFold(n_splits=5, shuffle=True, random_state=random.randint(1000,9999))\n",
    "i = 1\n",
    "results = []\n",
    "for train_index, test_index in kf.split(X):\n",
    "    X_train = X.iloc[train_index].loc[:, features]\n",
    "    X_test = X.iloc[test_index][features]\n",
    "    y_train = X.iloc[train_index].loc[:, target_column]\n",
    "    y_test = X.loc[test_index][target_column]\n",
    "    \n",
    "    mlp_sbs = SFS(MLPClassifier(random_state=1), \n",
    "          k_features=(1, 10), \n",
    "          forward=False, \n",
    "          floating=False)\n",
    "    \n",
    "    mlp_sbs.fit(X_train, y_train)\n",
    "    selected_features = X.columns[list(mlp_sbs.k_feature_idx_)]\n",
    "    print(f'Features => {list(selected_features)}')\n",
    "    x_t = X_test[selected_features]\n",
    "    \n",
    "    clf = MLPClassifier(random_state=1)\n",
    "    clf.fit(X_train[selected_features], y_train)\n",
    "    score = accuracy_score(y_test, clf.predict(x_t))\n",
    "    results.append(score)\n",
    "    print(f\"Accuracy for the fold no. {i} on the test set: {score}\\n\")\n",
    "    i += 1\n",
    "    \n",
    "print(f'MLP {np.array(results).mean()}')"
   ]
  }
 ],
 "metadata": {
  "kernelspec": {
   "display_name": "Python 3",
   "language": "python",
   "name": "python3"
  },
  "language_info": {
   "codemirror_mode": {
    "name": "ipython",
    "version": 3
   },
   "file_extension": ".py",
   "mimetype": "text/x-python",
   "name": "python",
   "nbconvert_exporter": "python",
   "pygments_lexer": "ipython3",
   "version": "3.8.12"
  }
 },
 "nbformat": 4,
 "nbformat_minor": 5
}
