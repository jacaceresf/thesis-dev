{
 "cells": [
  {
   "cell_type": "code",
   "execution_count": 4,
   "id": "113fe1f5",
   "metadata": {},
   "outputs": [],
   "source": [
    "import pandas as pd\n",
    "import numpy as np\n",
    "from sklearn.model_selection import train_test_split\n",
    "from sklearn.metrics import mean_squared_error\n",
    "from sklearn.linear_model import LinearRegression\n",
    "from sklearn.preprocessing import PolynomialFeatures\n",
    "\n",
    "\n",
    "from sklearn.naive_bayes import GaussianNB\n",
    "from sklearn import svm\n",
    "from sklearn.linear_model import LogisticRegression\n",
    "from sklearn.neighbors import KNeighborsClassifier\n",
    "from mlxtend.feature_selection import SequentialFeatureSelector as SFS\n",
    "from sklearn.metrics import confusion_matrix, classification_report\n",
    "import warnings\n",
    "warnings.filterwarnings('ignore')\n",
    "from sklearn.metrics import accuracy_score\n",
    "from sklearn.model_selection import cross_val_score\n",
    "\n",
    "from sklearn.ensemble import RandomForestClassifier\n",
    "from sklearn.neural_network import MLPClassifier\n",
    "import random\n",
    "from sklearn.model_selection import KFold\n",
    "from datetime import datetime\n"
   ]
  },
  {
   "cell_type": "code",
   "execution_count": 5,
   "id": "4feb5fad",
   "metadata": {},
   "outputs": [
    {
     "name": "stdout",
     "output_type": "stream",
     "text": [
      "Now => 2022-02-13 16:35:51.092800\n"
     ]
    }
   ],
   "source": [
    "X = pd.read_csv('../datasets/glass_formula_a.csv')"
   ]
  },
  {
   "cell_type": "code",
   "execution_count": 3,
   "id": "97591de9",
   "metadata": {},
   "outputs": [
    {
     "data": {
      "text/plain": [
       "['RI',\n",
       " 'Na',\n",
       " 'Mg',\n",
       " 'Al',\n",
       " 'Si',\n",
       " 'K',\n",
       " 'Ca',\n",
       " 'Ba',\n",
       " 'Fe',\n",
       " 'cos(RI+Na)',\n",
       " 'cos(RI+Mg)',\n",
       " 'cos(RI+Al)',\n",
       " 'cos(RI+Si)',\n",
       " 'cos(RI+K)',\n",
       " 'cos(RI+Ca)',\n",
       " 'cos(RI+Ba)',\n",
       " 'cos(RI+Fe)',\n",
       " 'cos(Na+Mg)',\n",
       " 'cos(Na+Al)',\n",
       " 'cos(Na+Si)',\n",
       " 'cos(Na+K)',\n",
       " 'cos(Na+Ca)',\n",
       " 'cos(Na+Ba)',\n",
       " 'cos(Na+Fe)',\n",
       " 'cos(Mg+Al)',\n",
       " 'cos(Mg+Si)',\n",
       " 'cos(Mg+K)',\n",
       " 'cos(Mg+Ca)',\n",
       " 'cos(Mg+Ba)',\n",
       " 'cos(Mg+Fe)',\n",
       " 'cos(Al+Si)',\n",
       " 'cos(Al+K)',\n",
       " 'cos(Al+Ca)',\n",
       " 'cos(Al+Ba)',\n",
       " 'cos(Al+Fe)',\n",
       " 'cos(Si+K)',\n",
       " 'cos(Si+Ca)',\n",
       " 'cos(Si+Ba)',\n",
       " 'cos(Si+Fe)',\n",
       " 'cos(K+Ca)',\n",
       " 'cos(K+Ba)',\n",
       " 'cos(K+Fe)',\n",
       " 'cos(Ca+Ba)',\n",
       " 'cos(Ca+Fe)',\n",
       " 'cos(Ba+Fe)']"
      ]
     },
     "execution_count": 3,
     "metadata": {},
     "output_type": "execute_result"
    }
   ],
   "source": [
    "target_column = 'Type'\n",
    "y = X[target_column]\n",
    "X_ = X.drop([target_column], axis=1)\n",
    "features = list(X_)\n",
    "features"
   ]
  },
  {
   "cell_type": "markdown",
   "id": "d5df9db3",
   "metadata": {},
   "source": [
    "### KNN"
   ]
  },
  {
   "cell_type": "code",
   "execution_count": 6,
   "id": "2aa7d997",
   "metadata": {},
   "outputs": [
    {
     "name": "stdout",
     "output_type": "stream",
     "text": [
      "Now => 2022-02-13 16:35:59.932576\n",
      "Features => ['Na', 'Al', 'Si', 'Ca', 'cos(Na+Mg)', 'cos(Na+Al)', 'cos(Mg+Ca)', 'cos(Si+K)', 'cos(Ca+Fe)']\n",
      "Accuracy for the fold no. 1 on the test set: 0.6511627906976745\n",
      "\n",
      "Features => ['Na', 'Al', 'Si', 'Ca', 'cos(RI+Si)', 'cos(Mg+K)', 'cos(Mg+Ca)', 'cos(Al+Si)']\n",
      "Accuracy for the fold no. 2 on the test set: 0.627906976744186\n",
      "\n",
      "Features => ['Mg', 'Al', 'Ca', 'cos(Na+Si)', 'cos(Na+Ba)', 'cos(Al+Si)', 'cos(Si+K)']\n",
      "Accuracy for the fold no. 3 on the test set: 0.6046511627906976\n",
      "\n",
      "Features => ['Na', 'Si', 'K', 'Ca', 'cos(Na+Al)', 'cos(Al+Ba)']\n",
      "Accuracy for the fold no. 4 on the test set: 0.6511627906976745\n",
      "\n",
      "Features => ['Na', 'Al', 'Si', 'Ca', 'Ba', 'cos(RI+Si)', 'cos(Na+Ba)', 'cos(Mg+Ca)', 'cos(Al+Ca)', 'cos(Al+Fe)']\n",
      "Accuracy for the fold no. 5 on the test set: 0.6666666666666666\n",
      "\n",
      "KNN 0.6403100775193798\n",
      "CPU times: user 11.3 s, sys: 1.08 s, total: 12.4 s\n",
      "Wall time: 20.8 s\n"
     ]
    }
   ],
   "source": [
    "%%time\n",
    "print(f\"Now => {datetime.now()}\")\n",
    "kf = KFold(n_splits=5, shuffle=True, random_state=random.randint(100, 2000))\n",
    "i = 1\n",
    "results = []\n",
    "for train_index, test_index in kf.split(X):\n",
    "    X_train = X.iloc[train_index].loc[:, features]\n",
    "    X_test = X.iloc[test_index][features]\n",
    "    y_train = X.iloc[train_index].loc[:, target_column]\n",
    "    y_test = X.loc[test_index][target_column]\n",
    "    \n",
    "    plain_sfs = SFS(KNeighborsClassifier(), \n",
    "          k_features=(5, 10), \n",
    "          forward=False, \n",
    "          floating=False,\n",
    "          n_jobs=-1)\n",
    "    \n",
    "    plain_sfs.fit(X_train, y_train)\n",
    "    selected_features = X.columns[list(plain_sfs.k_feature_idx_)]\n",
    "    print(f'Features => {list(selected_features)}')\n",
    "    x_t = X_test[selected_features]\n",
    "    \n",
    "    clf = KNeighborsClassifier()\n",
    "    clf.fit(X_train[selected_features], y_train)\n",
    "    score = accuracy_score(y_test, clf.predict(x_t))\n",
    "    results.append(score)\n",
    "    print(f\"Accuracy for the fold no. {i} on the test set: {score}\\n\")\n",
    "    i += 1\n",
    "    \n",
    "print(f'KNN {np.array(results).mean()}')"
   ]
  },
  {
   "cell_type": "markdown",
   "id": "4e0b1a97",
   "metadata": {},
   "source": [
    "#### Logistic Regression"
   ]
  },
  {
   "cell_type": "code",
   "execution_count": 6,
   "id": "d9465576",
   "metadata": {},
   "outputs": [
    {
     "name": "stdout",
     "output_type": "stream",
     "text": [
      "Features => ['Mg', 'Al', 'cos(RI+Si)', 'cos(RI+Ca)', 'cos(Na+Si)', 'cos(Na+Fe)', 'cos(Al+Ba)', 'cos(K+Ca)', 'cos(Ca+Fe)']\n",
      "Accuracy for the fold no. 1 on the test set: 0.6976744186046512\n",
      "\n",
      "Features => ['Na', 'Si', 'cos(Mg+Fe)', 'cos(Al+Si)', 'cos(Al+Fe)', 'cos(Si+Fe)', 'cos(K+Ca)']\n",
      "Accuracy for the fold no. 2 on the test set: 0.7441860465116279\n",
      "\n",
      "Features => ['cos(RI+Mg)', 'cos(RI+Ba)', 'cos(Na+Mg)', 'cos(Na+Ba)', 'cos(Mg+Al)', 'cos(Al+Si)', 'cos(Al+Ba)', 'cos(Si+Ca)', 'cos(Si+Fe)', 'cos(Ca+Fe)']\n",
      "Accuracy for the fold no. 3 on the test set: 0.6744186046511628\n",
      "\n",
      "Features => ['Ca', 'cos(RI+Ba)', 'cos(Na+Mg)', 'cos(Mg+Fe)', 'cos(Al+K)', 'cos(Al+Ca)', 'cos(Al+Fe)', 'cos(K+Ca)', 'cos(K+Ba)', 'cos(Ca+Fe)']\n",
      "Accuracy for the fold no. 4 on the test set: 0.7209302325581395\n",
      "\n",
      "Features => ['Na', 'Al', 'Si', 'cos(RI+Mg)', 'cos(RI+Si)', 'cos(Al+Ba)', 'cos(Si+Ca)', 'cos(K+Ca)', 'cos(Ca+Ba)']\n",
      "Accuracy for the fold no. 5 on the test set: 0.5714285714285714\n",
      "\n",
      "LogisticRegression 0.6817275747508305\n",
      "CPU times: user 13.3 s, sys: 1.11 s, total: 14.4 s\n",
      "Wall time: 4min 2s\n"
     ]
    }
   ],
   "source": [
    "%%time\n",
    "print(f\"Now => {datetime.now()}\")\n",
    "kf = KFold(n_splits=5, shuffle=True, random_state=321)\n",
    "i = 1\n",
    "results = []\n",
    "for train_index, test_index in kf.split(X):\n",
    "    X_train = X.iloc[train_index].loc[:, features]\n",
    "    X_test = X.iloc[test_index][features]\n",
    "    y_train = X.iloc[train_index].loc[:, target_column]\n",
    "    y_test = X.loc[test_index][target_column]\n",
    "    \n",
    "    plain_sfs_ls = SFS(LogisticRegression(), \n",
    "          k_features=(5, 10), \n",
    "          forward=False, \n",
    "          floating=False,\n",
    "          n_jobs=-1)\n",
    "    \n",
    "    plain_sfs_ls.fit(X_train, y_train)\n",
    "    selected_features = X.columns[list(plain_sfs_ls.k_feature_idx_)]\n",
    "    print(f'Features => {list(selected_features)}')\n",
    "    x_t = X_test[selected_features]\n",
    "    \n",
    "    clf = LogisticRegression()\n",
    "    clf.fit(X_train[selected_features], y_train)\n",
    "    score = accuracy_score(y_test, clf.predict(x_t))\n",
    "    results.append(score)\n",
    "    print(f\"Accuracy for the fold no. {i} on the test set: {score}\\n\")\n",
    "    i += 1\n",
    "    \n",
    "print(f'LogisticRegression {np.array(results).mean()}')"
   ]
  },
  {
   "cell_type": "markdown",
   "id": "d04a4fa0",
   "metadata": {},
   "source": [
    "### Naive Bayes"
   ]
  },
  {
   "cell_type": "code",
   "execution_count": 7,
   "id": "917f9c6d",
   "metadata": {},
   "outputs": [
    {
     "name": "stdout",
     "output_type": "stream",
     "text": [
      "Features => ['Na', 'K', 'cos(RI+Ba)', 'cos(Na+Al)', 'cos(Mg+K)', 'cos(Al+K)', 'cos(Al+Fe)', 'cos(K+Ca)', 'cos(Ca+Fe)']\n",
      "Accuracy for the fold no. 1 on the test set: 0.627906976744186\n",
      "\n",
      "Features => ['Na', 'Al', 'K', 'cos(Na+Al)', 'cos(Na+K)', 'cos(Mg+K)', 'cos(Al+Ca)', 'cos(Al+Ba)', 'cos(Ca+Fe)']\n",
      "Accuracy for the fold no. 2 on the test set: 0.4418604651162791\n",
      "\n",
      "Features => ['K', 'Ca', 'cos(RI+Al)', 'cos(Na+K)', 'cos(Al+K)', 'cos(Al+Fe)', 'cos(Si+Ca)', 'cos(K+Ca)', 'cos(Ca+Ba)', 'cos(Ba+Fe)']\n",
      "Accuracy for the fold no. 3 on the test set: 0.5116279069767442\n",
      "\n",
      "Features => ['Al', 'cos(RI+Na)', 'cos(RI+K)', 'cos(RI+Ca)', 'cos(Na+Al)', 'cos(Na+K)', 'cos(Al+Ba)', 'cos(Al+Fe)', 'cos(Ca+Ba)', 'cos(Ca+Fe)']\n",
      "Accuracy for the fold no. 4 on the test set: 0.627906976744186\n",
      "\n",
      "Features => ['Al', 'cos(RI+Ca)', 'cos(Na+Ba)', 'cos(Mg+Al)', 'cos(Mg+K)', 'cos(Si+K)', 'cos(Si+Fe)', 'cos(K+Fe)', 'cos(Ca+Ba)', 'cos(Ca+Fe)']\n",
      "Accuracy for the fold no. 5 on the test set: 0.5714285714285714\n",
      "\n",
      "Naive Bayes 0.5561461794019934\n",
      "CPU times: user 47.9 s, sys: 581 ms, total: 48.5 s\n",
      "Wall time: 48.9 s\n"
     ]
    }
   ],
   "source": [
    "%%time\n",
    "print(f\"Now => {datetime.now()}\")\n",
    "i = 1\n",
    "results = []\n",
    "kf = KFold(n_splits=5, shuffle=True, random_state=3421)\n",
    "for train_index, test_index in kf.split(X):\n",
    "    X_train = X.iloc[train_index].loc[:, features]\n",
    "    X_test = X.iloc[test_index][features]\n",
    "    y_train = X.iloc[train_index].loc[:, target_column]\n",
    "    y_test = X.loc[test_index][target_column]\n",
    "    \n",
    "    naive_bayes = GaussianNB()\n",
    "    plain_sfs_nb = SFS(naive_bayes, \n",
    "          k_features=(5, 10), \n",
    "          forward=False, \n",
    "          floating=False)\n",
    "    \n",
    "    plain_sfs_nb.fit(X_train, y_train)\n",
    "    selected_features = X.columns[list(plain_sfs_nb.k_feature_idx_)]\n",
    "    print(f'Features => {list(selected_features)}')\n",
    "    x_t = X_test[selected_features]\n",
    "    \n",
    "    clf = GaussianNB()\n",
    "    clf.fit(X_train[selected_features], y_train)\n",
    "    score = accuracy_score(y_test, clf.predict(x_t))\n",
    "    results.append(score)\n",
    "    print(f\"Accuracy for the fold no. {i} on the test set: {score}\\n\")\n",
    "    i += 1\n",
    "    \n",
    "print(f'Naive Bayes {np.array(results).mean()}')"
   ]
  },
  {
   "cell_type": "markdown",
   "id": "1fc09f56",
   "metadata": {},
   "source": [
    "### SVM"
   ]
  },
  {
   "cell_type": "code",
   "execution_count": 8,
   "id": "2b0bdeef",
   "metadata": {},
   "outputs": [
    {
     "name": "stdout",
     "output_type": "stream",
     "text": [
      "Features => ['Na', 'Mg', 'Si', 'cos(Na+Fe)', 'cos(Mg+Al)', 'cos(Al+Fe)', 'cos(Si+Ba)', 'cos(K+Ca)']\n",
      "Accuracy for the fold no. 1 on the test set: 0.7441860465116279\n",
      "\n",
      "Features => ['Na', 'Mg', 'Al', 'Si', 'cos(RI+Ca)', 'cos(Na+Mg)', 'cos(Na+Si)', 'cos(K+Ba)', 'cos(Ca+Ba)', 'cos(Ca+Fe)']\n",
      "Accuracy for the fold no. 2 on the test set: 0.6744186046511628\n",
      "\n",
      "Features => ['Na', 'Mg', 'Al', 'Ca', 'cos(RI+Si)', 'cos(Na+Mg)', 'cos(Na+Ba)', 'cos(Si+K)', 'cos(K+Ca)', 'cos(Ca+Ba)']\n",
      "Accuracy for the fold no. 3 on the test set: 0.7209302325581395\n",
      "\n",
      "Features => ['Mg', 'Al', 'Ca', 'cos(Na+Ca)', 'cos(Na+Ba)', 'cos(Mg+Al)', 'cos(Al+Si)', 'cos(Si+K)', 'cos(Ca+Ba)', 'cos(Ca+Fe)']\n",
      "Accuracy for the fold no. 4 on the test set: 0.5813953488372093\n",
      "\n",
      "Features => ['K', 'cos(Na+Si)', 'cos(Na+Ba)', 'cos(Mg+Ba)', 'cos(Al+K)', 'cos(Al+Ca)', 'cos(Al+Fe)', 'cos(Si+K)', 'cos(K+Ca)', 'cos(Ca+Ba)']\n",
      "Accuracy for the fold no. 5 on the test set: 0.6666666666666666\n",
      "\n",
      "SVM 0.6775193798449612\n",
      "CPU times: user 10.2 s, sys: 868 ms, total: 11.1 s\n",
      "Wall time: 19.1 s\n"
     ]
    }
   ],
   "source": [
    "%%time\n",
    "print(f\"Now => {datetime.now()}\")\n",
    "\n",
    "kf = KFold(n_splits=5, shuffle=True, random_state=random.randint(1000,9999))\n",
    "i = 1\n",
    "results = []\n",
    "for train_index, test_index in kf.split(X):\n",
    "    X_train = X.iloc[train_index].loc[:, features]\n",
    "    X_test = X.iloc[test_index][features]\n",
    "    y_train = X.iloc[train_index].loc[:, target_column]\n",
    "    y_test = X.loc[test_index][target_column]\n",
    "    \n",
    "    plain_sfs_svm = SFS(svm.SVC(kernel='linear'), \n",
    "          k_features=(2, 10), \n",
    "          forward=False, \n",
    "          floating=False,\n",
    "          n_jobs=-1)\n",
    "    \n",
    "    plain_sfs_svm.fit(X_train, y_train)\n",
    "    selected_features = X.columns[list(plain_sfs_svm.k_feature_idx_)]\n",
    "    print(f'Features => {list(selected_features)}')\n",
    "    x_t = X_test[selected_features]\n",
    "    \n",
    "    clf = svm.SVC(kernel='linear')\n",
    "    clf.fit(X_train[selected_features], y_train)\n",
    "    score = accuracy_score(y_test, clf.predict(x_t))\n",
    "    results.append(score)\n",
    "    print(f\"Accuracy for the fold no. {i} on the test set: {score}\\n\")\n",
    "    i += 1\n",
    "    \n",
    "print(f'SVM {np.array(results).mean()}')"
   ]
  },
  {
   "cell_type": "markdown",
   "id": "35fd7862",
   "metadata": {},
   "source": [
    "### Random Forest"
   ]
  },
  {
   "cell_type": "code",
   "execution_count": 9,
   "id": "b6c48129",
   "metadata": {},
   "outputs": [
    {
     "name": "stdout",
     "output_type": "stream",
     "text": [
      "Features => ['Al', 'cos(RI+K)', 'cos(RI+Fe)', 'cos(Na+Mg)', 'cos(Na+Ba)', 'cos(Na+Fe)', 'cos(Mg+K)', 'cos(Mg+Fe)', 'cos(Al+Ba)', 'cos(K+Ba)']\n",
      "Accuracy for the fold no. 1 on the test set: 0.8837209302325582\n",
      "\n",
      "Features => ['cos(RI+Na)', 'cos(RI+Al)', 'cos(RI+K)', 'cos(RI+Ba)', 'cos(Na+Mg)', 'cos(Na+Si)', 'cos(Mg+K)', 'cos(Mg+Ca)', 'cos(Mg+Ba)', 'cos(Al+Ba)']\n",
      "Accuracy for the fold no. 2 on the test set: 0.7674418604651163\n",
      "\n",
      "Features => ['RI', 'Al', 'cos(RI+Ba)', 'cos(RI+Fe)', 'cos(Na+K)', 'cos(Na+Ca)', 'cos(Mg+Ba)', 'cos(K+Ca)']\n",
      "Accuracy for the fold no. 3 on the test set: 0.8372093023255814\n",
      "\n",
      "Features => ['RI', 'Al', 'K', 'cos(RI+Ba)', 'cos(Na+Si)', 'cos(Na+K)', 'cos(Mg+Si)', 'cos(Mg+K)', 'cos(Mg+Ba)', 'cos(Si+Fe)']\n",
      "Accuracy for the fold no. 4 on the test set: 0.7441860465116279\n",
      "\n",
      "Features => ['RI', 'cos(RI+Al)', 'cos(RI+Ba)', 'cos(Mg+Al)', 'cos(Al+Ca)', 'cos(Al+Ba)', 'cos(K+Fe)']\n",
      "Accuracy for the fold no. 5 on the test set: 0.7619047619047619\n",
      "\n",
      "RandomForest 0.7988925802879291\n",
      "CPU times: user 17.3 s, sys: 1.08 s, total: 18.4 s\n",
      "Wall time: 13min 49s\n"
     ]
    }
   ],
   "source": [
    "%%time\n",
    "print(f\"Now => {datetime.now()}\")\n",
    "\n",
    "kf = KFold(n_splits=5, shuffle=True, random_state=random.randint(1000,9999))\n",
    "i = 1\n",
    "results = []\n",
    "for train_index, test_index in kf.split(X):\n",
    "    X_train = X.iloc[train_index].loc[:, features]\n",
    "    X_test = X.iloc[test_index][features]\n",
    "    y_train = X.iloc[train_index].loc[:, target_column]\n",
    "    y_test = X.loc[test_index][target_column]\n",
    "    \n",
    "    rfc_sbs = SFS(RandomForestClassifier(random_state=0), \n",
    "          k_features=(3, 10), \n",
    "          forward=False, \n",
    "          floating=False, n_jobs=-1)\n",
    "\n",
    "    \n",
    "    rfc_sbs.fit(X_train, y_train)\n",
    "    selected_features = X.columns[list(rfc_sbs.k_feature_idx_)]\n",
    "    print(f'Features => {list(selected_features)}')\n",
    "    x_t = X_test[selected_features]\n",
    "    \n",
    "    clf = RandomForestClassifier(random_state=0)\n",
    "    clf.fit(X_train[selected_features], y_train)\n",
    "    score = accuracy_score(y_test, clf.predict(x_t))\n",
    "    results.append(score)\n",
    "    print(f\"Accuracy for the fold no. {i} on the test set: {score}\\n\")\n",
    "    i += 1\n",
    "    \n",
    "print(f'RandomForest {np.array(results).mean()}')"
   ]
  },
  {
   "cell_type": "markdown",
   "id": "a1c310c5",
   "metadata": {},
   "source": [
    "### Multilayer Perceptron"
   ]
  },
  {
   "cell_type": "code",
   "execution_count": null,
   "id": "bb5adcce",
   "metadata": {
    "scrolled": true
   },
   "outputs": [
    {
     "name": "stdout",
     "output_type": "stream",
     "text": [
      "Features => ['cos(Na+Mg)', 'cos(Na+Al)', 'cos(Na+Si)', 'cos(Na+K)', 'cos(Na+Fe)', 'cos(Al+Si)', 'cos(Al+K)', 'cos(Si+Ba)', 'cos(K+Ca)', 'cos(Ca+Fe)']\n",
      "Accuracy for the fold no. 1 on the test set: 0.7441860465116279\n",
      "\n"
     ]
    }
   ],
   "source": [
    "%%time\n",
    "print(f\"Now => {datetime.now()}\")\n",
    "\n",
    "kf = KFold(n_splits=5, shuffle=True, random_state=random.randint(1000,9999))\n",
    "i = 1\n",
    "results = []\n",
    "for train_index, test_index in kf.split(X):\n",
    "    X_train = X.iloc[train_index].loc[:, features]\n",
    "    X_test = X.iloc[test_index][features]\n",
    "    y_train = X.iloc[train_index].loc[:, target_column]\n",
    "    y_test = X.loc[test_index][target_column]\n",
    "    \n",
    "    mlp_sbs = SFS(MLPClassifier(random_state=1), \n",
    "          k_features=(1, 10), \n",
    "          forward=False, \n",
    "          floating=False)\n",
    "    \n",
    "    mlp_sbs.fit(X_train, y_train)\n",
    "    selected_features = X.columns[list(mlp_sbs.k_feature_idx_)]\n",
    "    print(f'Features => {list(selected_features)}')\n",
    "    x_t = X_test[selected_features]\n",
    "    \n",
    "    clf = MLPClassifier(random_state=1)\n",
    "    clf.fit(X_train[selected_features], y_train)\n",
    "    score = accuracy_score(y_test, clf.predict(x_t))\n",
    "    results.append(score)\n",
    "    print(f\"Accuracy for the fold no. {i} on the test set: {score}\\n\")\n",
    "    i += 1\n",
    "    \n",
    "print(f'MLP {np.array(results).mean()}')"
   ]
  }
 ],
 "metadata": {
  "kernelspec": {
   "display_name": "Python 3",
   "language": "python",
   "name": "python3"
  },
  "language_info": {
   "codemirror_mode": {
    "name": "ipython",
    "version": 3
   },
   "file_extension": ".py",
   "mimetype": "text/x-python",
   "name": "python",
   "nbconvert_exporter": "python",
   "pygments_lexer": "ipython3",
   "version": "3.8.12"
  }
 },
 "nbformat": 4,
 "nbformat_minor": 5
}
