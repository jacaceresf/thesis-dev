{
 "cells": [
  {
   "cell_type": "code",
   "execution_count": 194,
   "id": "113fe1f5",
   "metadata": {},
   "outputs": [],
   "source": [
    "import pandas as pd\n",
    "import numpy as np\n",
    "from sklearn.model_selection import train_test_split\n",
    "from sklearn.metrics import mean_squared_error\n",
    "from sklearn.linear_model import LinearRegression\n",
    "from sklearn.preprocessing import PolynomialFeatures\n",
    "\n",
    "\n",
    "from sklearn.naive_bayes import GaussianNB\n",
    "from sklearn import svm\n",
    "from sklearn.linear_model import LogisticRegression\n",
    "from sklearn.neighbors import KNeighborsClassifier\n",
    "from mlxtend.feature_selection import SequentialFeatureSelector as SFS\n",
    "from sklearn.metrics import classification_report\n",
    "import warnings\n",
    "warnings.filterwarnings('ignore')\n",
    "from sklearn.metrics import accuracy_score\n",
    "from sklearn.model_selection import cross_val_score\n",
    "from sklearn.feature_selection import RFECV, RFE\n",
    "from sklearn import svm\n",
    "from sklearn.svm import LinearSVC"
   ]
  },
  {
   "cell_type": "code",
   "execution_count": null,
   "id": "4feb5fad",
   "metadata": {},
   "outputs": [],
   "source": [
    "X = pd.read_csv('../datasets/wine_formula_b.csv')\n",
    "X"
   ]
  },
  {
   "cell_type": "code",
   "execution_count": null,
   "id": "b629e334",
   "metadata": {},
   "outputs": [],
   "source": [
    "df = pd.read_csv('../datasets/winequality-white.csv', sep=';')\n",
    "# df = pd.read_csv(\"https://raw.githubusercontent.com/SahilSinhaLpu/Machine-Learning/master/Datasets/SomvervilleHappines.csv\")\n",
    "df\n",
    "\n",
    "### Speaker DS\n",
    "# Y = df['language']\n",
    "\n",
    "### Algerian DS\n",
    "# Y = df['Classes']\n",
    "\n",
    "### Banknote DS\n",
    "# Y = df['Class']\n",
    "\n",
    "### User knowledge DS\n",
    "# Y = df['UNS']\n",
    "\n",
    "## Wine quality DS\n",
    "Y = df['quality']\n",
    "\n",
    "### Somerville DS\n",
    "# Y = df['D']\n",
    "\n",
    "## Pima Indians Diabetes DS\n",
    "# Y = df['Outcome']"
   ]
  },
  {
   "cell_type": "code",
   "execution_count": null,
   "id": "e3e5927d",
   "metadata": {},
   "outputs": [],
   "source": [
    "X_train, X_test, y_train, y_test = train_test_split(X, Y, test_size=0.15)"
   ]
  },
  {
   "cell_type": "markdown",
   "id": "0c6a123e",
   "metadata": {},
   "source": [
    "### Logistic Regression"
   ]
  },
  {
   "cell_type": "code",
   "execution_count": null,
   "id": "115a3a25",
   "metadata": {},
   "outputs": [],
   "source": [
    "lr_rfecv = RFECV(estimator=LogisticRegression(), \n",
    "                  cv=10, \n",
    "                  min_features_to_select=10,\n",
    "                scoring=\"accuracy\")\n",
    "lr_rfecv.fit(X, Y)"
   ]
  },
  {
   "cell_type": "code",
   "execution_count": null,
   "id": "13438a27",
   "metadata": {},
   "outputs": [],
   "source": [
    "feature_names = list(X.columns)\n",
    "# to print out results\n",
    "selected_features = []\n",
    "for idx, name in enumerate(feature_names):\n",
    "    if lr_rfecv.support_[idx]:\n",
    "        selected_features.append(name)"
   ]
  },
  {
   "cell_type": "code",
   "execution_count": null,
   "id": "a1c1e3c3",
   "metadata": {},
   "outputs": [],
   "source": [
    "x_lr = X_test[selected_features]\n",
    "lr = LogisticRegression()\n",
    "lr.fit(x_lr, y_test)\n",
    "print(cross_val_score(lr, x_lr, y_test, cv=10).mean())"
   ]
  },
  {
   "cell_type": "markdown",
   "id": "1fc09f56",
   "metadata": {},
   "source": [
    "### SVM"
   ]
  },
  {
   "cell_type": "code",
   "execution_count": null,
   "id": "2b0bdeef",
   "metadata": {},
   "outputs": [],
   "source": [
    "rf_svm_ = RFECV(estimator=LinearSVC(), \n",
    "                cv=10, \n",
    "                min_features_to_select=10,\n",
    "                scoring=\"accuracy\")\n",
    "rf_svm_.fit(X, Y)"
   ]
  },
  {
   "cell_type": "code",
   "execution_count": null,
   "id": "610d2d44",
   "metadata": {},
   "outputs": [],
   "source": [
    "feature_names = list(X.columns)\n",
    "# to print out results\n",
    "selected_features = []\n",
    "for idx, name in enumerate(feature_names):\n",
    "    if rf_svm_.support_[idx]:\n",
    "        selected_features.append(name)"
   ]
  },
  {
   "cell_type": "code",
   "execution_count": null,
   "id": "c3e2956e",
   "metadata": {},
   "outputs": [],
   "source": [
    "x_lr = X_test[selected_features]\n",
    "lr = svm.SVC()\n",
    "lr.fit(x_lr, y_test)\n",
    "\n",
    "print(cross_val_score(lr, x_lr, y_test, cv=10).mean())"
   ]
  }
 ],
 "metadata": {
  "kernelspec": {
   "display_name": "Python 3",
   "language": "python",
   "name": "python3"
  },
  "language_info": {
   "codemirror_mode": {
    "name": "ipython",
    "version": 3
   },
   "file_extension": ".py",
   "mimetype": "text/x-python",
   "name": "python",
   "nbconvert_exporter": "python",
   "pygments_lexer": "ipython3",
   "version": "3.8.12"
  }
 },
 "nbformat": 4,
 "nbformat_minor": 5
}
