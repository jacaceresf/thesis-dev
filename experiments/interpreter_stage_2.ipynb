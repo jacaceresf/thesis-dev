{
 "cells": [
  {
   "cell_type": "markdown",
   "id": "b53a4bc4",
   "metadata": {},
   "source": [
    "## 1. Execute imports"
   ]
  },
  {
   "cell_type": "code",
   "execution_count": 66,
   "id": "90ed8345",
   "metadata": {},
   "outputs": [],
   "source": [
    "import pandas as pd\n",
    "import numpy as np\n",
    "from patsy import ModelDesc, dmatrices, dmatrix, demo_data\n",
    "import re\n",
    "import pprint\n",
    "import json"
   ]
  },
  {
   "cell_type": "markdown",
   "id": "a8bb110a",
   "metadata": {},
   "source": [
    "## 2. Create complex operations dict"
   ]
  },
  {
   "cell_type": "code",
   "execution_count": 67,
   "id": "5b1c4ac0",
   "metadata": {},
   "outputs": [],
   "source": [
    "# TODO: add more complex operations from numpy\n",
    "COMPLEX_OPERATIONS = {\n",
    "    'cos': 'np.cos',\n",
    "    'tan': 'np.tan',\n",
    "    'log': 'np.log',\n",
    "    'log10': 'np.log10',\n",
    "    'log2': 'np.log2',\n",
    "    'min': 'np.min',\n",
    "    'max': 'np.max',\n",
    "    'pi': 'np.pi'\n",
    "}\n",
    "\n",
    "class bcolors:\n",
    "    HEADER = '\\033[95m'\n",
    "    OKBLUE = '\\033[94m'\n",
    "    OKCYAN = '\\033[96m'\n",
    "    OKGREEN = '\\033[92m'\n",
    "    WARNING = '\\033[93m'\n",
    "    FAIL = '\\033[91m'\n",
    "    ENDC = '\\033[0m'\n",
    "    BOLD = '\\033[1m'\n",
    "    UNDERLINE = '\\033[4m'"
   ]
  },
  {
   "cell_type": "markdown",
   "id": "8a4b6d68",
   "metadata": {},
   "source": [
    "## 3. Execute functions"
   ]
  },
  {
   "cell_type": "code",
   "execution_count": 73,
   "id": "68c0f3d8",
   "metadata": {},
   "outputs": [],
   "source": [
    "def add_blank_spaces_to_formula(formula: str) -> str:\n",
    "    new = ''\n",
    "    for index, element in enumerate(formula):\n",
    "        next_idx = index + 1\n",
    "        if next_idx < len(formula):\n",
    "            if not re.match('\\w', formula[index+1]):\n",
    "                new += element + ' '\n",
    "            else:\n",
    "                new += element\n",
    "        else:\n",
    "            new += element + ' '\n",
    "    return new\n",
    "\n",
    "def matched_words(s, pat):\n",
    "    pat = r'(\\w*%s\\w*)' % pat       # Not thrilled about this line\n",
    "    return re.findall(pat, s)"
   ]
  },
  {
   "cell_type": "code",
   "execution_count": 4,
   "id": "14a706fc",
   "metadata": {},
   "outputs": [],
   "source": [
    "def clean_formula(formula: str) -> str:\n",
    "    result = formula\n",
    "    for operation in COMPLEX_OPERATIONS:\n",
    "        if(operation in formula):\n",
    "            result = result.replace(operation, \"\")\n",
    "    return result\n",
    "\n",
    "def get_formula_variables(formula: str):\n",
    "  '''\n",
    "  Returns a list of every variable (non repeated) from the formula\n",
    "  '''\n",
    "  cleaned_formula = clean_formula(formula)\n",
    "  return sorted(list(set(\"\".join(re.findall(\"[a-zA-Z]+\", cleaned_formula)))))\n",
    "\n",
    "def group_columns(formula: str, data: pd.DataFrame):\n",
    "  # get number of variables inside formula\n",
    "  # convert string to set that only holds unique elements\n",
    "  characters = get_formula_variables(formula=formula)\n",
    "\n",
    "  # get dataset number of columns\n",
    "  columns = len(data.columns)\n",
    "  columns_lst = list(data.columns)\n",
    "  characters_len = len(characters)\n",
    "\n",
    "  result = []\n",
    "  \n",
    "  # column by column\n",
    "  for i in range(0, columns):  \n",
    "    # current column + 1 and substract 1 from characters so we don't count current character\n",
    "    for j in range(i+1, columns, characters_len-1):\n",
    "      column_variables = [columns_lst[i]]\n",
    "      column_variables.extend(columns_lst[j:j+(characters_len-1)])\n",
    "      # compare numbers and group columns by number of variables inside the formula\n",
    "      if(len(column_variables) == characters_len):\n",
    "        result.append(column_variables)\n",
    "  return result # grouped columns"
   ]
  },
  {
   "cell_type": "code",
   "execution_count": 5,
   "id": "57f617a2",
   "metadata": {},
   "outputs": [],
   "source": [
    "def get_formula_by_columns(formula: str, columns: list) -> dict:\n",
    "  '''\n",
    "  Mapping every single formula's variable to a column.\n",
    "  '''\n",
    "  to_replace = {}\n",
    "\n",
    "  # formula variables\n",
    "  variables = get_formula_variables(formula=formula)\n",
    "  # iterate over grouped columns\n",
    "  for cidx, column_group in enumerate(columns):\n",
    "    formula_grouped = {}\n",
    "    # iterate over variables\n",
    "    for idx, variable in enumerate(variables):\n",
    "      # variable paired to column name\n",
    "      formula_grouped[variable] = column_group[idx]\n",
    "    # every column group represents a key\n",
    "    to_replace[cidx] = formula_grouped\n",
    "  return to_replace"
   ]
  },
  {
   "cell_type": "code",
   "execution_count": 80,
   "id": "2ebd4010",
   "metadata": {},
   "outputs": [],
   "source": [
    "def parse_formula(formula: str, formula_columns: dict) -> list:\n",
    "  '''\n",
    "  Parses, effectively, every grouped column to a real formula. \n",
    "  In simple words, replaces every formula variable for its paired column.\n",
    "  '''\n",
    "  result = []\n",
    "  formula_variables = re.findall(r'\\w+', formula)\n",
    "\n",
    "  for variables_paired in formula_columns.values():\n",
    "        new_formula = formula\n",
    "        for variable in formula_variables:\n",
    "            if variable in variables_paired:\n",
    "                # we need to put a blank space after a single character, \n",
    "                # so we can identify it then with the regex\n",
    "                replace_regex = f'{variable}(?:[^\\w\\*\\\\\\+\\(\\)\\-])'\n",
    "                new_formula = re.sub(replace_regex, variables_paired[variable], new_formula)\n",
    "#             elif variable in COMPLEX_OPERATIONS:\n",
    "#                 print(f'Going to replace [{variable} for [{COMPLEX_OPERATIONS[variable]}]')\n",
    "#                 new_formula = new_formula.replace(variable, COMPLEX_OPERATIONS[variable])\n",
    "#                 print(f'GOING TO APPEND => [{new_formula}]')\n",
    "        new_formula = new_formula.replace(\" \", \"\")\n",
    "        for key, value in COMPLEX_OPERATIONS.items():\n",
    "            if key in new_formula:\n",
    "                new_formula = new_formula.replace(key, value)\n",
    "        \n",
    "        result.append(new_formula)\n",
    "  \n",
    "  return result"
   ]
  },
  {
   "cell_type": "code",
   "execution_count": 7,
   "id": "15c3d048",
   "metadata": {},
   "outputs": [],
   "source": [
    "def execute_formula(formula_by_columns: list, data: pd.DataFrame) -> pd.DataFrame:\n",
    "  '''\n",
    "  Take every real formula and executes it via patsy dmatrix.\n",
    "  Saves every formula result inside a new dataframe's column.\n",
    "  '''\n",
    "  new_df = data.copy()\n",
    "     \n",
    "  for formula_columns in formula_by_columns:\n",
    "    result_items = []\n",
    "    add_data = True\n",
    "#     try:\n",
    "    formula = \"I(\"+formula_columns+\")-1\"\n",
    "    result = dmatrix(formula, data, NA_action='raise')\n",
    "    for item in result:\n",
    "        result_items.append(item.item())\n",
    "#     except:\n",
    "#         # Ignore Patsy error.\n",
    "#         add_data = False\n",
    "        \n",
    "    if add_data:\n",
    "        if \"np.\" in formula_columns:\n",
    "            new_df[formula_columns.replace('np.', '')] = result_items\n",
    "        else:\n",
    "            new_df[formula_columns] = result_items\n",
    "    else:\n",
    "        print(f\"{bcolors.WARNING}Your data has some invalid values. Script will ignore them and their possible result.{bcolors.ENDC}\")\n",
    "        \n",
    "  return new_df"
   ]
  },
  {
   "cell_type": "code",
   "execution_count": 60,
   "id": "0f958a43",
   "metadata": {},
   "outputs": [],
   "source": [
    "def execute(formula_input: str, data: pd.DataFrame) -> pd.DataFrame:\n",
    "    \n",
    "    formula = add_blank_spaces_to_formula(formula_input.lower())\n",
    "    grouped_columns = group_columns(formula, data)\n",
    "    replaceable_result = get_formula_by_columns(formula, grouped_columns)\n",
    "    print(f'Got formula => {formula}')\n",
    "    executable_formulas = parse_formula(formula, replaceable_result)\n",
    "    new_data = execute_formula(executable_formulas, data)\n",
    "    \n",
    "    return new_data"
   ]
  },
  {
   "cell_type": "markdown",
   "id": "cc53a3fa",
   "metadata": {},
   "source": [
    "## 4. Stage 2"
   ]
  },
  {
   "cell_type": "code",
   "execution_count": 9,
   "id": "7d0c4ce2",
   "metadata": {},
   "outputs": [],
   "source": [
    "from sklearn.neighbors import KNeighborsClassifier\n",
    "from sklearn.metrics import accuracy_score\n",
    "from sklearn.model_selection import cross_val_score"
   ]
  },
  {
   "cell_type": "code",
   "execution_count": 81,
   "id": "cc265fe2",
   "metadata": {},
   "outputs": [
    {
     "data": {
      "text/html": [
       "<div>\n",
       "<style scoped>\n",
       "    .dataframe tbody tr th:only-of-type {\n",
       "        vertical-align: middle;\n",
       "    }\n",
       "\n",
       "    .dataframe tbody tr th {\n",
       "        vertical-align: top;\n",
       "    }\n",
       "\n",
       "    .dataframe thead th {\n",
       "        text-align: right;\n",
       "    }\n",
       "</style>\n",
       "<table border=\"1\" class=\"dataframe\">\n",
       "  <thead>\n",
       "    <tr style=\"text-align: right;\">\n",
       "      <th></th>\n",
       "      <th>Pregnancies</th>\n",
       "      <th>Glucoze</th>\n",
       "      <th>BloodPressure</th>\n",
       "      <th>SkinThickness</th>\n",
       "      <th>Insulin</th>\n",
       "      <th>BMI</th>\n",
       "      <th>DiabetesPedigreeFunction</th>\n",
       "      <th>Age</th>\n",
       "      <th>Outcome</th>\n",
       "    </tr>\n",
       "  </thead>\n",
       "  <tbody>\n",
       "    <tr>\n",
       "      <th>0</th>\n",
       "      <td>6</td>\n",
       "      <td>148</td>\n",
       "      <td>72</td>\n",
       "      <td>35</td>\n",
       "      <td>0</td>\n",
       "      <td>33.6</td>\n",
       "      <td>0.627</td>\n",
       "      <td>50</td>\n",
       "      <td>1</td>\n",
       "    </tr>\n",
       "    <tr>\n",
       "      <th>1</th>\n",
       "      <td>1</td>\n",
       "      <td>85</td>\n",
       "      <td>66</td>\n",
       "      <td>29</td>\n",
       "      <td>0</td>\n",
       "      <td>26.6</td>\n",
       "      <td>0.351</td>\n",
       "      <td>31</td>\n",
       "      <td>0</td>\n",
       "    </tr>\n",
       "    <tr>\n",
       "      <th>2</th>\n",
       "      <td>8</td>\n",
       "      <td>183</td>\n",
       "      <td>64</td>\n",
       "      <td>0</td>\n",
       "      <td>0</td>\n",
       "      <td>23.3</td>\n",
       "      <td>0.672</td>\n",
       "      <td>32</td>\n",
       "      <td>1</td>\n",
       "    </tr>\n",
       "    <tr>\n",
       "      <th>3</th>\n",
       "      <td>1</td>\n",
       "      <td>89</td>\n",
       "      <td>66</td>\n",
       "      <td>23</td>\n",
       "      <td>94</td>\n",
       "      <td>28.1</td>\n",
       "      <td>0.167</td>\n",
       "      <td>21</td>\n",
       "      <td>0</td>\n",
       "    </tr>\n",
       "    <tr>\n",
       "      <th>4</th>\n",
       "      <td>0</td>\n",
       "      <td>137</td>\n",
       "      <td>40</td>\n",
       "      <td>35</td>\n",
       "      <td>168</td>\n",
       "      <td>43.1</td>\n",
       "      <td>2.288</td>\n",
       "      <td>33</td>\n",
       "      <td>1</td>\n",
       "    </tr>\n",
       "    <tr>\n",
       "      <th>...</th>\n",
       "      <td>...</td>\n",
       "      <td>...</td>\n",
       "      <td>...</td>\n",
       "      <td>...</td>\n",
       "      <td>...</td>\n",
       "      <td>...</td>\n",
       "      <td>...</td>\n",
       "      <td>...</td>\n",
       "      <td>...</td>\n",
       "    </tr>\n",
       "    <tr>\n",
       "      <th>763</th>\n",
       "      <td>10</td>\n",
       "      <td>101</td>\n",
       "      <td>76</td>\n",
       "      <td>48</td>\n",
       "      <td>180</td>\n",
       "      <td>32.9</td>\n",
       "      <td>0.171</td>\n",
       "      <td>63</td>\n",
       "      <td>0</td>\n",
       "    </tr>\n",
       "    <tr>\n",
       "      <th>764</th>\n",
       "      <td>2</td>\n",
       "      <td>122</td>\n",
       "      <td>70</td>\n",
       "      <td>27</td>\n",
       "      <td>0</td>\n",
       "      <td>36.8</td>\n",
       "      <td>0.340</td>\n",
       "      <td>27</td>\n",
       "      <td>0</td>\n",
       "    </tr>\n",
       "    <tr>\n",
       "      <th>765</th>\n",
       "      <td>5</td>\n",
       "      <td>121</td>\n",
       "      <td>72</td>\n",
       "      <td>23</td>\n",
       "      <td>112</td>\n",
       "      <td>26.2</td>\n",
       "      <td>0.245</td>\n",
       "      <td>30</td>\n",
       "      <td>0</td>\n",
       "    </tr>\n",
       "    <tr>\n",
       "      <th>766</th>\n",
       "      <td>1</td>\n",
       "      <td>126</td>\n",
       "      <td>60</td>\n",
       "      <td>0</td>\n",
       "      <td>0</td>\n",
       "      <td>30.1</td>\n",
       "      <td>0.349</td>\n",
       "      <td>47</td>\n",
       "      <td>1</td>\n",
       "    </tr>\n",
       "    <tr>\n",
       "      <th>767</th>\n",
       "      <td>1</td>\n",
       "      <td>93</td>\n",
       "      <td>70</td>\n",
       "      <td>31</td>\n",
       "      <td>0</td>\n",
       "      <td>30.4</td>\n",
       "      <td>0.315</td>\n",
       "      <td>23</td>\n",
       "      <td>0</td>\n",
       "    </tr>\n",
       "  </tbody>\n",
       "</table>\n",
       "<p>768 rows × 9 columns</p>\n",
       "</div>"
      ],
      "text/plain": [
       "     Pregnancies  Glucoze  BloodPressure  SkinThickness  Insulin   BMI  \\\n",
       "0              6      148             72             35        0  33.6   \n",
       "1              1       85             66             29        0  26.6   \n",
       "2              8      183             64              0        0  23.3   \n",
       "3              1       89             66             23       94  28.1   \n",
       "4              0      137             40             35      168  43.1   \n",
       "..           ...      ...            ...            ...      ...   ...   \n",
       "763           10      101             76             48      180  32.9   \n",
       "764            2      122             70             27        0  36.8   \n",
       "765            5      121             72             23      112  26.2   \n",
       "766            1      126             60              0        0  30.1   \n",
       "767            1       93             70             31        0  30.4   \n",
       "\n",
       "     DiabetesPedigreeFunction  Age  Outcome  \n",
       "0                       0.627   50        1  \n",
       "1                       0.351   31        0  \n",
       "2                       0.672   32        1  \n",
       "3                       0.167   21        0  \n",
       "4                       2.288   33        1  \n",
       "..                        ...  ...      ...  \n",
       "763                     0.171   63        0  \n",
       "764                     0.340   27        0  \n",
       "765                     0.245   30        0  \n",
       "766                     0.349   47        1  \n",
       "767                     0.315   23        0  \n",
       "\n",
       "[768 rows x 9 columns]"
      ]
     },
     "execution_count": 81,
     "metadata": {},
     "output_type": "execute_result"
    }
   ],
   "source": [
    "data = pd.read_csv(\"./datasets/diabetes.csv\")\n",
    "data.isnull().sum().sum()\n",
    "data"
   ]
  },
  {
   "cell_type": "code",
   "execution_count": 82,
   "id": "afe5c351",
   "metadata": {},
   "outputs": [],
   "source": [
    "X = data.drop('Outcome', axis=1)\n",
    "y = data['Outcome']\n",
    "# X.columns = X.columns.str.replace(' ','_')"
   ]
  },
  {
   "cell_type": "markdown",
   "id": "b1543616",
   "metadata": {},
   "source": [
    "### Formulas"
   ]
  },
  {
   "cell_type": "code",
   "execution_count": 83,
   "id": "5f2f89f3",
   "metadata": {},
   "outputs": [],
   "source": [
    "formula_a = \"cos(a+b)\"\n",
    "formula_b = \"cos(2*pi*(a-min(a)+b-min(b)))/(max(a)+max(b)-min(a)-min(b))\"\n",
    "formula_c = \"a*b\"\n",
    "name = 'diabetes'"
   ]
  },
  {
   "cell_type": "code",
   "execution_count": 84,
   "id": "bb182a0b",
   "metadata": {},
   "outputs": [
    {
     "name": "stdout",
     "output_type": "stream",
     "text": [
      "Got formula => cos (a +b ) \n",
      "executable_formulas => ['np.cos(Pregnancies+Glucoze)', 'np.cos(Pregnancies+BloodPressure)', 'np.cos(Pregnancies+SkinThickness)', 'np.cos(Pregnancies+Insulin)', 'np.cos(Pregnancies+BMI)', 'np.cos(Pregnancies+DiabetesPedigreeFunction)', 'np.cos(Pregnancies+Age)', 'np.cos(Glucoze+BloodPressure)', 'np.cos(Glucoze+SkinThickness)', 'np.cos(Glucoze+Insulin)', 'np.cos(Glucoze+BMI)', 'np.cos(Glucoze+DiabetesPedigreeFunction)', 'np.cos(Glucoze+Age)', 'np.cos(BloodPressure+SkinThickness)', 'np.cos(BloodPressure+Insulin)', 'np.cos(BloodPressure+BMI)', 'np.cos(BloodPressure+DiabetesPedigreeFunction)', 'np.cos(BloodPressure+Age)', 'np.cos(SkinThickness+Insulin)', 'np.cos(SkinThickness+BMI)', 'np.cos(SkinThickness+DiabetesPedigreeFunction)', 'np.cos(SkinThickness+Age)', 'np.cos(Insulin+BMI)', 'np.cos(Insulin+DiabetesPedigreeFunction)', 'np.cos(Insulin+Age)', 'np.cos(BMI+DiabetesPedigreeFunction)', 'np.cos(BMI+Age)', 'np.cos(DiabetesPedigreeFunction+Age)']\n"
     ]
    }
   ],
   "source": [
    "X_new = execute(formula_input=formula_a, data=X)\n",
    "X_new.to_csv(f'./datasets/{name}_formula_a.csv', index=False)"
   ]
  },
  {
   "cell_type": "code",
   "execution_count": 85,
   "id": "adc007ba",
   "metadata": {},
   "outputs": [
    {
     "name": "stdout",
     "output_type": "stream",
     "text": [
      "Got formula => cos (2 *pi * (a -min (a ) +b -min (b ) ) ) / (max (a ) +max (b ) -min (a ) -min (b ) ) \n",
      "executable_formulas => ['np.cos(2*np.pi*(Pregnancies-np.min(Pregnancies)+Glucoze-np.min(Glucoze)))/(np.max(Pregnancies)+np.max(Glucoze)-np.min(Pregnancies)-np.min(Glucoze))', 'np.cos(2*np.pi*(Pregnancies-np.min(Pregnancies)+BloodPressure-np.min(BloodPressure)))/(np.max(Pregnancies)+np.max(BloodPressure)-np.min(Pregnancies)-np.min(BloodPressure))', 'np.cos(2*np.pi*(Pregnancies-np.min(Pregnancies)+SkinThickness-np.min(SkinThickness)))/(np.max(Pregnancies)+np.max(SkinThickness)-np.min(Pregnancies)-np.min(SkinThickness))', 'np.cos(2*np.pi*(Pregnancies-np.min(Pregnancies)+Insulin-np.min(Insulin)))/(np.max(Pregnancies)+np.max(Insulin)-np.min(Pregnancies)-np.min(Insulin))', 'np.cos(2*np.pi*(Pregnancies-np.min(Pregnancies)+BMI-np.min(BMI)))/(np.max(Pregnancies)+np.max(BMI)-np.min(Pregnancies)-np.min(BMI))', 'np.cos(2*np.pi*(Pregnancies-np.min(Pregnancies)+DiabetesPedigreeFunction-np.min(DiabetesPedigreeFunction)))/(np.max(Pregnancies)+np.max(DiabetesPedigreeFunction)-np.min(Pregnancies)-np.min(DiabetesPedigreeFunction))', 'np.cos(2*np.pi*(Pregnancies-np.min(Pregnancies)+Age-np.min(Age)))/(np.max(Pregnancies)+np.max(Age)-np.min(Pregnancies)-np.min(Age))', 'np.cos(2*np.pi*(Glucoze-np.min(Glucoze)+BloodPressure-np.min(BloodPressure)))/(np.max(Glucoze)+np.max(BloodPressure)-np.min(Glucoze)-np.min(BloodPressure))', 'np.cos(2*np.pi*(Glucoze-np.min(Glucoze)+SkinThickness-np.min(SkinThickness)))/(np.max(Glucoze)+np.max(SkinThickness)-np.min(Glucoze)-np.min(SkinThickness))', 'np.cos(2*np.pi*(Glucoze-np.min(Glucoze)+Insulin-np.min(Insulin)))/(np.max(Glucoze)+np.max(Insulin)-np.min(Glucoze)-np.min(Insulin))', 'np.cos(2*np.pi*(Glucoze-np.min(Glucoze)+BMI-np.min(BMI)))/(np.max(Glucoze)+np.max(BMI)-np.min(Glucoze)-np.min(BMI))', 'np.cos(2*np.pi*(Glucoze-np.min(Glucoze)+DiabetesPedigreeFunction-np.min(DiabetesPedigreeFunction)))/(np.max(Glucoze)+np.max(DiabetesPedigreeFunction)-np.min(Glucoze)-np.min(DiabetesPedigreeFunction))', 'np.cos(2*np.pi*(Glucoze-np.min(Glucoze)+Age-np.min(Age)))/(np.max(Glucoze)+np.max(Age)-np.min(Glucoze)-np.min(Age))', 'np.cos(2*np.pi*(BloodPressure-np.min(BloodPressure)+SkinThickness-np.min(SkinThickness)))/(np.max(BloodPressure)+np.max(SkinThickness)-np.min(BloodPressure)-np.min(SkinThickness))', 'np.cos(2*np.pi*(BloodPressure-np.min(BloodPressure)+Insulin-np.min(Insulin)))/(np.max(BloodPressure)+np.max(Insulin)-np.min(BloodPressure)-np.min(Insulin))', 'np.cos(2*np.pi*(BloodPressure-np.min(BloodPressure)+BMI-np.min(BMI)))/(np.max(BloodPressure)+np.max(BMI)-np.min(BloodPressure)-np.min(BMI))', 'np.cos(2*np.pi*(BloodPressure-np.min(BloodPressure)+DiabetesPedigreeFunction-np.min(DiabetesPedigreeFunction)))/(np.max(BloodPressure)+np.max(DiabetesPedigreeFunction)-np.min(BloodPressure)-np.min(DiabetesPedigreeFunction))', 'np.cos(2*np.pi*(BloodPressure-np.min(BloodPressure)+Age-np.min(Age)))/(np.max(BloodPressure)+np.max(Age)-np.min(BloodPressure)-np.min(Age))', 'np.cos(2*np.pi*(SkinThickness-np.min(SkinThickness)+Insulin-np.min(Insulin)))/(np.max(SkinThickness)+np.max(Insulin)-np.min(SkinThickness)-np.min(Insulin))', 'np.cos(2*np.pi*(SkinThickness-np.min(SkinThickness)+BMI-np.min(BMI)))/(np.max(SkinThickness)+np.max(BMI)-np.min(SkinThickness)-np.min(BMI))', 'np.cos(2*np.pi*(SkinThickness-np.min(SkinThickness)+DiabetesPedigreeFunction-np.min(DiabetesPedigreeFunction)))/(np.max(SkinThickness)+np.max(DiabetesPedigreeFunction)-np.min(SkinThickness)-np.min(DiabetesPedigreeFunction))', 'np.cos(2*np.pi*(SkinThickness-np.min(SkinThickness)+Age-np.min(Age)))/(np.max(SkinThickness)+np.max(Age)-np.min(SkinThickness)-np.min(Age))', 'np.cos(2*np.pi*(Insulin-np.min(Insulin)+BMI-np.min(BMI)))/(np.max(Insulin)+np.max(BMI)-np.min(Insulin)-np.min(BMI))', 'np.cos(2*np.pi*(Insulin-np.min(Insulin)+DiabetesPedigreeFunction-np.min(DiabetesPedigreeFunction)))/(np.max(Insulin)+np.max(DiabetesPedigreeFunction)-np.min(Insulin)-np.min(DiabetesPedigreeFunction))', 'np.cos(2*np.pi*(Insulin-np.min(Insulin)+Age-np.min(Age)))/(np.max(Insulin)+np.max(Age)-np.min(Insulin)-np.min(Age))', 'np.cos(2*np.pi*(BMI-np.min(BMI)+DiabetesPedigreeFunction-np.min(DiabetesPedigreeFunction)))/(np.max(BMI)+np.max(DiabetesPedigreeFunction)-np.min(BMI)-np.min(DiabetesPedigreeFunction))', 'np.cos(2*np.pi*(BMI-np.min(BMI)+Age-np.min(Age)))/(np.max(BMI)+np.max(Age)-np.min(BMI)-np.min(Age))', 'np.cos(2*np.pi*(DiabetesPedigreeFunction-np.min(DiabetesPedigreeFunction)+Age-np.min(Age)))/(np.max(DiabetesPedigreeFunction)+np.max(Age)-np.min(DiabetesPedigreeFunction)-np.min(Age))']\n"
     ]
    }
   ],
   "source": [
    "X_new_ = execute(formula_input=formula_b, data=X)\n",
    "X_new_.to_csv(f'./datasets/{name}_knowledge_formula_b.csv', index=False)"
   ]
  },
  {
   "cell_type": "code",
   "execution_count": 86,
   "id": "3f7840cf",
   "metadata": {},
   "outputs": [
    {
     "name": "stdout",
     "output_type": "stream",
     "text": [
      "Got formula => a *b \n",
      "executable_formulas => ['Pregnancies*Glucoze', 'Pregnancies*BloodPressure', 'Pregnancies*SkinThickness', 'Pregnancies*Insulin', 'Pregnancies*BMI', 'Pregnancies*DiabetesPedigreeFunction', 'Pregnancies*Age', 'Glucoze*BloodPressure', 'Glucoze*SkinThickness', 'Glucoze*Insulin', 'Glucoze*BMI', 'Glucoze*DiabetesPedigreeFunction', 'Glucoze*Age', 'BloodPressure*SkinThickness', 'BloodPressure*Insulin', 'BloodPressure*BMI', 'BloodPressure*DiabetesPedigreeFunction', 'BloodPressure*Age', 'SkinThickness*Insulin', 'SkinThickness*BMI', 'SkinThickness*DiabetesPedigreeFunction', 'SkinThickness*Age', 'Insulin*BMI', 'Insulin*DiabetesPedigreeFunction', 'Insulin*Age', 'BMI*DiabetesPedigreeFunction', 'BMI*Age', 'DiabetesPedigreeFunction*Age']\n"
     ]
    }
   ],
   "source": [
    "X_new_2 = execute(formula_input=formula_c, data=X)\n",
    "X_new_2.to_csv(f'./datasets/{name}_knowledge_formula_c.csv', index=False)"
   ]
  },
  {
   "cell_type": "markdown",
   "id": "8f8fb654",
   "metadata": {},
   "source": [
    "# Stage 2"
   ]
  },
  {
   "cell_type": "code",
   "execution_count": 35,
   "id": "99d40d24",
   "metadata": {},
   "outputs": [],
   "source": [
    "import warnings\n",
    "warnings.filterwarnings('ignore')\n",
    "from sklearn.model_selection import train_test_split\n",
    "from sklearn.metrics import confusion_matrix, classification_report\n",
    "from sklearn import metrics\n",
    "X_train, X_test, y_train, y_test = train_test_split(X_full, y, test_size = 0.2, random_state = 42)"
   ]
  },
  {
   "cell_type": "markdown",
   "id": "cdd7415b",
   "metadata": {},
   "source": [
    "## KNN"
   ]
  },
  {
   "cell_type": "code",
   "execution_count": 36,
   "id": "bbff0548",
   "metadata": {},
   "outputs": [
    {
     "name": "stdout",
     "output_type": "stream",
     "text": [
      "              precision    recall  f1-score   support\n",
      "\n",
      "           1       0.67      0.80      0.73         5\n",
      "           2       0.86      0.75      0.80         8\n",
      "           3       0.00      0.00      0.00         0\n",
      "           5       1.00      1.00      1.00         2\n",
      "           6       0.50      0.33      0.40         3\n",
      "           7       0.75      0.75      0.75         4\n",
      "\n",
      "    accuracy                           0.73        22\n",
      "   macro avg       0.63      0.61      0.61        22\n",
      "weighted avg       0.76      0.73      0.74        22\n",
      "\n",
      "####### CROSS VAL SCORE #######\n",
      "0.6363636363636365\n"
     ]
    }
   ],
   "source": [
    "reg_knn = KNeighborsClassifier()\n",
    "reg_knn.fit(X_train, y_train)\n",
    "y_pred = reg_knn.predict(X_test)\n",
    "\n",
    "print(metrics.classification_report(y_test, y_pred))\n",
    "print(\"####### CROSS VAL SCORE #######\")\n",
    "print(cross_val_score(reg_knn, X_full, y, cv=10).mean())"
   ]
  },
  {
   "cell_type": "markdown",
   "id": "aad7d1a9",
   "metadata": {},
   "source": [
    "## Logistic Regression"
   ]
  },
  {
   "cell_type": "code",
   "execution_count": 37,
   "id": "9de2228b",
   "metadata": {},
   "outputs": [],
   "source": [
    "from sklearn.linear_model import LogisticRegression"
   ]
  },
  {
   "cell_type": "code",
   "execution_count": 38,
   "id": "36e3210b",
   "metadata": {},
   "outputs": [
    {
     "name": "stdout",
     "output_type": "stream",
     "text": [
      "              precision    recall  f1-score   support\n",
      "\n",
      "           1       0.80      0.80      0.80         5\n",
      "           2       0.78      0.88      0.82         8\n",
      "           5       1.00      1.00      1.00         2\n",
      "           6       1.00      0.67      0.80         3\n",
      "           7       0.75      0.75      0.75         4\n",
      "\n",
      "    accuracy                           0.82        22\n",
      "   macro avg       0.87      0.82      0.83        22\n",
      "weighted avg       0.83      0.82      0.82        22\n",
      "\n",
      "####### CROSS VAL SCORE #######\n",
      "0.6021645021645022\n"
     ]
    }
   ],
   "source": [
    "reg_log = LogisticRegression()\n",
    "reg_log.fit(X_train, y_train)\n",
    "y_pred = reg_log.predict(X_test)\n",
    "\n",
    "print(metrics.classification_report(y_test, y_pred))\n",
    "print(\"####### CROSS VAL SCORE #######\")\n",
    "print(cross_val_score(reg_log, X_full, y, cv=10).mean())"
   ]
  },
  {
   "cell_type": "markdown",
   "id": "0444ee3e",
   "metadata": {},
   "source": [
    "## SVM"
   ]
  },
  {
   "cell_type": "code",
   "execution_count": 28,
   "id": "463978d2",
   "metadata": {},
   "outputs": [],
   "source": [
    "from sklearn.svm import SVC"
   ]
  },
  {
   "cell_type": "code",
   "execution_count": 29,
   "id": "a7e79d13",
   "metadata": {},
   "outputs": [
    {
     "name": "stdout",
     "output_type": "stream",
     "text": [
      "              precision    recall  f1-score   support\n",
      "\n",
      "           1       0.60      0.82      0.69        11\n",
      "           2       0.92      0.79      0.85        14\n",
      "           3       0.00      0.00      0.00         3\n",
      "           5       0.80      1.00      0.89         4\n",
      "           6       1.00      0.67      0.80         3\n",
      "           7       1.00      1.00      1.00         8\n",
      "\n",
      "    accuracy                           0.79        43\n",
      "   macro avg       0.72      0.71      0.70        43\n",
      "weighted avg       0.78      0.79      0.78        43\n",
      "\n",
      "####### CROSS VAL SCORE #######\n",
      "0.6649350649350649\n"
     ]
    }
   ],
   "source": [
    "reg_svc = SVC(kernel='linear')\n",
    "reg_svc.fit(X_train, y_train)\n",
    "y_pred = reg_svc.predict(X_test)\n",
    "print(metrics.classification_report(y_test, y_pred))\n",
    "print(\"####### CROSS VAL SCORE #######\")\n",
    "print(cross_val_score(reg_svc, X_full, y, cv=10).mean())"
   ]
  },
  {
   "cell_type": "markdown",
   "id": "6bc230eb",
   "metadata": {},
   "source": [
    "## Naive Bayes"
   ]
  },
  {
   "cell_type": "code",
   "execution_count": 30,
   "id": "73b17ae0",
   "metadata": {},
   "outputs": [],
   "source": [
    "from sklearn.naive_bayes import GaussianNB"
   ]
  },
  {
   "cell_type": "code",
   "execution_count": 31,
   "id": "d8f05fbc",
   "metadata": {},
   "outputs": [
    {
     "name": "stdout",
     "output_type": "stream",
     "text": [
      "              precision    recall  f1-score   support\n",
      "\n",
      "           1       0.47      0.64      0.54        11\n",
      "           2       0.80      0.29      0.42        14\n",
      "           3       0.50      1.00      0.67         3\n",
      "           5       0.80      1.00      0.89         4\n",
      "           6       1.00      0.67      0.80         3\n",
      "           7       0.80      1.00      0.89         8\n",
      "\n",
      "    accuracy                           0.65        43\n",
      "   macro avg       0.73      0.76      0.70        43\n",
      "weighted avg       0.71      0.65      0.63        43\n",
      "\n",
      "####### CROSS VAL SCORE #######\n",
      "0.42034632034632036\n"
     ]
    }
   ],
   "source": [
    "reg_rf = GaussianNB()\n",
    "reg_rf.fit(X_train, y_train)\n",
    "y_pred = reg_rf.predict(X_test)\n",
    "print(metrics.classification_report(y_test, y_pred))\n",
    "print(\"####### CROSS VAL SCORE #######\")\n",
    "print(cross_val_score(reg_rf, X_full, y, cv=10).mean())"
   ]
  },
  {
   "cell_type": "code",
   "execution_count": 72,
   "id": "676afb7e",
   "metadata": {},
   "outputs": [
    {
     "data": {
      "text/plain": [
       "['cos', 'Glucose']"
      ]
     },
     "execution_count": 72,
     "metadata": {},
     "output_type": "execute_result"
    }
   ],
   "source": [
    "import re\n",
    "\n",
    "\n",
    "\n",
    "matched_words(\"cos(Pregnancies+Glucose)\", \"cos\")"
   ]
  }
 ],
 "metadata": {
  "kernelspec": {
   "display_name": "Python 3",
   "language": "python",
   "name": "python3"
  },
  "language_info": {
   "codemirror_mode": {
    "name": "ipython",
    "version": 3
   },
   "file_extension": ".py",
   "mimetype": "text/x-python",
   "name": "python",
   "nbconvert_exporter": "python",
   "pygments_lexer": "ipython3",
   "version": "3.8.12"
  }
 },
 "nbformat": 4,
 "nbformat_minor": 5
}
