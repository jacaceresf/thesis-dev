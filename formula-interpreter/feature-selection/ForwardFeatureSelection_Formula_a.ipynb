{
 "cells": [
  {
   "cell_type": "code",
   "execution_count": 26,
   "id": "113fe1f5",
   "metadata": {},
   "outputs": [],
   "source": [
    "import pandas as pd\n",
    "import numpy as np\n",
    "from sklearn.model_selection import train_test_split\n",
    "from sklearn.metrics import mean_squared_error\n",
    "from sklearn.linear_model import LinearRegression\n",
    "from sklearn.preprocessing import PolynomialFeatures\n",
    "\n",
    "\n",
    "from sklearn.naive_bayes import GaussianNB\n",
    "from sklearn import svm\n",
    "from sklearn.linear_model import LogisticRegression\n",
    "from sklearn.neighbors import KNeighborsClassifier\n",
    "from mlxtend.feature_selection import SequentialFeatureSelector as SFS\n",
    "from sklearn.metrics import confusion_matrix, classification_report"
   ]
  },
  {
   "cell_type": "code",
   "execution_count": 25,
   "id": "4feb5fad",
   "metadata": {},
   "outputs": [
    {
     "data": {
      "text/html": [
       "<div>\n",
       "<style scoped>\n",
       "    .dataframe tbody tr th:only-of-type {\n",
       "        vertical-align: middle;\n",
       "    }\n",
       "\n",
       "    .dataframe tbody tr th {\n",
       "        vertical-align: top;\n",
       "    }\n",
       "\n",
       "    .dataframe thead th {\n",
       "        text-align: right;\n",
       "    }\n",
       "</style>\n",
       "<table border=\"1\" class=\"dataframe\">\n",
       "  <thead>\n",
       "    <tr style=\"text-align: right;\">\n",
       "      <th></th>\n",
       "      <th>RI</th>\n",
       "      <th>Na</th>\n",
       "      <th>Mg</th>\n",
       "      <th>Al</th>\n",
       "      <th>Si</th>\n",
       "      <th>K</th>\n",
       "      <th>Ca</th>\n",
       "      <th>Ba</th>\n",
       "      <th>Fe</th>\n",
       "      <th>cos(RI+Na)</th>\n",
       "      <th>...</th>\n",
       "      <th>cos(Si+K)</th>\n",
       "      <th>cos(Si+Ca)</th>\n",
       "      <th>cos(Si+Ba)</th>\n",
       "      <th>cos(Si+Fe)</th>\n",
       "      <th>cos(K+Ca)</th>\n",
       "      <th>cos(K+Ba)</th>\n",
       "      <th>cos(K+Fe)</th>\n",
       "      <th>cos(Ca+Ba)</th>\n",
       "      <th>cos(Ca+Fe)</th>\n",
       "      <th>cos(Ba+Fe)</th>\n",
       "    </tr>\n",
       "  </thead>\n",
       "  <tbody>\n",
       "    <tr>\n",
       "      <th>0</th>\n",
       "      <td>1.52101</td>\n",
       "      <td>13.64</td>\n",
       "      <td>4.49</td>\n",
       "      <td>1.10</td>\n",
       "      <td>71.78</td>\n",
       "      <td>0.06</td>\n",
       "      <td>8.75</td>\n",
       "      <td>0.00</td>\n",
       "      <td>0.0</td>\n",
       "      <td>-0.854113</td>\n",
       "      <td>...</td>\n",
       "      <td>-0.914457</td>\n",
       "      <td>0.407201</td>\n",
       "      <td>-0.888546</td>\n",
       "      <td>-0.888546</td>\n",
       "      <td>-0.816902</td>\n",
       "      <td>0.998201</td>\n",
       "      <td>0.998201</td>\n",
       "      <td>-0.780846</td>\n",
       "      <td>-0.780846</td>\n",
       "      <td>1.000000</td>\n",
       "    </tr>\n",
       "    <tr>\n",
       "      <th>1</th>\n",
       "      <td>1.51761</td>\n",
       "      <td>13.89</td>\n",
       "      <td>3.60</td>\n",
       "      <td>1.36</td>\n",
       "      <td>72.73</td>\n",
       "      <td>0.48</td>\n",
       "      <td>7.83</td>\n",
       "      <td>0.00</td>\n",
       "      <td>0.0</td>\n",
       "      <td>-0.955232</td>\n",
       "      <td>...</td>\n",
       "      <td>-0.578939</td>\n",
       "      <td>0.434414</td>\n",
       "      <td>-0.890037</td>\n",
       "      <td>-0.890037</td>\n",
       "      <td>-0.440377</td>\n",
       "      <td>0.886995</td>\n",
       "      <td>0.886995</td>\n",
       "      <td>0.023979</td>\n",
       "      <td>0.023979</td>\n",
       "      <td>1.000000</td>\n",
       "    </tr>\n",
       "    <tr>\n",
       "      <th>2</th>\n",
       "      <td>1.51618</td>\n",
       "      <td>13.53</td>\n",
       "      <td>3.55</td>\n",
       "      <td>1.54</td>\n",
       "      <td>72.99</td>\n",
       "      <td>0.39</td>\n",
       "      <td>7.78</td>\n",
       "      <td>0.00</td>\n",
       "      <td>0.0</td>\n",
       "      <td>-0.788898</td>\n",
       "      <td>...</td>\n",
       "      <td>-0.432648</td>\n",
       "      <td>0.612633</td>\n",
       "      <td>-0.742924</td>\n",
       "      <td>-0.742924</td>\n",
       "      <td>-0.310785</td>\n",
       "      <td>0.924909</td>\n",
       "      <td>0.924909</td>\n",
       "      <td>0.073914</td>\n",
       "      <td>0.073914</td>\n",
       "      <td>1.000000</td>\n",
       "    </tr>\n",
       "    <tr>\n",
       "      <th>3</th>\n",
       "      <td>1.51766</td>\n",
       "      <td>13.21</td>\n",
       "      <td>3.69</td>\n",
       "      <td>1.29</td>\n",
       "      <td>72.61</td>\n",
       "      <td>0.57</td>\n",
       "      <td>8.22</td>\n",
       "      <td>0.00</td>\n",
       "      <td>0.0</td>\n",
       "      <td>-0.556771</td>\n",
       "      <td>...</td>\n",
       "      <td>-0.603136</td>\n",
       "      <td>0.658924</td>\n",
       "      <td>-0.938212</td>\n",
       "      <td>-0.938212</td>\n",
       "      <td>-0.805203</td>\n",
       "      <td>0.841901</td>\n",
       "      <td>0.841901</td>\n",
       "      <td>-0.357900</td>\n",
       "      <td>-0.357900</td>\n",
       "      <td>1.000000</td>\n",
       "    </tr>\n",
       "    <tr>\n",
       "      <th>4</th>\n",
       "      <td>1.51742</td>\n",
       "      <td>13.27</td>\n",
       "      <td>3.62</td>\n",
       "      <td>1.24</td>\n",
       "      <td>73.08</td>\n",
       "      <td>0.55</td>\n",
       "      <td>8.07</td>\n",
       "      <td>0.00</td>\n",
       "      <td>0.0</td>\n",
       "      <td>-0.605388</td>\n",
       "      <td>...</td>\n",
       "      <td>-0.196147</td>\n",
       "      <td>0.862094</td>\n",
       "      <td>-0.679754</td>\n",
       "      <td>-0.679754</td>\n",
       "      <td>-0.693271</td>\n",
       "      <td>0.852525</td>\n",
       "      <td>0.852525</td>\n",
       "      <td>-0.214342</td>\n",
       "      <td>-0.214342</td>\n",
       "      <td>1.000000</td>\n",
       "    </tr>\n",
       "    <tr>\n",
       "      <th>...</th>\n",
       "      <td>...</td>\n",
       "      <td>...</td>\n",
       "      <td>...</td>\n",
       "      <td>...</td>\n",
       "      <td>...</td>\n",
       "      <td>...</td>\n",
       "      <td>...</td>\n",
       "      <td>...</td>\n",
       "      <td>...</td>\n",
       "      <td>...</td>\n",
       "      <td>...</td>\n",
       "      <td>...</td>\n",
       "      <td>...</td>\n",
       "      <td>...</td>\n",
       "      <td>...</td>\n",
       "      <td>...</td>\n",
       "      <td>...</td>\n",
       "      <td>...</td>\n",
       "      <td>...</td>\n",
       "      <td>...</td>\n",
       "      <td>...</td>\n",
       "    </tr>\n",
       "    <tr>\n",
       "      <th>209</th>\n",
       "      <td>1.51623</td>\n",
       "      <td>14.14</td>\n",
       "      <td>0.00</td>\n",
       "      <td>2.88</td>\n",
       "      <td>72.61</td>\n",
       "      <td>0.08</td>\n",
       "      <td>9.18</td>\n",
       "      <td>1.06</td>\n",
       "      <td>0.0</td>\n",
       "      <td>-0.998662</td>\n",
       "      <td>...</td>\n",
       "      <td>-0.907556</td>\n",
       "      <td>0.994110</td>\n",
       "      <td>-0.156778</td>\n",
       "      <td>-0.938212</td>\n",
       "      <td>-0.986455</td>\n",
       "      <td>0.417595</td>\n",
       "      <td>0.996802</td>\n",
       "      <td>-0.685707</td>\n",
       "      <td>-0.970191</td>\n",
       "      <td>0.488872</td>\n",
       "    </tr>\n",
       "    <tr>\n",
       "      <th>210</th>\n",
       "      <td>1.51685</td>\n",
       "      <td>14.92</td>\n",
       "      <td>0.00</td>\n",
       "      <td>1.99</td>\n",
       "      <td>73.06</td>\n",
       "      <td>0.00</td>\n",
       "      <td>8.40</td>\n",
       "      <td>1.59</td>\n",
       "      <td>0.0</td>\n",
       "      <td>-0.745916</td>\n",
       "      <td>...</td>\n",
       "      <td>-0.694286</td>\n",
       "      <td>0.975589</td>\n",
       "      <td>0.732899</td>\n",
       "      <td>-0.694286</td>\n",
       "      <td>-0.519289</td>\n",
       "      <td>-0.019202</td>\n",
       "      <td>1.000000</td>\n",
       "      <td>-0.844470</td>\n",
       "      <td>-0.519289</td>\n",
       "      <td>-0.019202</td>\n",
       "    </tr>\n",
       "    <tr>\n",
       "      <th>211</th>\n",
       "      <td>1.52065</td>\n",
       "      <td>14.36</td>\n",
       "      <td>0.00</td>\n",
       "      <td>2.02</td>\n",
       "      <td>73.42</td>\n",
       "      <td>0.00</td>\n",
       "      <td>8.44</td>\n",
       "      <td>1.64</td>\n",
       "      <td>0.0</td>\n",
       "      <td>-0.985127</td>\n",
       "      <td>...</td>\n",
       "      <td>-0.396249</td>\n",
       "      <td>0.984095</td>\n",
       "      <td>0.943346</td>\n",
       "      <td>-0.396249</td>\n",
       "      <td>-0.553048</td>\n",
       "      <td>-0.069148</td>\n",
       "      <td>1.000000</td>\n",
       "      <td>-0.792913</td>\n",
       "      <td>-0.553048</td>\n",
       "      <td>-0.069148</td>\n",
       "    </tr>\n",
       "    <tr>\n",
       "      <th>212</th>\n",
       "      <td>1.51651</td>\n",
       "      <td>14.38</td>\n",
       "      <td>0.00</td>\n",
       "      <td>1.94</td>\n",
       "      <td>73.61</td>\n",
       "      <td>0.00</td>\n",
       "      <td>8.48</td>\n",
       "      <td>1.57</td>\n",
       "      <td>0.0</td>\n",
       "      <td>-0.982278</td>\n",
       "      <td>...</td>\n",
       "      <td>-0.215718</td>\n",
       "      <td>0.917682</td>\n",
       "      <td>0.976284</td>\n",
       "      <td>-0.215718</td>\n",
       "      <td>-0.585923</td>\n",
       "      <td>0.000796</td>\n",
       "      <td>1.000000</td>\n",
       "      <td>-0.810833</td>\n",
       "      <td>-0.585923</td>\n",
       "      <td>0.000796</td>\n",
       "    </tr>\n",
       "    <tr>\n",
       "      <th>213</th>\n",
       "      <td>1.51711</td>\n",
       "      <td>14.23</td>\n",
       "      <td>0.00</td>\n",
       "      <td>2.08</td>\n",
       "      <td>73.36</td>\n",
       "      <td>0.00</td>\n",
       "      <td>8.62</td>\n",
       "      <td>1.67</td>\n",
       "      <td>0.0</td>\n",
       "      <td>-0.999234</td>\n",
       "      <td>...</td>\n",
       "      <td>-0.450591</td>\n",
       "      <td>0.955752</td>\n",
       "      <td>0.932968</td>\n",
       "      <td>-0.450591</td>\n",
       "      <td>-0.693271</td>\n",
       "      <td>-0.099041</td>\n",
       "      <td>1.000000</td>\n",
       "      <td>-0.648471</td>\n",
       "      <td>-0.693271</td>\n",
       "      <td>-0.099041</td>\n",
       "    </tr>\n",
       "  </tbody>\n",
       "</table>\n",
       "<p>214 rows × 45 columns</p>\n",
       "</div>"
      ],
      "text/plain": [
       "          RI     Na    Mg    Al     Si     K    Ca    Ba   Fe  cos(RI+Na)  \\\n",
       "0    1.52101  13.64  4.49  1.10  71.78  0.06  8.75  0.00  0.0   -0.854113   \n",
       "1    1.51761  13.89  3.60  1.36  72.73  0.48  7.83  0.00  0.0   -0.955232   \n",
       "2    1.51618  13.53  3.55  1.54  72.99  0.39  7.78  0.00  0.0   -0.788898   \n",
       "3    1.51766  13.21  3.69  1.29  72.61  0.57  8.22  0.00  0.0   -0.556771   \n",
       "4    1.51742  13.27  3.62  1.24  73.08  0.55  8.07  0.00  0.0   -0.605388   \n",
       "..       ...    ...   ...   ...    ...   ...   ...   ...  ...         ...   \n",
       "209  1.51623  14.14  0.00  2.88  72.61  0.08  9.18  1.06  0.0   -0.998662   \n",
       "210  1.51685  14.92  0.00  1.99  73.06  0.00  8.40  1.59  0.0   -0.745916   \n",
       "211  1.52065  14.36  0.00  2.02  73.42  0.00  8.44  1.64  0.0   -0.985127   \n",
       "212  1.51651  14.38  0.00  1.94  73.61  0.00  8.48  1.57  0.0   -0.982278   \n",
       "213  1.51711  14.23  0.00  2.08  73.36  0.00  8.62  1.67  0.0   -0.999234   \n",
       "\n",
       "     ...  cos(Si+K)  cos(Si+Ca)  cos(Si+Ba)  cos(Si+Fe)  cos(K+Ca)  cos(K+Ba)  \\\n",
       "0    ...  -0.914457    0.407201   -0.888546   -0.888546  -0.816902   0.998201   \n",
       "1    ...  -0.578939    0.434414   -0.890037   -0.890037  -0.440377   0.886995   \n",
       "2    ...  -0.432648    0.612633   -0.742924   -0.742924  -0.310785   0.924909   \n",
       "3    ...  -0.603136    0.658924   -0.938212   -0.938212  -0.805203   0.841901   \n",
       "4    ...  -0.196147    0.862094   -0.679754   -0.679754  -0.693271   0.852525   \n",
       "..   ...        ...         ...         ...         ...        ...        ...   \n",
       "209  ...  -0.907556    0.994110   -0.156778   -0.938212  -0.986455   0.417595   \n",
       "210  ...  -0.694286    0.975589    0.732899   -0.694286  -0.519289  -0.019202   \n",
       "211  ...  -0.396249    0.984095    0.943346   -0.396249  -0.553048  -0.069148   \n",
       "212  ...  -0.215718    0.917682    0.976284   -0.215718  -0.585923   0.000796   \n",
       "213  ...  -0.450591    0.955752    0.932968   -0.450591  -0.693271  -0.099041   \n",
       "\n",
       "     cos(K+Fe)  cos(Ca+Ba)  cos(Ca+Fe)  cos(Ba+Fe)  \n",
       "0     0.998201   -0.780846   -0.780846    1.000000  \n",
       "1     0.886995    0.023979    0.023979    1.000000  \n",
       "2     0.924909    0.073914    0.073914    1.000000  \n",
       "3     0.841901   -0.357900   -0.357900    1.000000  \n",
       "4     0.852525   -0.214342   -0.214342    1.000000  \n",
       "..         ...         ...         ...         ...  \n",
       "209   0.996802   -0.685707   -0.970191    0.488872  \n",
       "210   1.000000   -0.844470   -0.519289   -0.019202  \n",
       "211   1.000000   -0.792913   -0.553048   -0.069148  \n",
       "212   1.000000   -0.810833   -0.585923    0.000796  \n",
       "213   1.000000   -0.648471   -0.693271   -0.099041  \n",
       "\n",
       "[214 rows x 45 columns]"
      ]
     },
     "execution_count": 25,
     "metadata": {},
     "output_type": "execute_result"
    }
   ],
   "source": [
    "X = pd.read_csv('../glass_formula_a.csv')\n",
    "\n",
    "df = pd.read_csv('../glass.csv', sep=\",\")\n",
    "Y = df['Type']\n",
    "\n",
    "X_train, X_test, y_train, y_test = train_test_split(X, Y, test_size=0.15)\n",
    "X"
   ]
  },
  {
   "cell_type": "code",
   "execution_count": 10,
   "id": "4d033d40",
   "metadata": {},
   "outputs": [],
   "source": [
    "import warnings\n",
    "warnings.filterwarnings('ignore')\n",
    "from sklearn.metrics import accuracy_score\n",
    "from sklearn.model_selection import cross_val_score"
   ]
  },
  {
   "cell_type": "markdown",
   "id": "0c6a123e",
   "metadata": {},
   "source": [
    "# KNN"
   ]
  },
  {
   "cell_type": "code",
   "execution_count": 11,
   "id": "115a3a25",
   "metadata": {},
   "outputs": [
    {
     "name": "stdout",
     "output_type": "stream",
     "text": [
      "CPU times: user 7.02 s, sys: 37.7 ms, total: 7.06 s\n",
      "Wall time: 7.07 s\n"
     ]
    },
    {
     "data": {
      "text/plain": [
       "SequentialFeatureSelector(cv=10, estimator=KNeighborsClassifier(),\n",
       "                          k_features=(1, 10), scoring='accuracy')"
      ]
     },
     "execution_count": 11,
     "metadata": {},
     "output_type": "execute_result"
    }
   ],
   "source": [
    "%%time\n",
    "plain_sfs = SFS(KNeighborsClassifier(), \n",
    "          k_features=(1, 10), \n",
    "          forward=True, \n",
    "          floating=False,\n",
    "          scoring='accuracy', \n",
    "          cv=10)\n",
    "\n",
    "plain_sfs.fit(X, Y)"
   ]
  },
  {
   "cell_type": "code",
   "execution_count": 12,
   "id": "13438a27",
   "metadata": {},
   "outputs": [
    {
     "data": {
      "text/plain": [
       "0.6874458874458875"
      ]
     },
     "execution_count": 12,
     "metadata": {},
     "output_type": "execute_result"
    }
   ],
   "source": [
    "plain_sfs.k_score_"
   ]
  },
  {
   "cell_type": "code",
   "execution_count": 13,
   "id": "3362d921",
   "metadata": {},
   "outputs": [
    {
     "name": "stdout",
     "output_type": "stream",
     "text": [
      "              precision    recall  f1-score   support\n",
      "\n",
      "           1       0.42      0.71      0.53         7\n",
      "           2       0.70      0.64      0.67        11\n",
      "           3       0.00      0.00      0.00         3\n",
      "           5       0.60      0.75      0.67         4\n",
      "           6       0.00      0.00      0.00         2\n",
      "           7       0.83      0.83      0.83         6\n",
      "\n",
      "    accuracy                           0.61        33\n",
      "   macro avg       0.43      0.49      0.45        33\n",
      "weighted avg       0.55      0.61      0.57        33\n",
      "\n",
      "0.7073099415204679\n"
     ]
    }
   ],
   "source": [
    "selected_features = X.columns[list(plain_sfs.k_feature_idx_)]\n",
    "x_t = X_train[selected_features]\n",
    "clf = KNeighborsClassifier()\n",
    "clf.fit(x_t, y_train)\n",
    "\n",
    "x_test_filtered = X_test[selected_features]\n",
    "y_test_pred = clf.predict(x_test_filtered)\n",
    "print(classification_report(y_test, y_test_pred))\n",
    "print(cross_val_score(clf, X_train, y_train, cv=10).mean())"
   ]
  },
  {
   "cell_type": "markdown",
   "id": "176f7a87",
   "metadata": {},
   "source": [
    "# Logistic Regression"
   ]
  },
  {
   "cell_type": "code",
   "execution_count": 27,
   "id": "ffce7dd1",
   "metadata": {},
   "outputs": [
    {
     "name": "stdout",
     "output_type": "stream",
     "text": [
      "              precision    recall  f1-score   support\n",
      "\n",
      "           1       0.62      0.77      0.69        13\n",
      "           2       0.50      0.70      0.58        10\n",
      "           3       0.00      0.00      0.00         3\n",
      "           5       1.00      0.50      0.67         2\n",
      "           6       0.00      0.00      0.00         3\n",
      "           7       1.00      1.00      1.00         2\n",
      "\n",
      "    accuracy                           0.61        33\n",
      "   macro avg       0.52      0.49      0.49        33\n",
      "weighted avg       0.52      0.61      0.55        33\n",
      "\n",
      "0.7236842105263157\n"
     ]
    }
   ],
   "source": [
    "plain_sfs_lr = SFS(LogisticRegression(), \n",
    "          k_features=(1, 20), \n",
    "          forward=True, \n",
    "          floating=False, \n",
    "          cv=10)\n",
    "\n",
    "plain_sfs_lr.fit(X, Y)\n",
    "\n",
    "selected_features = X.columns[list(plain_sfs_lr.k_feature_idx_)]\n",
    "x_t = X_train[selected_features]\n",
    "clf = LogisticRegression()\n",
    "clf.fit(x_t, y_train)\n",
    "\n",
    "x_test_filtered = X_test[selected_features]\n",
    "y_test_pred = clf.predict(x_test_filtered)\n",
    "print(classification_report(y_test, y_test_pred))\n",
    "print(cross_val_score(clf, X_train, y_train, cv=10).mean())"
   ]
  },
  {
   "cell_type": "markdown",
   "id": "d04a4fa0",
   "metadata": {},
   "source": [
    "# Naive Bayes"
   ]
  },
  {
   "cell_type": "code",
   "execution_count": 19,
   "id": "dc7d599d",
   "metadata": {},
   "outputs": [
    {
     "data": {
      "text/plain": [
       "SequentialFeatureSelector(cv=10, estimator=GaussianNB(), k_features=(1, 20))"
      ]
     },
     "execution_count": 19,
     "metadata": {},
     "output_type": "execute_result"
    }
   ],
   "source": [
    "naive_bayes = GaussianNB()\n",
    "plain_sfs_nb = SFS(naive_bayes, \n",
    "          k_features=(1, 20), \n",
    "          forward=True, \n",
    "          floating=False, \n",
    "          cv=10)\n",
    "\n",
    "plain_sfs_nb.fit(X, Y) "
   ]
  },
  {
   "cell_type": "code",
   "execution_count": 20,
   "id": "e99e4a60",
   "metadata": {},
   "outputs": [
    {
     "data": {
      "text/plain": [
       "0.6638528138528138"
      ]
     },
     "execution_count": 20,
     "metadata": {},
     "output_type": "execute_result"
    }
   ],
   "source": [
    "plain_sfs_nb.k_score_"
   ]
  },
  {
   "cell_type": "code",
   "execution_count": 21,
   "id": "9246700b",
   "metadata": {},
   "outputs": [
    {
     "name": "stdout",
     "output_type": "stream",
     "text": [
      "              precision    recall  f1-score   support\n",
      "\n",
      "           1       0.33      0.43      0.38         7\n",
      "           2       0.70      0.64      0.67        11\n",
      "           3       0.00      0.00      0.00         3\n",
      "           5       1.00      0.75      0.86         4\n",
      "           6       1.00      1.00      1.00         2\n",
      "           7       0.75      1.00      0.86         6\n",
      "\n",
      "    accuracy                           0.64        33\n",
      "   macro avg       0.63      0.64      0.63        33\n",
      "weighted avg       0.62      0.64      0.62        33\n",
      "\n",
      "0.5517543859649123\n"
     ]
    }
   ],
   "source": [
    "selected_features = X.columns[list(plain_sfs_nb.k_feature_idx_)]\n",
    "x_t = X_train[selected_features]\n",
    "clf = GaussianNB()\n",
    "clf.fit(x_t, y_train)\n",
    "\n",
    "x_test_filtered = X_test[selected_features]\n",
    "y_test_pred = clf.predict(x_test_filtered)\n",
    "print(classification_report(y_test, y_test_pred))\n",
    "print(cross_val_score(clf, X_train, y_train, cv=10).mean())"
   ]
  },
  {
   "cell_type": "markdown",
   "id": "1fc09f56",
   "metadata": {},
   "source": [
    "# SVM"
   ]
  },
  {
   "cell_type": "code",
   "execution_count": 22,
   "id": "2b0bdeef",
   "metadata": {},
   "outputs": [
    {
     "data": {
      "text/plain": [
       "SequentialFeatureSelector(cv=10, estimator=SVC(), k_features=(1, 20))"
      ]
     },
     "execution_count": 22,
     "metadata": {},
     "output_type": "execute_result"
    }
   ],
   "source": [
    "\n",
    "plain_sfs_svm = SFS(svm.SVC(), \n",
    "          k_features=(1, 20), \n",
    "          forward=True, \n",
    "          floating=False, \n",
    "          cv=10)\n",
    "\n",
    "plain_sfs_svm.fit(X, Y)"
   ]
  },
  {
   "cell_type": "code",
   "execution_count": 23,
   "id": "610d2d44",
   "metadata": {},
   "outputs": [
    {
     "data": {
      "text/plain": [
       "0.7400432900432901"
      ]
     },
     "execution_count": 23,
     "metadata": {},
     "output_type": "execute_result"
    }
   ],
   "source": [
    "plain_sfs_svm.k_score_"
   ]
  },
  {
   "cell_type": "code",
   "execution_count": 24,
   "id": "7c772b6f",
   "metadata": {},
   "outputs": [
    {
     "name": "stdout",
     "output_type": "stream",
     "text": [
      "              precision    recall  f1-score   support\n",
      "\n",
      "           1       0.40      0.57      0.47         7\n",
      "           2       0.47      0.64      0.54        11\n",
      "           3       0.00      0.00      0.00         3\n",
      "           5       1.00      0.50      0.67         4\n",
      "           6       1.00      0.50      0.67         2\n",
      "           7       1.00      0.83      0.91         6\n",
      "\n",
      "    accuracy                           0.58        33\n",
      "   macro avg       0.64      0.51      0.54        33\n",
      "weighted avg       0.60      0.58      0.57        33\n",
      "\n",
      "0.3593567251461988\n"
     ]
    }
   ],
   "source": [
    "selected_features = X.columns[list(plain_sfs_svm.k_feature_idx_)]\n",
    "x_t = X_train[selected_features]\n",
    "clf = svm.SVC()\n",
    "clf.fit(x_t, y_train)\n",
    "\n",
    "x_test_filtered = X_test[selected_features]\n",
    "y_test_pred = clf.predict(x_test_filtered)\n",
    "print(classification_report(y_test, y_test_pred))\n",
    "print(cross_val_score(clf, X_train, y_train, cv=10).mean())"
   ]
  }
 ],
 "metadata": {
  "kernelspec": {
   "display_name": "Python 3",
   "language": "python",
   "name": "python3"
  },
  "language_info": {
   "codemirror_mode": {
    "name": "ipython",
    "version": 3
   },
   "file_extension": ".py",
   "mimetype": "text/x-python",
   "name": "python",
   "nbconvert_exporter": "python",
   "pygments_lexer": "ipython3",
   "version": "3.8.12"
  }
 },
 "nbformat": 4,
 "nbformat_minor": 5
}
