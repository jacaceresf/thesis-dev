{
 "cells": [
  {
   "cell_type": "code",
   "execution_count": 8,
   "id": "113fe1f5",
   "metadata": {},
   "outputs": [],
   "source": [
    "import pandas as pd\n",
    "import numpy as np\n",
    "from sklearn.model_selection import train_test_split\n",
    "from sklearn.metrics import mean_squared_error\n",
    "from sklearn.linear_model import LinearRegression\n",
    "from sklearn.preprocessing import PolynomialFeatures\n",
    "\n",
    "\n",
    "from sklearn.naive_bayes import GaussianNB\n",
    "from sklearn import svm\n",
    "from sklearn.linear_model import LogisticRegression\n",
    "from sklearn.neighbors import KNeighborsClassifier\n",
    "from mlxtend.feature_selection import SequentialFeatureSelector as SFS\n",
    "from sklearn.metrics import classification_report"
   ]
  },
  {
   "cell_type": "code",
   "execution_count": 9,
   "id": "4feb5fad",
   "metadata": {},
   "outputs": [],
   "source": [
    "glass_ds = pd.read_csv('../new_glass.csv')\n",
    "X = glass_ds.drop(columns='Type')\n",
    "Y = glass_ds['Type']\n",
    "\n",
    "X_train, X_test, y_train, y_test = train_test_split(X, Y, test_size=0.15)"
   ]
  },
  {
   "cell_type": "code",
   "execution_count": 10,
   "id": "4d033d40",
   "metadata": {},
   "outputs": [],
   "source": [
    "import warnings\n",
    "warnings.filterwarnings('ignore')\n",
    "from sklearn.metrics import accuracy_score\n",
    "from sklearn.model_selection import cross_val_score\n",
    "from sklearn.feature_selection import RFECV, RFE"
   ]
  },
  {
   "cell_type": "markdown",
   "id": "0c6a123e",
   "metadata": {},
   "source": [
    "# Logistic Regression"
   ]
  },
  {
   "cell_type": "code",
   "execution_count": 11,
   "id": "115a3a25",
   "metadata": {},
   "outputs": [
    {
     "data": {
      "text/plain": [
       "RFECV(cv=10, estimator=LogisticRegression(), min_features_to_select=10,\n",
       "      scoring='accuracy')"
      ]
     },
     "execution_count": 11,
     "metadata": {},
     "output_type": "execute_result"
    }
   ],
   "source": [
    "lr_rfecv = RFECV(estimator=LogisticRegression(), \n",
    "                  cv=10, \n",
    "                  min_features_to_select=10,\n",
    "                scoring=\"accuracy\")\n",
    "lr_rfecv.fit(X, Y)"
   ]
  },
  {
   "cell_type": "code",
   "execution_count": 22,
   "id": "13438a27",
   "metadata": {},
   "outputs": [],
   "source": [
    "feature_names = list(X.columns)\n",
    "# to print out results\n",
    "selected_features = []\n",
    "for idx, name in enumerate(feature_names):\n",
    "    if lr_rfecv.support_[idx]:\n",
    "        selected_features.append(name)\n",
    "\n"
   ]
  },
  {
   "cell_type": "code",
   "execution_count": 23,
   "id": "a1c1e3c3",
   "metadata": {},
   "outputs": [
    {
     "name": "stdout",
     "output_type": "stream",
     "text": [
      "              precision    recall  f1-score   support\n",
      "\n",
      "           1       0.58      0.64      0.61        56\n",
      "           2       0.59      0.67      0.63        64\n",
      "           3       0.00      0.00      0.00        15\n",
      "           5       0.83      0.83      0.83        12\n",
      "           6       0.90      1.00      0.95         9\n",
      "           7       0.96      0.92      0.94        25\n",
      "\n",
      "    accuracy                           0.67       181\n",
      "   macro avg       0.64      0.68      0.66       181\n",
      "weighted avg       0.62      0.67      0.64       181\n",
      "\n",
      "0.619298245614035\n"
     ]
    }
   ],
   "source": [
    "x_lr = X_train[selected_features]\n",
    "lr = LogisticRegression()\n",
    "lr.fit(x_lr, y_train)\n",
    "\n",
    "x_test_filtered = X_train[selected_features]\n",
    "y_test_pred = lr.predict(x_test_filtered)\n",
    "print(classification_report(y_train, y_test_pred))\n",
    "print(cross_val_score(lr, X_train, y_train, cv=10).mean())"
   ]
  },
  {
   "cell_type": "markdown",
   "id": "1fc09f56",
   "metadata": {},
   "source": [
    "# SVM"
   ]
  },
  {
   "cell_type": "code",
   "execution_count": 27,
   "id": "bb6076b1",
   "metadata": {},
   "outputs": [],
   "source": [
    "from sklearn import svm\n",
    "from sklearn.svm import LinearSVC"
   ]
  },
  {
   "cell_type": "code",
   "execution_count": 28,
   "id": "2b0bdeef",
   "metadata": {},
   "outputs": [
    {
     "data": {
      "text/plain": [
       "RFECV(cv=10, estimator=LinearSVC(), min_features_to_select=10,\n",
       "      scoring='accuracy')"
      ]
     },
     "execution_count": 28,
     "metadata": {},
     "output_type": "execute_result"
    }
   ],
   "source": [
    "rf_svm_ = RFECV(estimator=LinearSVC(), \n",
    "                cv=10, \n",
    "                min_features_to_select=10,\n",
    "                scoring=\"accuracy\")\n",
    "rf_svm_.fit(X, Y)"
   ]
  },
  {
   "cell_type": "code",
   "execution_count": 30,
   "id": "610d2d44",
   "metadata": {},
   "outputs": [
    {
     "data": {
      "text/plain": [
       "['cos(RI+Mg)',\n",
       " 'cos(Na+K)',\n",
       " 'cos(Mg+Al)',\n",
       " 'cos(Al+K)',\n",
       " 'cos(Al+Ba)',\n",
       " 'cos(K+Ca)',\n",
       " 'cos(Ca+Ba)',\n",
       " 'cos(2*pi*(RI-min(RI)+Mg-min(Mg)))/(max(RI)+max(Mg)-min(RI)-min(Mg))',\n",
       " 'Na*K',\n",
       " 'Al*K',\n",
       " 'Al*Ba']"
      ]
     },
     "execution_count": 30,
     "metadata": {},
     "output_type": "execute_result"
    }
   ],
   "source": [
    "feature_names = list(X.columns)\n",
    "# to print out results\n",
    "selected_features = []\n",
    "for idx, name in enumerate(feature_names):\n",
    "    if rf_svm_.support_[idx]:\n",
    "        selected_features.append(name)\n",
    "\n",
    "selected_features"
   ]
  },
  {
   "cell_type": "code",
   "execution_count": 31,
   "id": "c3e2956e",
   "metadata": {},
   "outputs": [
    {
     "name": "stdout",
     "output_type": "stream",
     "text": [
      "              precision    recall  f1-score   support\n",
      "\n",
      "           1       0.47      0.29      0.36        56\n",
      "           2       0.48      0.88      0.62        64\n",
      "           3       0.00      0.00      0.00        15\n",
      "           5       1.00      0.17      0.29        12\n",
      "           6       0.00      0.00      0.00         9\n",
      "           7       0.76      0.88      0.81        25\n",
      "\n",
      "    accuracy                           0.53       181\n",
      "   macro avg       0.45      0.37      0.35       181\n",
      "weighted avg       0.49      0.53      0.46       181\n",
      "\n",
      "0.45847953216374265\n"
     ]
    }
   ],
   "source": [
    "x_lr = X_train[selected_features]\n",
    "lr = svm.SVC()\n",
    "lr.fit(x_lr, y_train)\n",
    "\n",
    "x_test_filtered = X_train[selected_features]\n",
    "y_test_pred = lr.predict(x_test_filtered)\n",
    "print(classification_report(y_train, y_test_pred))\n",
    "print(cross_val_score(lr, X_train, y_train, cv=10).mean())"
   ]
  }
 ],
 "metadata": {
  "kernelspec": {
   "display_name": "Python 3",
   "language": "python",
   "name": "python3"
  },
  "language_info": {
   "codemirror_mode": {
    "name": "ipython",
    "version": 3
   },
   "file_extension": ".py",
   "mimetype": "text/x-python",
   "name": "python",
   "nbconvert_exporter": "python",
   "pygments_lexer": "ipython3",
   "version": "3.8.12"
  }
 },
 "nbformat": 4,
 "nbformat_minor": 5
}
