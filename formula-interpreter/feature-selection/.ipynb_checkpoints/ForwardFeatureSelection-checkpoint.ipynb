{
 "cells": [
  {
   "cell_type": "code",
   "execution_count": 1,
   "id": "113fe1f5",
   "metadata": {},
   "outputs": [],
   "source": [
    "import pandas as pd\n",
    "import numpy as np\n",
    "from sklearn.model_selection import train_test_split\n",
    "from sklearn.metrics import mean_squared_error\n",
    "from sklearn.linear_model import LinearRegression\n",
    "from sklearn.preprocessing import PolynomialFeatures\n",
    "\n",
    "\n",
    "from sklearn.naive_bayes import GaussianNB\n",
    "from sklearn import svm\n",
    "from sklearn.linear_model import LogisticRegression\n",
    "from sklearn.neighbors import KNeighborsClassifier\n",
    "from mlxtend.feature_selection import SequentialFeatureSelector as SFS\n",
    "from sklearn.metrics import confusion_matrix, classification_report"
   ]
  },
  {
   "cell_type": "code",
   "execution_count": 2,
   "id": "4feb5fad",
   "metadata": {},
   "outputs": [],
   "source": [
    "glass_ds = pd.read_csv('../new_glass.csv')\n",
    "X = glass_ds.drop(columns='Type')\n",
    "Y = glass_ds['Type']\n",
    "\n",
    "X_train, X_test, y_train, y_test = train_test_split(X, Y, test_size=0.15)"
   ]
  },
  {
   "cell_type": "code",
   "execution_count": 3,
   "id": "4d033d40",
   "metadata": {},
   "outputs": [],
   "source": [
    "import warnings\n",
    "warnings.filterwarnings('ignore')\n",
    "from sklearn.metrics import accuracy_score\n",
    "from sklearn.model_selection import cross_val_score"
   ]
  },
  {
   "cell_type": "markdown",
   "id": "0c6a123e",
   "metadata": {},
   "source": [
    "# KNN"
   ]
  },
  {
   "cell_type": "code",
   "execution_count": 28,
   "id": "115a3a25",
   "metadata": {},
   "outputs": [
    {
     "name": "stdout",
     "output_type": "stream",
     "text": [
      "CPU times: user 19.7 s, sys: 108 ms, total: 19.8 s\n",
      "Wall time: 19.9 s\n"
     ]
    },
    {
     "data": {
      "text/plain": [
       "SequentialFeatureSelector(cv=10, estimator=KNeighborsClassifier(),\n",
       "                          k_features=(1, 10), scoring='accuracy')"
      ]
     },
     "execution_count": 28,
     "metadata": {},
     "output_type": "execute_result"
    }
   ],
   "source": [
    "%%time\n",
    "plain_sfs = SFS(KNeighborsClassifier(), \n",
    "          k_features=(1, 10), \n",
    "          forward=True, \n",
    "          floating=False,\n",
    "          scoring='accuracy', \n",
    "          cv=10)\n",
    "\n",
    "plain_sfs.fit(X, Y)"
   ]
  },
  {
   "cell_type": "code",
   "execution_count": 29,
   "id": "13438a27",
   "metadata": {},
   "outputs": [
    {
     "data": {
      "text/plain": [
       "0.6259740259740261"
      ]
     },
     "execution_count": 29,
     "metadata": {},
     "output_type": "execute_result"
    }
   ],
   "source": [
    "plain_sfs.k_score_"
   ]
  },
  {
   "cell_type": "code",
   "execution_count": 30,
   "id": "3362d921",
   "metadata": {},
   "outputs": [
    {
     "name": "stdout",
     "output_type": "stream",
     "text": [
      "              precision    recall  f1-score   support\n",
      "\n",
      "           1       0.50      0.67      0.57         9\n",
      "           2       0.79      0.85      0.81        13\n",
      "           3       0.00      0.00      0.00         2\n",
      "           5       1.00      0.20      0.33         5\n",
      "           6       0.00      0.00      0.00         1\n",
      "           7       0.60      1.00      0.75         3\n",
      "\n",
      "    accuracy                           0.64        33\n",
      "   macro avg       0.48      0.45      0.41        33\n",
      "weighted avg       0.65      0.64      0.60        33\n",
      "\n",
      "0.6406432748538011\n"
     ]
    }
   ],
   "source": [
    "selected_features = X.columns[list(plain_sfs.k_feature_idx_)]\n",
    "x_t = X_train[selected_features]\n",
    "clf = KNeighborsClassifier()\n",
    "clf.fit(x_t, y_train)\n",
    "\n",
    "x_test_filtered = X_test[selected_features]\n",
    "y_test_pred = clf.predict(x_test_filtered)\n",
    "print(classification_report(y_test, y_test_pred))\n",
    "print(cross_val_score(clf, X_train, y_train, cv=10).mean())"
   ]
  },
  {
   "cell_type": "markdown",
   "id": "176f7a87",
   "metadata": {},
   "source": [
    "# Logistic Regression"
   ]
  },
  {
   "cell_type": "code",
   "execution_count": 32,
   "id": "ffce7dd1",
   "metadata": {},
   "outputs": [
    {
     "name": "stderr",
     "output_type": "stream",
     "text": [
      "\n",
      "STOPPING EARLY DUE TO KEYBOARD INTERRUPT..."
     ]
    },
    {
     "data": {
      "text/plain": [
       "SequentialFeatureSelector(cv=10, estimator=LogisticRegression(),\n",
       "                          k_features=(1, 50))"
      ]
     },
     "execution_count": 32,
     "metadata": {},
     "output_type": "execute_result"
    }
   ],
   "source": [
    "plain_sfs_lr = SFS(LogisticRegression(), \n",
    "          k_features=(1, 50), \n",
    "          forward=True, \n",
    "          floating=False, \n",
    "          cv=10)\n",
    "\n",
    "plain_sfs_lr.fit(X, Y)"
   ]
  },
  {
   "cell_type": "code",
   "execution_count": 33,
   "id": "f28a626a",
   "metadata": {},
   "outputs": [
    {
     "data": {
      "text/plain": [
       "LogisticRegression()"
      ]
     },
     "execution_count": 33,
     "metadata": {},
     "output_type": "execute_result"
    }
   ],
   "source": [
    "selected_features = X.columns[list(plain_sfs_lr.k_feature_idx_)]\n",
    "x_t = X_train[selected_features]\n",
    "clf = LogisticRegression()\n",
    "clf.fit(x_t, y_train)"
   ]
  },
  {
   "cell_type": "code",
   "execution_count": 34,
   "id": "69ae4025",
   "metadata": {},
   "outputs": [
    {
     "name": "stdout",
     "output_type": "stream",
     "text": [
      "              precision    recall  f1-score   support\n",
      "\n",
      "           1       0.86      0.67      0.75         9\n",
      "           2       0.71      0.92      0.80        13\n",
      "           3       0.00      0.00      0.00         2\n",
      "           5       1.00      0.60      0.75         5\n",
      "           6       1.00      1.00      1.00         1\n",
      "           7       0.60      1.00      0.75         3\n",
      "\n",
      "    accuracy                           0.76        33\n",
      "   macro avg       0.69      0.70      0.67        33\n",
      "weighted avg       0.75      0.76      0.73        33\n",
      "\n",
      "0.6187134502923977\n"
     ]
    }
   ],
   "source": [
    "x_test_filtered = X_test[selected_features]\n",
    "y_test_pred = clf.predict(x_test_filtered)\n",
    "print(classification_report(y_test, y_test_pred))\n",
    "print(cross_val_score(clf, X_train, y_train, cv=10).mean())"
   ]
  },
  {
   "cell_type": "markdown",
   "id": "d04a4fa0",
   "metadata": {},
   "source": [
    "# Naive Bayes"
   ]
  },
  {
   "cell_type": "code",
   "execution_count": 25,
   "id": "dc7d599d",
   "metadata": {},
   "outputs": [
    {
     "data": {
      "text/plain": [
       "SequentialFeatureSelector(cv=10, estimator=GaussianNB(), k_features=(1, 50))"
      ]
     },
     "execution_count": 25,
     "metadata": {},
     "output_type": "execute_result"
    }
   ],
   "source": [
    "naive_bayes = GaussianNB()\n",
    "plain_sfs_nb = SFS(naive_bayes, \n",
    "          k_features=(1, 50), \n",
    "          forward=True, \n",
    "          floating=False, \n",
    "          cv=10)\n",
    "\n",
    "plain_sfs_nb.fit(X, Y) "
   ]
  },
  {
   "cell_type": "code",
   "execution_count": 26,
   "id": "e99e4a60",
   "metadata": {},
   "outputs": [
    {
     "data": {
      "text/plain": [
       "0.7015151515151515"
      ]
     },
     "execution_count": 26,
     "metadata": {},
     "output_type": "execute_result"
    }
   ],
   "source": [
    "plain_sfs_nb.k_score_"
   ]
  },
  {
   "cell_type": "code",
   "execution_count": 27,
   "id": "9246700b",
   "metadata": {},
   "outputs": [
    {
     "name": "stdout",
     "output_type": "stream",
     "text": [
      "              precision    recall  f1-score   support\n",
      "\n",
      "           1       0.62      0.56      0.59         9\n",
      "           2       0.71      0.77      0.74        13\n",
      "           3       1.00      0.50      0.67         2\n",
      "           5       0.83      1.00      0.91         5\n",
      "           6       1.00      1.00      1.00         1\n",
      "           7       1.00      1.00      1.00         3\n",
      "\n",
      "    accuracy                           0.76        33\n",
      "   macro avg       0.86      0.80      0.82        33\n",
      "weighted avg       0.76      0.76      0.75        33\n",
      "\n",
      "0.4976608187134503\n"
     ]
    }
   ],
   "source": [
    "selected_features = X.columns[list(plain_sfs_nb.k_feature_idx_)]\n",
    "x_t = X_train[selected_features]\n",
    "clf = GaussianNB()\n",
    "clf.fit(x_t, y_train)\n",
    "\n",
    "x_test_filtered = X_test[selected_features]\n",
    "y_test_pred = clf.predict(x_test_filtered)\n",
    "print(classification_report(y_test, y_test_pred))\n",
    "print(cross_val_score(clf, X_train, y_train, cv=10).mean())"
   ]
  },
  {
   "cell_type": "markdown",
   "id": "1fc09f56",
   "metadata": {},
   "source": [
    "# SVM"
   ]
  },
  {
   "cell_type": "code",
   "execution_count": 22,
   "id": "2b0bdeef",
   "metadata": {},
   "outputs": [
    {
     "data": {
      "text/plain": [
       "SequentialFeatureSelector(cv=10, estimator=SVC(), k_features=(1, 50))"
      ]
     },
     "execution_count": 22,
     "metadata": {},
     "output_type": "execute_result"
    }
   ],
   "source": [
    "\n",
    "plain_sfs_svm = SFS(svm.SVC(), \n",
    "          k_features=(1, 50), \n",
    "          forward=True, \n",
    "          floating=False, \n",
    "          cv=10)\n",
    "\n",
    "plain_sfs_svm.fit(X, Y)"
   ]
  },
  {
   "cell_type": "code",
   "execution_count": 23,
   "id": "610d2d44",
   "metadata": {},
   "outputs": [
    {
     "data": {
      "text/plain": [
       "0.753896103896104"
      ]
     },
     "execution_count": 23,
     "metadata": {},
     "output_type": "execute_result"
    }
   ],
   "source": [
    "plain_sfs_svm.k_score_"
   ]
  },
  {
   "cell_type": "code",
   "execution_count": 24,
   "id": "7c772b6f",
   "metadata": {},
   "outputs": [
    {
     "name": "stdout",
     "output_type": "stream",
     "text": [
      "              precision    recall  f1-score   support\n",
      "\n",
      "           1       0.71      0.56      0.63         9\n",
      "           2       0.71      0.92      0.80        13\n",
      "           3       0.00      0.00      0.00         2\n",
      "           5       1.00      0.60      0.75         5\n",
      "           6       1.00      1.00      1.00         1\n",
      "           7       0.60      1.00      0.75         3\n",
      "\n",
      "    accuracy                           0.73        33\n",
      "   macro avg       0.67      0.68      0.65        33\n",
      "weighted avg       0.71      0.73      0.70        33\n",
      "\n",
      "0.45847953216374265\n"
     ]
    }
   ],
   "source": [
    "selected_features = X.columns[list(plain_sfs_svm.k_feature_idx_)]\n",
    "x_t = X_train[selected_features]\n",
    "clf = svm.SVC()\n",
    "clf.fit(x_t, y_train)\n",
    "\n",
    "x_test_filtered = X_test[selected_features]\n",
    "y_test_pred = clf.predict(x_test_filtered)\n",
    "print(classification_report(y_test, y_test_pred))\n",
    "print(cross_val_score(clf, X_train, y_train, cv=10).mean())"
   ]
  }
 ],
 "metadata": {
  "kernelspec": {
   "display_name": "Python 3",
   "language": "python",
   "name": "python3"
  },
  "language_info": {
   "codemirror_mode": {
    "name": "ipython",
    "version": 3
   },
   "file_extension": ".py",
   "mimetype": "text/x-python",
   "name": "python",
   "nbconvert_exporter": "python",
   "pygments_lexer": "ipython3",
   "version": "3.8.12"
  }
 },
 "nbformat": 4,
 "nbformat_minor": 5
}
