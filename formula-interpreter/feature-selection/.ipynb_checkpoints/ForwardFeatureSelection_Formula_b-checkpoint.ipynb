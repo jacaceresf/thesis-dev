{
 "cells": [
  {
   "cell_type": "code",
   "execution_count": 1,
   "id": "113fe1f5",
   "metadata": {},
   "outputs": [],
   "source": [
    "import pandas as pd\n",
    "import numpy as np\n",
    "from sklearn.model_selection import train_test_split\n",
    "from sklearn.metrics import mean_squared_error\n",
    "from sklearn.linear_model import LinearRegression\n",
    "from sklearn.preprocessing import PolynomialFeatures\n",
    "\n",
    "\n",
    "from sklearn.naive_bayes import GaussianNB\n",
    "from sklearn import svm\n",
    "from sklearn.linear_model import LogisticRegression\n",
    "from sklearn.neighbors import KNeighborsClassifier\n",
    "from mlxtend.feature_selection import SequentialFeatureSelector as SFS\n",
    "from sklearn.metrics import confusion_matrix, classification_report"
   ]
  },
  {
   "cell_type": "code",
   "execution_count": 2,
   "id": "4feb5fad",
   "metadata": {},
   "outputs": [],
   "source": [
    "X = pd.read_csv('../glass_formula_b.csv')\n",
    "\n",
    "df = pd.read_csv('../glass.csv', sep=\",\")\n",
    "Y = df['Type']\n",
    "\n",
    "X_train, X_test, y_train, y_test = train_test_split(X, Y, test_size=0.15)"
   ]
  },
  {
   "cell_type": "code",
   "execution_count": 3,
   "id": "4d033d40",
   "metadata": {},
   "outputs": [],
   "source": [
    "import warnings\n",
    "warnings.filterwarnings('ignore')\n",
    "from sklearn.metrics import accuracy_score\n",
    "from sklearn.model_selection import cross_val_score"
   ]
  },
  {
   "cell_type": "markdown",
   "id": "0c6a123e",
   "metadata": {},
   "source": [
    "# KNN"
   ]
  },
  {
   "cell_type": "code",
   "execution_count": 4,
   "id": "115a3a25",
   "metadata": {},
   "outputs": [
    {
     "name": "stdout",
     "output_type": "stream",
     "text": [
      "CPU times: user 25.3 s, sys: 114 ms, total: 25.4 s\n",
      "Wall time: 12.4 s\n"
     ]
    },
    {
     "data": {
      "text/plain": [
       "SequentialFeatureSelector(cv=10, estimator=KNeighborsClassifier(),\n",
       "                          k_features=(1, 20), scoring='accuracy')"
      ]
     },
     "execution_count": 4,
     "metadata": {},
     "output_type": "execute_result"
    }
   ],
   "source": [
    "%%time\n",
    "plain_sfs = SFS(KNeighborsClassifier(), \n",
    "          k_features=(1, 20), \n",
    "          forward=True, \n",
    "          floating=False,\n",
    "          scoring='accuracy', \n",
    "          cv=10)\n",
    "\n",
    "plain_sfs.fit(X, Y)"
   ]
  },
  {
   "cell_type": "code",
   "execution_count": 5,
   "id": "13438a27",
   "metadata": {},
   "outputs": [
    {
     "data": {
      "text/plain": [
       "0.7298701298701298"
      ]
     },
     "execution_count": 5,
     "metadata": {},
     "output_type": "execute_result"
    }
   ],
   "source": [
    "plain_sfs.k_score_"
   ]
  },
  {
   "cell_type": "code",
   "execution_count": 6,
   "id": "3362d921",
   "metadata": {},
   "outputs": [
    {
     "name": "stdout",
     "output_type": "stream",
     "text": [
      "              precision    recall  f1-score   support\n",
      "\n",
      "           1       0.71      0.92      0.80        13\n",
      "           2       0.90      0.64      0.75        14\n",
      "           3       0.00      0.00      0.00         1\n",
      "           5       1.00      1.00      1.00         1\n",
      "           6       0.00      0.00      0.00         0\n",
      "           7       1.00      0.75      0.86         4\n",
      "\n",
      "    accuracy                           0.76        33\n",
      "   macro avg       0.60      0.55      0.57        33\n",
      "weighted avg       0.81      0.76      0.77        33\n",
      "\n",
      "0.6950292397660818\n"
     ]
    }
   ],
   "source": [
    "selected_features = X.columns[list(plain_sfs.k_feature_idx_)]\n",
    "x_t = X_train[selected_features]\n",
    "clf = KNeighborsClassifier()\n",
    "clf.fit(x_t, y_train)\n",
    "\n",
    "x_test_filtered = X_test[selected_features]\n",
    "y_test_pred = clf.predict(x_test_filtered)\n",
    "print(classification_report(y_test, y_test_pred))\n",
    "print(cross_val_score(clf, X_train, y_train, cv=10).mean())"
   ]
  },
  {
   "cell_type": "markdown",
   "id": "d04a4fa0",
   "metadata": {},
   "source": [
    "# Naive Bayes"
   ]
  },
  {
   "cell_type": "code",
   "execution_count": 7,
   "id": "dc7d599d",
   "metadata": {},
   "outputs": [
    {
     "data": {
      "text/plain": [
       "SequentialFeatureSelector(cv=10, estimator=GaussianNB(), k_features=(1, 20))"
      ]
     },
     "execution_count": 7,
     "metadata": {},
     "output_type": "execute_result"
    }
   ],
   "source": [
    "naive_bayes = GaussianNB()\n",
    "plain_sfs_nb = SFS(naive_bayes, \n",
    "          k_features=(1, 20), \n",
    "          forward=True, \n",
    "          floating=False, \n",
    "          cv=10)\n",
    "\n",
    "plain_sfs_nb.fit(X, Y) "
   ]
  },
  {
   "cell_type": "code",
   "execution_count": 8,
   "id": "e99e4a60",
   "metadata": {},
   "outputs": [
    {
     "data": {
      "text/plain": [
       "0.6545454545454545"
      ]
     },
     "execution_count": 8,
     "metadata": {},
     "output_type": "execute_result"
    }
   ],
   "source": [
    "plain_sfs_nb.k_score_"
   ]
  },
  {
   "cell_type": "code",
   "execution_count": 9,
   "id": "9246700b",
   "metadata": {},
   "outputs": [
    {
     "name": "stdout",
     "output_type": "stream",
     "text": [
      "              precision    recall  f1-score   support\n",
      "\n",
      "           1       0.71      0.77      0.74        13\n",
      "           2       0.77      0.71      0.74        14\n",
      "           3       0.00      0.00      0.00         1\n",
      "           5       0.00      0.00      0.00         1\n",
      "           7       0.80      1.00      0.89         4\n",
      "\n",
      "    accuracy                           0.73        33\n",
      "   macro avg       0.46      0.50      0.47        33\n",
      "weighted avg       0.70      0.73      0.71        33\n",
      "\n",
      "0.5014619883040936\n"
     ]
    }
   ],
   "source": [
    "selected_features = X.columns[list(plain_sfs_nb.k_feature_idx_)]\n",
    "x_t = X_train[selected_features]\n",
    "clf = GaussianNB()\n",
    "clf.fit(x_t, y_train)\n",
    "\n",
    "x_test_filtered = X_test[selected_features]\n",
    "y_test_pred = clf.predict(x_test_filtered)\n",
    "print(classification_report(y_test, y_test_pred))\n",
    "print(cross_val_score(clf, X_train, y_train, cv=10).mean())"
   ]
  },
  {
   "cell_type": "markdown",
   "id": "1fc09f56",
   "metadata": {},
   "source": [
    "# SVM"
   ]
  },
  {
   "cell_type": "code",
   "execution_count": 10,
   "id": "2b0bdeef",
   "metadata": {},
   "outputs": [
    {
     "data": {
      "text/plain": [
       "SequentialFeatureSelector(cv=10, estimator=SVC(), k_features=(1, 20))"
      ]
     },
     "execution_count": 10,
     "metadata": {},
     "output_type": "execute_result"
    }
   ],
   "source": [
    "\n",
    "plain_sfs_svm = SFS(svm.SVC(), \n",
    "          k_features=(1, 20), \n",
    "          forward=True, \n",
    "          floating=False, \n",
    "          cv=10)\n",
    "\n",
    "plain_sfs_svm.fit(X, Y)"
   ]
  },
  {
   "cell_type": "code",
   "execution_count": 11,
   "id": "610d2d44",
   "metadata": {},
   "outputs": [
    {
     "data": {
      "text/plain": [
       "0.6681818181818182"
      ]
     },
     "execution_count": 11,
     "metadata": {},
     "output_type": "execute_result"
    }
   ],
   "source": [
    "plain_sfs_svm.k_score_"
   ]
  },
  {
   "cell_type": "code",
   "execution_count": 12,
   "id": "7c772b6f",
   "metadata": {},
   "outputs": [
    {
     "name": "stdout",
     "output_type": "stream",
     "text": [
      "              precision    recall  f1-score   support\n",
      "\n",
      "           1       0.71      0.77      0.74        13\n",
      "           2       0.69      0.79      0.73        14\n",
      "           3       0.00      0.00      0.00         1\n",
      "           5       0.00      0.00      0.00         1\n",
      "           7       1.00      0.75      0.86         4\n",
      "\n",
      "    accuracy                           0.73        33\n",
      "   macro avg       0.48      0.46      0.47        33\n",
      "weighted avg       0.69      0.73      0.71        33\n",
      "\n",
      "0.3423976608187135\n"
     ]
    }
   ],
   "source": [
    "selected_features = X.columns[list(plain_sfs_svm.k_feature_idx_)]\n",
    "x_t = X_train[selected_features]\n",
    "clf = svm.SVC()\n",
    "clf.fit(x_t, y_train)\n",
    "\n",
    "x_test_filtered = X_test[selected_features]\n",
    "y_test_pred = clf.predict(x_test_filtered)\n",
    "print(classification_report(y_test, y_test_pred))\n",
    "print(cross_val_score(clf, X_train, y_train, cv=10).mean())"
   ]
  },
  {
   "cell_type": "markdown",
   "id": "47e55e65",
   "metadata": {},
   "source": [
    "# Logistic Regression"
   ]
  },
  {
   "cell_type": "code",
   "execution_count": 13,
   "id": "7dc3d7ad",
   "metadata": {},
   "outputs": [
    {
     "name": "stdout",
     "output_type": "stream",
     "text": [
      "              precision    recall  f1-score   support\n",
      "\n",
      "           1       0.79      0.85      0.81        13\n",
      "           2       0.75      0.86      0.80        14\n",
      "           3       0.00      0.00      0.00         1\n",
      "           5       0.00      0.00      0.00         1\n",
      "           7       1.00      0.75      0.86         4\n",
      "\n",
      "    accuracy                           0.79        33\n",
      "   macro avg       0.51      0.49      0.49        33\n",
      "weighted avg       0.75      0.79      0.76        33\n",
      "\n",
      "0.6567251461988304\n"
     ]
    }
   ],
   "source": [
    "plain_sfs_lr = SFS(LogisticRegression(), \n",
    "          k_features=(1, 20), \n",
    "          forward=True, \n",
    "          floating=False, \n",
    "          cv=10)\n",
    "\n",
    "plain_sfs_lr.fit(X, Y)\n",
    "selected_features = X.columns[list(plain_sfs_lr.k_feature_idx_)]\n",
    "x_t = X_train[selected_features]\n",
    "clf = LogisticRegression()\n",
    "clf.fit(x_t, y_train)\n",
    "x_test_filtered = X_test[selected_features]\n",
    "y_test_pred = clf.predict(x_test_filtered)\n",
    "print(classification_report(y_test, y_test_pred))\n",
    "print(cross_val_score(clf, X_train, y_train, cv=10).mean())"
   ]
  }
 ],
 "metadata": {
  "kernelspec": {
   "display_name": "Python 3",
   "language": "python",
   "name": "python3"
  },
  "language_info": {
   "codemirror_mode": {
    "name": "ipython",
    "version": 3
   },
   "file_extension": ".py",
   "mimetype": "text/x-python",
   "name": "python",
   "nbconvert_exporter": "python",
   "pygments_lexer": "ipython3",
   "version": "3.8.12"
  }
 },
 "nbformat": 4,
 "nbformat_minor": 5
}
