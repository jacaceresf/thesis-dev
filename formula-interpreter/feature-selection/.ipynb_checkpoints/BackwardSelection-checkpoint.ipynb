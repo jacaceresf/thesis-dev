{
 "cells": [
  {
   "cell_type": "code",
   "execution_count": 8,
   "id": "021956aa",
   "metadata": {},
   "outputs": [],
   "source": [
    "import pandas as pd\n",
    "import numpy as np\n",
    "from mlxtend.feature_selection import SequentialFeatureSelector as SFS\n",
    "from sklearn.linear_model import LinearRegression\n",
    "from sklearn.preprocessing import PolynomialFeatures\n",
    "from sklearn.model_selection import train_test_split\n",
    "from sklearn.neighbors import KNeighborsClassifier\n",
    "\n",
    "import warnings\n",
    "warnings.filterwarnings('ignore')\n",
    "from sklearn.metrics import accuracy_score\n",
    "from sklearn.model_selection import cross_val_score\n",
    "from sklearn.metrics import classification_report"
   ]
  },
  {
   "cell_type": "code",
   "execution_count": 2,
   "id": "def8b9eb",
   "metadata": {},
   "outputs": [],
   "source": [
    "glass_ds = pd.read_csv('../new_glass.csv')\n",
    "X = glass_ds.drop(columns='Type')\n",
    "Y = glass_ds['Type']"
   ]
  },
  {
   "cell_type": "code",
   "execution_count": 3,
   "id": "98b00292",
   "metadata": {},
   "outputs": [],
   "source": [
    "X_train, X_test, y_train, y_test = train_test_split(X, Y, test_size=0.15, stratify=Y)"
   ]
  },
  {
   "cell_type": "markdown",
   "id": "0e28b176",
   "metadata": {},
   "source": [
    "## KNN"
   ]
  },
  {
   "cell_type": "code",
   "execution_count": null,
   "id": "bdde0163",
   "metadata": {},
   "outputs": [],
   "source": [
    "knn = KNeighborsClassifier()\n",
    "\n",
    "plain_sbs = SFS(knn, \n",
    "          k_features=(1, 100), \n",
    "          forward=False,\n",
    "          floating=False, \n",
    "          scoring='accuracy',\n",
    "          cv=10,\n",
    "          n_jobs=-1)\n",
    "\n",
    "plain_sbs.fit(X_train, y_train, custom_feature_names=X.columns)"
   ]
  },
  {
   "cell_type": "code",
   "execution_count": null,
   "id": "ddf23f83",
   "metadata": {},
   "outputs": [],
   "source": [
    "plain_sbs.k_score_"
   ]
  },
  {
   "cell_type": "code",
   "execution_count": null,
   "id": "8655f892",
   "metadata": {},
   "outputs": [],
   "source": [
    "selected_features = X.columns[list(plain_sbs.k_feature_idx_)]"
   ]
  },
  {
   "cell_type": "code",
   "execution_count": null,
   "id": "11619824",
   "metadata": {},
   "outputs": [],
   "source": [
    "x_t = X_train[selected_features]\n",
    "x_t"
   ]
  },
  {
   "cell_type": "code",
   "execution_count": null,
   "id": "56c86538",
   "metadata": {},
   "outputs": [],
   "source": [
    "clf = KNeighborsClassifier()\n",
    "\n",
    "clf.fit(x_t, y_train)"
   ]
  },
  {
   "cell_type": "code",
   "execution_count": null,
   "id": "725cfda7",
   "metadata": {},
   "outputs": [],
   "source": [
    "x_test_filtered = X_test[selected_features]\n",
    "y_test_pred = clf.predict(x_test_filtered)\n",
    "print(classification_report(y_test, y_test_pred))\n",
    "print(cross_val_score(clf, X_train, y_train, cv=10).mean())"
   ]
  },
  {
   "cell_type": "markdown",
   "id": "d3beba8d",
   "metadata": {},
   "source": [
    "## Naive Bayes"
   ]
  },
  {
   "cell_type": "code",
   "execution_count": null,
   "id": "84b834dc",
   "metadata": {},
   "outputs": [],
   "source": [
    "from sklearn.naive_bayes import GaussianNB"
   ]
  },
  {
   "cell_type": "code",
   "execution_count": null,
   "id": "616bb95b",
   "metadata": {},
   "outputs": [],
   "source": [
    "# Sequential Backward Selection\n",
    "gnb = GaussianNB()\n",
    "\n",
    "nb_sbs = SFS(gnb, \n",
    "          k_features=(1, 10), \n",
    "          forward=False, \n",
    "          floating=False, \n",
    "          scoring='accuracy',\n",
    "          cv=10)\n",
    "\n",
    "nb_sbs.fit(X_train, y_train, custom_feature_names=X.columns)"
   ]
  },
  {
   "cell_type": "code",
   "execution_count": 50,
   "id": "bc0c5cff",
   "metadata": {},
   "outputs": [
    {
     "data": {
      "text/plain": [
       "GaussianNB()"
      ]
     },
     "execution_count": 50,
     "metadata": {},
     "output_type": "execute_result"
    }
   ],
   "source": [
    "selected_features = X.columns[list(nb_sbs.k_feature_idx_)]\n",
    "x_nb = X_train[selected_features]\n",
    "\n",
    "gnb_ = GaussianNB()\n",
    "gnb_.fit(x_nb, y_train)"
   ]
  },
  {
   "cell_type": "code",
   "execution_count": 51,
   "id": "eaa87823",
   "metadata": {},
   "outputs": [
    {
     "name": "stdout",
     "output_type": "stream",
     "text": [
      "              precision    recall  f1-score   support\n",
      "\n",
      "           1       0.64      0.82      0.72        11\n",
      "           2       0.75      0.75      0.75        12\n",
      "           3       0.00      0.00      0.00         3\n",
      "           5       1.00      1.00      1.00         2\n",
      "           6       0.50      1.00      0.67         1\n",
      "           7       1.00      0.75      0.86         4\n",
      "\n",
      "    accuracy                           0.73        33\n",
      "   macro avg       0.65      0.72      0.67        33\n",
      "weighted avg       0.68      0.73      0.70        33\n",
      "\n",
      "0.375438596491228\n"
     ]
    }
   ],
   "source": [
    "x_test_filtered = X_test[selected_features]\n",
    "y_test_pred = gnb_.predict(x_test_filtered)\n",
    "print(classification_report(y_test, y_test_pred))\n",
    "print(cross_val_score(gnb_, X_train, y_train, cv=10).mean())"
   ]
  },
  {
   "cell_type": "markdown",
   "id": "d4307ef2",
   "metadata": {},
   "source": [
    "## Logistic Regression"
   ]
  },
  {
   "cell_type": "code",
   "execution_count": 12,
   "id": "b2f07bda",
   "metadata": {},
   "outputs": [],
   "source": [
    "from sklearn.linear_model import LogisticRegression"
   ]
  },
  {
   "cell_type": "code",
   "execution_count": 13,
   "id": "be64b517",
   "metadata": {},
   "outputs": [
    {
     "data": {
      "text/plain": [
       "SequentialFeatureSelector(cv=10, estimator=LogisticRegression(), forward=False,\n",
       "                          k_features=(1, 10), scoring='accuracy')"
      ]
     },
     "execution_count": 13,
     "metadata": {},
     "output_type": "execute_result"
    }
   ],
   "source": [
    "# Sequential Backward Selection\n",
    "lr_sbs = SFS(LogisticRegression(), \n",
    "          k_features=(1, 10), \n",
    "          forward=False, \n",
    "          floating=False, \n",
    "          scoring='accuracy',\n",
    "          cv=10) # -1 means ALL CPU\n",
    "\n",
    "lr_sbs.fit(X, Y, custom_feature_names=X.columns)"
   ]
  },
  {
   "cell_type": "code",
   "execution_count": 14,
   "id": "9c5ea4e8",
   "metadata": {},
   "outputs": [
    {
     "data": {
      "text/plain": [
       "LogisticRegression()"
      ]
     },
     "execution_count": 14,
     "metadata": {},
     "output_type": "execute_result"
    }
   ],
   "source": [
    "selected_features = X.columns[list(lr_sbs.k_feature_idx_)]\n",
    "x_lr = X_train[selected_features]\n",
    "lr = LogisticRegression()\n",
    "lr.fit(x_lr, y_train)"
   ]
  },
  {
   "cell_type": "code",
   "execution_count": 17,
   "id": "a1b4a235",
   "metadata": {},
   "outputs": [
    {
     "name": "stdout",
     "output_type": "stream",
     "text": [
      "              precision    recall  f1-score   support\n",
      "\n",
      "           1       0.62      0.73      0.67        59\n",
      "           2       0.61      0.70      0.65        64\n",
      "           3       0.00      0.00      0.00        14\n",
      "           5       0.80      0.36      0.50        11\n",
      "           6       0.89      1.00      0.94         8\n",
      "           7       0.92      0.88      0.90        25\n",
      "\n",
      "    accuracy                           0.67       181\n",
      "   macro avg       0.64      0.61      0.61       181\n",
      "weighted avg       0.63      0.67      0.65       181\n",
      "\n",
      "0.6236842105263157\n"
     ]
    }
   ],
   "source": [
    "x_test_filtered = X_train[selected_features]\n",
    "y_test_pred = lr.predict(x_test_filtered)\n",
    "print(classification_report(y_train, y_test_pred))\n",
    "print(cross_val_score(lr, X_train, y_train, cv=10).mean())"
   ]
  },
  {
   "cell_type": "markdown",
   "id": "5f39f134",
   "metadata": {},
   "source": [
    "## SVM"
   ]
  },
  {
   "cell_type": "code",
   "execution_count": 4,
   "id": "d7deab4d",
   "metadata": {},
   "outputs": [],
   "source": [
    "from sklearn import svm\n",
    "from sklearn.svm import LinearSVC"
   ]
  },
  {
   "cell_type": "code",
   "execution_count": 10,
   "id": "680f17eb",
   "metadata": {},
   "outputs": [
    {
     "data": {
      "text/plain": [
       "SequentialFeatureSelector(cv=10, estimator=SVC(), forward=False,\n",
       "                          k_features=(1, 100), scoring='accuracy')"
      ]
     },
     "execution_count": 10,
     "metadata": {},
     "output_type": "execute_result"
    }
   ],
   "source": [
    "# Sequential Backward Selection\n",
    "svm_sbs = SFS(svm.SVC(), \n",
    "          k_features=(1, 100), \n",
    "          forward=False, \n",
    "          floating=False, \n",
    "          scoring='accuracy',\n",
    "          cv=10) # -1 means ALL CPU\n",
    "\n",
    "svm_sbs.fit(X, Y, custom_feature_names=X.columns)"
   ]
  },
  {
   "cell_type": "code",
   "execution_count": 18,
   "id": "f0cd717f",
   "metadata": {},
   "outputs": [
    {
     "name": "stdout",
     "output_type": "stream",
     "text": [
      "              precision    recall  f1-score   support\n",
      "\n",
      "           1       0.62      0.81      0.71        59\n",
      "           2       0.58      0.70      0.63        64\n",
      "           3       0.00      0.00      0.00        14\n",
      "           5       0.00      0.00      0.00        11\n",
      "           6       0.00      0.00      0.00         8\n",
      "           7       0.81      0.84      0.82        25\n",
      "\n",
      "    accuracy                           0.63       181\n",
      "   macro avg       0.33      0.39      0.36       181\n",
      "weighted avg       0.52      0.63      0.57       181\n",
      "\n",
      "0.4587719298245614\n"
     ]
    }
   ],
   "source": [
    "selected_features = X.columns[list(svm_sbs.k_feature_idx_)]\n",
    "x_lr = X_train[selected_features]\n",
    "svm_clf = svm.SVC()\n",
    "svm_clf.fit(x_lr, y_train)\n",
    "\n",
    "x_test_filtered = X_train[selected_features]\n",
    "y_test_pred = svm_clf.predict(x_test_filtered)\n",
    "print(classification_report(y_train, y_test_pred))\n",
    "print(cross_val_score(svm_clf, X_train, y_train, cv=10).mean())"
   ]
  }
 ],
 "metadata": {
  "kernelspec": {
   "display_name": "Python 3",
   "language": "python",
   "name": "python3"
  },
  "language_info": {
   "codemirror_mode": {
    "name": "ipython",
    "version": 3
   },
   "file_extension": ".py",
   "mimetype": "text/x-python",
   "name": "python",
   "nbconvert_exporter": "python",
   "pygments_lexer": "ipython3",
   "version": "3.8.12"
  }
 },
 "nbformat": 4,
 "nbformat_minor": 5
}
