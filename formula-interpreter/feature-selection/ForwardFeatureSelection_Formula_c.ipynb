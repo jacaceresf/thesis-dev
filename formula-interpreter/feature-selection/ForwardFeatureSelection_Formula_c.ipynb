{
 "cells": [
  {
   "cell_type": "code",
   "execution_count": 2,
   "id": "113fe1f5",
   "metadata": {},
   "outputs": [],
   "source": [
    "import pandas as pd\n",
    "import numpy as np\n",
    "from sklearn.model_selection import train_test_split\n",
    "from sklearn.metrics import mean_squared_error\n",
    "from sklearn.linear_model import LinearRegression\n",
    "from sklearn.preprocessing import PolynomialFeatures\n",
    "\n",
    "\n",
    "from sklearn.naive_bayes import GaussianNB\n",
    "from sklearn import svm\n",
    "from sklearn.linear_model import LogisticRegression\n",
    "from sklearn.neighbors import KNeighborsClassifier\n",
    "from mlxtend.feature_selection import SequentialFeatureSelector as SFS\n",
    "from sklearn.metrics import confusion_matrix, classification_report"
   ]
  },
  {
   "cell_type": "code",
   "execution_count": 3,
   "id": "4feb5fad",
   "metadata": {},
   "outputs": [
    {
     "data": {
      "text/html": [
       "<div>\n",
       "<style scoped>\n",
       "    .dataframe tbody tr th:only-of-type {\n",
       "        vertical-align: middle;\n",
       "    }\n",
       "\n",
       "    .dataframe tbody tr th {\n",
       "        vertical-align: top;\n",
       "    }\n",
       "\n",
       "    .dataframe thead th {\n",
       "        text-align: right;\n",
       "    }\n",
       "</style>\n",
       "<table border=\"1\" class=\"dataframe\">\n",
       "  <thead>\n",
       "    <tr style=\"text-align: right;\">\n",
       "      <th></th>\n",
       "      <th>RI</th>\n",
       "      <th>Na</th>\n",
       "      <th>Mg</th>\n",
       "      <th>Al</th>\n",
       "      <th>Si</th>\n",
       "      <th>K</th>\n",
       "      <th>Ca</th>\n",
       "      <th>Ba</th>\n",
       "      <th>Fe</th>\n",
       "      <th>RI*Na</th>\n",
       "      <th>...</th>\n",
       "      <th>Si*K</th>\n",
       "      <th>Si*Ca</th>\n",
       "      <th>Si*Ba</th>\n",
       "      <th>Si*Fe</th>\n",
       "      <th>K*Ca</th>\n",
       "      <th>K*Ba</th>\n",
       "      <th>K*Fe</th>\n",
       "      <th>Ca*Ba</th>\n",
       "      <th>Ca*Fe</th>\n",
       "      <th>Ba*Fe</th>\n",
       "    </tr>\n",
       "  </thead>\n",
       "  <tbody>\n",
       "    <tr>\n",
       "      <th>0</th>\n",
       "      <td>1.52101</td>\n",
       "      <td>13.64</td>\n",
       "      <td>4.49</td>\n",
       "      <td>1.10</td>\n",
       "      <td>71.78</td>\n",
       "      <td>0.06</td>\n",
       "      <td>8.75</td>\n",
       "      <td>0.00</td>\n",
       "      <td>0.0</td>\n",
       "      <td>20.746576</td>\n",
       "      <td>...</td>\n",
       "      <td>4.3068</td>\n",
       "      <td>628.0750</td>\n",
       "      <td>0.0000</td>\n",
       "      <td>0.0</td>\n",
       "      <td>0.5250</td>\n",
       "      <td>0.0000</td>\n",
       "      <td>0.0</td>\n",
       "      <td>0.0000</td>\n",
       "      <td>0.0</td>\n",
       "      <td>0.0</td>\n",
       "    </tr>\n",
       "    <tr>\n",
       "      <th>1</th>\n",
       "      <td>1.51761</td>\n",
       "      <td>13.89</td>\n",
       "      <td>3.60</td>\n",
       "      <td>1.36</td>\n",
       "      <td>72.73</td>\n",
       "      <td>0.48</td>\n",
       "      <td>7.83</td>\n",
       "      <td>0.00</td>\n",
       "      <td>0.0</td>\n",
       "      <td>21.079603</td>\n",
       "      <td>...</td>\n",
       "      <td>34.9104</td>\n",
       "      <td>569.4759</td>\n",
       "      <td>0.0000</td>\n",
       "      <td>0.0</td>\n",
       "      <td>3.7584</td>\n",
       "      <td>0.0000</td>\n",
       "      <td>0.0</td>\n",
       "      <td>0.0000</td>\n",
       "      <td>0.0</td>\n",
       "      <td>0.0</td>\n",
       "    </tr>\n",
       "    <tr>\n",
       "      <th>2</th>\n",
       "      <td>1.51618</td>\n",
       "      <td>13.53</td>\n",
       "      <td>3.55</td>\n",
       "      <td>1.54</td>\n",
       "      <td>72.99</td>\n",
       "      <td>0.39</td>\n",
       "      <td>7.78</td>\n",
       "      <td>0.00</td>\n",
       "      <td>0.0</td>\n",
       "      <td>20.513915</td>\n",
       "      <td>...</td>\n",
       "      <td>28.4661</td>\n",
       "      <td>567.8622</td>\n",
       "      <td>0.0000</td>\n",
       "      <td>0.0</td>\n",
       "      <td>3.0342</td>\n",
       "      <td>0.0000</td>\n",
       "      <td>0.0</td>\n",
       "      <td>0.0000</td>\n",
       "      <td>0.0</td>\n",
       "      <td>0.0</td>\n",
       "    </tr>\n",
       "    <tr>\n",
       "      <th>3</th>\n",
       "      <td>1.51766</td>\n",
       "      <td>13.21</td>\n",
       "      <td>3.69</td>\n",
       "      <td>1.29</td>\n",
       "      <td>72.61</td>\n",
       "      <td>0.57</td>\n",
       "      <td>8.22</td>\n",
       "      <td>0.00</td>\n",
       "      <td>0.0</td>\n",
       "      <td>20.048289</td>\n",
       "      <td>...</td>\n",
       "      <td>41.3877</td>\n",
       "      <td>596.8542</td>\n",
       "      <td>0.0000</td>\n",
       "      <td>0.0</td>\n",
       "      <td>4.6854</td>\n",
       "      <td>0.0000</td>\n",
       "      <td>0.0</td>\n",
       "      <td>0.0000</td>\n",
       "      <td>0.0</td>\n",
       "      <td>0.0</td>\n",
       "    </tr>\n",
       "    <tr>\n",
       "      <th>4</th>\n",
       "      <td>1.51742</td>\n",
       "      <td>13.27</td>\n",
       "      <td>3.62</td>\n",
       "      <td>1.24</td>\n",
       "      <td>73.08</td>\n",
       "      <td>0.55</td>\n",
       "      <td>8.07</td>\n",
       "      <td>0.00</td>\n",
       "      <td>0.0</td>\n",
       "      <td>20.136163</td>\n",
       "      <td>...</td>\n",
       "      <td>40.1940</td>\n",
       "      <td>589.7556</td>\n",
       "      <td>0.0000</td>\n",
       "      <td>0.0</td>\n",
       "      <td>4.4385</td>\n",
       "      <td>0.0000</td>\n",
       "      <td>0.0</td>\n",
       "      <td>0.0000</td>\n",
       "      <td>0.0</td>\n",
       "      <td>0.0</td>\n",
       "    </tr>\n",
       "    <tr>\n",
       "      <th>...</th>\n",
       "      <td>...</td>\n",
       "      <td>...</td>\n",
       "      <td>...</td>\n",
       "      <td>...</td>\n",
       "      <td>...</td>\n",
       "      <td>...</td>\n",
       "      <td>...</td>\n",
       "      <td>...</td>\n",
       "      <td>...</td>\n",
       "      <td>...</td>\n",
       "      <td>...</td>\n",
       "      <td>...</td>\n",
       "      <td>...</td>\n",
       "      <td>...</td>\n",
       "      <td>...</td>\n",
       "      <td>...</td>\n",
       "      <td>...</td>\n",
       "      <td>...</td>\n",
       "      <td>...</td>\n",
       "      <td>...</td>\n",
       "      <td>...</td>\n",
       "    </tr>\n",
       "    <tr>\n",
       "      <th>209</th>\n",
       "      <td>1.51623</td>\n",
       "      <td>14.14</td>\n",
       "      <td>0.00</td>\n",
       "      <td>2.88</td>\n",
       "      <td>72.61</td>\n",
       "      <td>0.08</td>\n",
       "      <td>9.18</td>\n",
       "      <td>1.06</td>\n",
       "      <td>0.0</td>\n",
       "      <td>21.439492</td>\n",
       "      <td>...</td>\n",
       "      <td>5.8088</td>\n",
       "      <td>666.5598</td>\n",
       "      <td>76.9666</td>\n",
       "      <td>0.0</td>\n",
       "      <td>0.7344</td>\n",
       "      <td>0.0848</td>\n",
       "      <td>0.0</td>\n",
       "      <td>9.7308</td>\n",
       "      <td>0.0</td>\n",
       "      <td>0.0</td>\n",
       "    </tr>\n",
       "    <tr>\n",
       "      <th>210</th>\n",
       "      <td>1.51685</td>\n",
       "      <td>14.92</td>\n",
       "      <td>0.00</td>\n",
       "      <td>1.99</td>\n",
       "      <td>73.06</td>\n",
       "      <td>0.00</td>\n",
       "      <td>8.40</td>\n",
       "      <td>1.59</td>\n",
       "      <td>0.0</td>\n",
       "      <td>22.631402</td>\n",
       "      <td>...</td>\n",
       "      <td>0.0000</td>\n",
       "      <td>613.7040</td>\n",
       "      <td>116.1654</td>\n",
       "      <td>0.0</td>\n",
       "      <td>0.0000</td>\n",
       "      <td>0.0000</td>\n",
       "      <td>0.0</td>\n",
       "      <td>13.3560</td>\n",
       "      <td>0.0</td>\n",
       "      <td>0.0</td>\n",
       "    </tr>\n",
       "    <tr>\n",
       "      <th>211</th>\n",
       "      <td>1.52065</td>\n",
       "      <td>14.36</td>\n",
       "      <td>0.00</td>\n",
       "      <td>2.02</td>\n",
       "      <td>73.42</td>\n",
       "      <td>0.00</td>\n",
       "      <td>8.44</td>\n",
       "      <td>1.64</td>\n",
       "      <td>0.0</td>\n",
       "      <td>21.836534</td>\n",
       "      <td>...</td>\n",
       "      <td>0.0000</td>\n",
       "      <td>619.6648</td>\n",
       "      <td>120.4088</td>\n",
       "      <td>0.0</td>\n",
       "      <td>0.0000</td>\n",
       "      <td>0.0000</td>\n",
       "      <td>0.0</td>\n",
       "      <td>13.8416</td>\n",
       "      <td>0.0</td>\n",
       "      <td>0.0</td>\n",
       "    </tr>\n",
       "    <tr>\n",
       "      <th>212</th>\n",
       "      <td>1.51651</td>\n",
       "      <td>14.38</td>\n",
       "      <td>0.00</td>\n",
       "      <td>1.94</td>\n",
       "      <td>73.61</td>\n",
       "      <td>0.00</td>\n",
       "      <td>8.48</td>\n",
       "      <td>1.57</td>\n",
       "      <td>0.0</td>\n",
       "      <td>21.807414</td>\n",
       "      <td>...</td>\n",
       "      <td>0.0000</td>\n",
       "      <td>624.2128</td>\n",
       "      <td>115.5677</td>\n",
       "      <td>0.0</td>\n",
       "      <td>0.0000</td>\n",
       "      <td>0.0000</td>\n",
       "      <td>0.0</td>\n",
       "      <td>13.3136</td>\n",
       "      <td>0.0</td>\n",
       "      <td>0.0</td>\n",
       "    </tr>\n",
       "    <tr>\n",
       "      <th>213</th>\n",
       "      <td>1.51711</td>\n",
       "      <td>14.23</td>\n",
       "      <td>0.00</td>\n",
       "      <td>2.08</td>\n",
       "      <td>73.36</td>\n",
       "      <td>0.00</td>\n",
       "      <td>8.62</td>\n",
       "      <td>1.67</td>\n",
       "      <td>0.0</td>\n",
       "      <td>21.588475</td>\n",
       "      <td>...</td>\n",
       "      <td>0.0000</td>\n",
       "      <td>632.3632</td>\n",
       "      <td>122.5112</td>\n",
       "      <td>0.0</td>\n",
       "      <td>0.0000</td>\n",
       "      <td>0.0000</td>\n",
       "      <td>0.0</td>\n",
       "      <td>14.3954</td>\n",
       "      <td>0.0</td>\n",
       "      <td>0.0</td>\n",
       "    </tr>\n",
       "  </tbody>\n",
       "</table>\n",
       "<p>214 rows × 45 columns</p>\n",
       "</div>"
      ],
      "text/plain": [
       "          RI     Na    Mg    Al     Si     K    Ca    Ba   Fe      RI*Na  ...  \\\n",
       "0    1.52101  13.64  4.49  1.10  71.78  0.06  8.75  0.00  0.0  20.746576  ...   \n",
       "1    1.51761  13.89  3.60  1.36  72.73  0.48  7.83  0.00  0.0  21.079603  ...   \n",
       "2    1.51618  13.53  3.55  1.54  72.99  0.39  7.78  0.00  0.0  20.513915  ...   \n",
       "3    1.51766  13.21  3.69  1.29  72.61  0.57  8.22  0.00  0.0  20.048289  ...   \n",
       "4    1.51742  13.27  3.62  1.24  73.08  0.55  8.07  0.00  0.0  20.136163  ...   \n",
       "..       ...    ...   ...   ...    ...   ...   ...   ...  ...        ...  ...   \n",
       "209  1.51623  14.14  0.00  2.88  72.61  0.08  9.18  1.06  0.0  21.439492  ...   \n",
       "210  1.51685  14.92  0.00  1.99  73.06  0.00  8.40  1.59  0.0  22.631402  ...   \n",
       "211  1.52065  14.36  0.00  2.02  73.42  0.00  8.44  1.64  0.0  21.836534  ...   \n",
       "212  1.51651  14.38  0.00  1.94  73.61  0.00  8.48  1.57  0.0  21.807414  ...   \n",
       "213  1.51711  14.23  0.00  2.08  73.36  0.00  8.62  1.67  0.0  21.588475  ...   \n",
       "\n",
       "        Si*K     Si*Ca     Si*Ba  Si*Fe    K*Ca    K*Ba  K*Fe    Ca*Ba  Ca*Fe  \\\n",
       "0     4.3068  628.0750    0.0000    0.0  0.5250  0.0000   0.0   0.0000    0.0   \n",
       "1    34.9104  569.4759    0.0000    0.0  3.7584  0.0000   0.0   0.0000    0.0   \n",
       "2    28.4661  567.8622    0.0000    0.0  3.0342  0.0000   0.0   0.0000    0.0   \n",
       "3    41.3877  596.8542    0.0000    0.0  4.6854  0.0000   0.0   0.0000    0.0   \n",
       "4    40.1940  589.7556    0.0000    0.0  4.4385  0.0000   0.0   0.0000    0.0   \n",
       "..       ...       ...       ...    ...     ...     ...   ...      ...    ...   \n",
       "209   5.8088  666.5598   76.9666    0.0  0.7344  0.0848   0.0   9.7308    0.0   \n",
       "210   0.0000  613.7040  116.1654    0.0  0.0000  0.0000   0.0  13.3560    0.0   \n",
       "211   0.0000  619.6648  120.4088    0.0  0.0000  0.0000   0.0  13.8416    0.0   \n",
       "212   0.0000  624.2128  115.5677    0.0  0.0000  0.0000   0.0  13.3136    0.0   \n",
       "213   0.0000  632.3632  122.5112    0.0  0.0000  0.0000   0.0  14.3954    0.0   \n",
       "\n",
       "     Ba*Fe  \n",
       "0      0.0  \n",
       "1      0.0  \n",
       "2      0.0  \n",
       "3      0.0  \n",
       "4      0.0  \n",
       "..     ...  \n",
       "209    0.0  \n",
       "210    0.0  \n",
       "211    0.0  \n",
       "212    0.0  \n",
       "213    0.0  \n",
       "\n",
       "[214 rows x 45 columns]"
      ]
     },
     "execution_count": 3,
     "metadata": {},
     "output_type": "execute_result"
    }
   ],
   "source": [
    "X = pd.read_csv('../glass_formula_c.csv')\n",
    "\n",
    "df = pd.read_csv('../glass.csv', sep=\",\")\n",
    "Y = df['Type']\n",
    "\n",
    "X_train, X_test, y_train, y_test = train_test_split(X, Y, test_size=0.15)\n",
    "X"
   ]
  },
  {
   "cell_type": "code",
   "execution_count": 4,
   "id": "4d033d40",
   "metadata": {},
   "outputs": [],
   "source": [
    "import warnings\n",
    "warnings.filterwarnings('ignore')\n",
    "from sklearn.metrics import accuracy_score\n",
    "from sklearn.model_selection import cross_val_score"
   ]
  },
  {
   "cell_type": "markdown",
   "id": "0c6a123e",
   "metadata": {},
   "source": [
    "# KNN"
   ]
  },
  {
   "cell_type": "code",
   "execution_count": 5,
   "id": "115a3a25",
   "metadata": {},
   "outputs": [
    {
     "name": "stdout",
     "output_type": "stream",
     "text": [
      "CPU times: user 25.8 s, sys: 146 ms, total: 26 s\n",
      "Wall time: 13 s\n"
     ]
    },
    {
     "data": {
      "text/plain": [
       "SequentialFeatureSelector(cv=10, estimator=KNeighborsClassifier(),\n",
       "                          k_features=(1, 20), scoring='accuracy')"
      ]
     },
     "execution_count": 5,
     "metadata": {},
     "output_type": "execute_result"
    }
   ],
   "source": [
    "%%time\n",
    "plain_sfs = SFS(KNeighborsClassifier(), \n",
    "          k_features=(1, 20), \n",
    "          forward=True, \n",
    "          floating=False,\n",
    "          scoring='accuracy', \n",
    "          cv=10)\n",
    "\n",
    "plain_sfs.fit(X, Y)"
   ]
  },
  {
   "cell_type": "code",
   "execution_count": 6,
   "id": "13438a27",
   "metadata": {},
   "outputs": [
    {
     "data": {
      "text/plain": [
       "0.7199134199134198"
      ]
     },
     "execution_count": 6,
     "metadata": {},
     "output_type": "execute_result"
    }
   ],
   "source": [
    "plain_sfs.k_score_"
   ]
  },
  {
   "cell_type": "code",
   "execution_count": 7,
   "id": "3362d921",
   "metadata": {},
   "outputs": [
    {
     "name": "stdout",
     "output_type": "stream",
     "text": [
      "              precision    recall  f1-score   support\n",
      "\n",
      "           1       0.62      0.89      0.73         9\n",
      "           2       0.67      0.67      0.67        12\n",
      "           3       0.00      0.00      0.00         3\n",
      "           5       0.33      0.50      0.40         2\n",
      "           6       0.00      0.00      0.00         2\n",
      "           7       1.00      0.80      0.89         5\n",
      "\n",
      "    accuracy                           0.64        33\n",
      "   macro avg       0.44      0.48      0.45        33\n",
      "weighted avg       0.58      0.64      0.60        33\n",
      "\n",
      "0.6684210526315789\n"
     ]
    }
   ],
   "source": [
    "selected_features = X.columns[list(plain_sfs.k_feature_idx_)]\n",
    "x_t = X_train[selected_features]\n",
    "clf = KNeighborsClassifier()\n",
    "clf.fit(x_t, y_train)\n",
    "\n",
    "x_test_filtered = X_test[selected_features]\n",
    "y_test_pred = clf.predict(x_test_filtered)\n",
    "print(classification_report(y_test, y_test_pred))\n",
    "print(cross_val_score(clf, X_train, y_train, cv=10).mean())"
   ]
  },
  {
   "cell_type": "markdown",
   "id": "d04a4fa0",
   "metadata": {},
   "source": [
    "# Naive Bayes"
   ]
  },
  {
   "cell_type": "code",
   "execution_count": 8,
   "id": "dc7d599d",
   "metadata": {},
   "outputs": [
    {
     "data": {
      "text/plain": [
       "SequentialFeatureSelector(cv=10, estimator=GaussianNB(), k_features=(1, 20))"
      ]
     },
     "execution_count": 8,
     "metadata": {},
     "output_type": "execute_result"
    }
   ],
   "source": [
    "naive_bayes = GaussianNB()\n",
    "plain_sfs_nb = SFS(naive_bayes, \n",
    "          k_features=(1, 20), \n",
    "          forward=True, \n",
    "          floating=False, \n",
    "          cv=10)\n",
    "\n",
    "plain_sfs_nb.fit(X, Y) "
   ]
  },
  {
   "cell_type": "code",
   "execution_count": 9,
   "id": "e99e4a60",
   "metadata": {},
   "outputs": [
    {
     "data": {
      "text/plain": [
       "0.6170995670995671"
      ]
     },
     "execution_count": 9,
     "metadata": {},
     "output_type": "execute_result"
    }
   ],
   "source": [
    "plain_sfs_nb.k_score_"
   ]
  },
  {
   "cell_type": "code",
   "execution_count": 10,
   "id": "9246700b",
   "metadata": {},
   "outputs": [
    {
     "name": "stdout",
     "output_type": "stream",
     "text": [
      "              precision    recall  f1-score   support\n",
      "\n",
      "           1       0.64      0.78      0.70         9\n",
      "           2       0.77      0.83      0.80        12\n",
      "           3       0.00      0.00      0.00         3\n",
      "           5       1.00      1.00      1.00         2\n",
      "           6       0.00      0.00      0.00         2\n",
      "           7       0.83      1.00      0.91         5\n",
      "\n",
      "    accuracy                           0.73        33\n",
      "   macro avg       0.54      0.60      0.57        33\n",
      "weighted avg       0.64      0.73      0.68        33\n",
      "\n",
      "0.38713450292397666\n"
     ]
    }
   ],
   "source": [
    "selected_features = X.columns[list(plain_sfs_nb.k_feature_idx_)]\n",
    "x_t = X_train[selected_features]\n",
    "clf = GaussianNB()\n",
    "clf.fit(x_t, y_train)\n",
    "\n",
    "x_test_filtered = X_test[selected_features]\n",
    "y_test_pred = clf.predict(x_test_filtered)\n",
    "print(classification_report(y_test, y_test_pred))\n",
    "print(cross_val_score(clf, X_train, y_train, cv=10).mean())"
   ]
  },
  {
   "cell_type": "markdown",
   "id": "1fc09f56",
   "metadata": {},
   "source": [
    "# SVM"
   ]
  },
  {
   "cell_type": "code",
   "execution_count": 11,
   "id": "2b0bdeef",
   "metadata": {},
   "outputs": [
    {
     "data": {
      "text/plain": [
       "SequentialFeatureSelector(cv=10, estimator=SVC(), k_features=(1, 20))"
      ]
     },
     "execution_count": 11,
     "metadata": {},
     "output_type": "execute_result"
    }
   ],
   "source": [
    "\n",
    "plain_sfs_svm = SFS(svm.SVC(), \n",
    "          k_features=(1, 20), \n",
    "          forward=True, \n",
    "          floating=False, \n",
    "          cv=10)\n",
    "\n",
    "plain_sfs_svm.fit(X, Y)"
   ]
  },
  {
   "cell_type": "code",
   "execution_count": 12,
   "id": "610d2d44",
   "metadata": {},
   "outputs": [
    {
     "data": {
      "text/plain": [
       "0.6409090909090909"
      ]
     },
     "execution_count": 12,
     "metadata": {},
     "output_type": "execute_result"
    }
   ],
   "source": [
    "plain_sfs_svm.k_score_"
   ]
  },
  {
   "cell_type": "code",
   "execution_count": 13,
   "id": "7c772b6f",
   "metadata": {},
   "outputs": [
    {
     "name": "stdout",
     "output_type": "stream",
     "text": [
      "              precision    recall  f1-score   support\n",
      "\n",
      "           1       0.70      0.78      0.74         9\n",
      "           2       0.69      0.92      0.79        12\n",
      "           3       0.00      0.00      0.00         3\n",
      "           5       1.00      0.50      0.67         2\n",
      "           6       0.00      0.00      0.00         2\n",
      "           7       0.67      0.80      0.73         5\n",
      "\n",
      "    accuracy                           0.70        33\n",
      "   macro avg       0.51      0.50      0.49        33\n",
      "weighted avg       0.60      0.70      0.64        33\n",
      "\n",
      "0.4421052631578948\n"
     ]
    }
   ],
   "source": [
    "selected_features = X.columns[list(plain_sfs_svm.k_feature_idx_)]\n",
    "x_t = X_train[selected_features]\n",
    "clf = svm.SVC()\n",
    "clf.fit(x_t, y_train)\n",
    "\n",
    "x_test_filtered = X_test[selected_features]\n",
    "y_test_pred = clf.predict(x_test_filtered)\n",
    "print(classification_report(y_test, y_test_pred))\n",
    "print(cross_val_score(clf, X_train, y_train, cv=10).mean())"
   ]
  },
  {
   "cell_type": "markdown",
   "id": "47e55e65",
   "metadata": {},
   "source": [
    "# Logistic Regression"
   ]
  },
  {
   "cell_type": "code",
   "execution_count": 14,
   "id": "7dc3d7ad",
   "metadata": {},
   "outputs": [
    {
     "name": "stdout",
     "output_type": "stream",
     "text": [
      "              precision    recall  f1-score   support\n",
      "\n",
      "           1       0.78      0.78      0.78         9\n",
      "           2       0.69      0.75      0.72        12\n",
      "           3       0.00      0.00      0.00         3\n",
      "           5       0.67      1.00      0.80         2\n",
      "           6       0.67      1.00      0.80         2\n",
      "           7       1.00      1.00      1.00         5\n",
      "\n",
      "    accuracy                           0.76        33\n",
      "   macro avg       0.63      0.75      0.68        33\n",
      "weighted avg       0.70      0.76      0.72        33\n",
      "\n",
      "0.6242690058479532\n"
     ]
    }
   ],
   "source": [
    "plain_sfs_lr = SFS(LogisticRegression(), \n",
    "          k_features=(1, 20), \n",
    "          forward=True, \n",
    "          floating=False, \n",
    "          cv=10)\n",
    "\n",
    "plain_sfs_lr.fit(X, Y)\n",
    "selected_features = X.columns[list(plain_sfs_lr.k_feature_idx_)]\n",
    "x_t = X_train[selected_features]\n",
    "clf = LogisticRegression()\n",
    "clf.fit(x_t, y_train)\n",
    "x_test_filtered = X_test[selected_features]\n",
    "y_test_pred = clf.predict(x_test_filtered)\n",
    "print(classification_report(y_test, y_test_pred))\n",
    "print(cross_val_score(clf, X_train, y_train, cv=10).mean())"
   ]
  }
 ],
 "metadata": {
  "kernelspec": {
   "display_name": "Python 3",
   "language": "python",
   "name": "python3"
  },
  "language_info": {
   "codemirror_mode": {
    "name": "ipython",
    "version": 3
   },
   "file_extension": ".py",
   "mimetype": "text/x-python",
   "name": "python",
   "nbconvert_exporter": "python",
   "pygments_lexer": "ipython3",
   "version": "3.8.12"
  }
 },
 "nbformat": 4,
 "nbformat_minor": 5
}
