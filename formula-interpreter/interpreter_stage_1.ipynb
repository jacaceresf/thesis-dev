{
 "cells": [
  {
   "cell_type": "markdown",
   "id": "2a073903",
   "metadata": {},
   "source": [
    "# Glass Data Reading"
   ]
  },
  {
   "cell_type": "code",
   "execution_count": null,
   "id": "4677873e",
   "metadata": {},
   "outputs": [],
   "source": [
    "data = pd.read_csv('glass.csv', delimiter=',')\n",
    "data"
   ]
  },
  {
   "cell_type": "code",
   "execution_count": null,
   "id": "c55e22c6",
   "metadata": {},
   "outputs": [],
   "source": [
    "import pandas as pd\n",
    "import numpy as np\n",
    "import matplotlib.pyplot as plt\n",
    "from sklearn.preprocessing import MinMaxScaler\n",
    "from sklearn.neighbors import KNeighborsClassifier\n",
    "from sklearn.metrics import accuracy_score\n",
    "from sklearn.model_selection import cross_val_score"
   ]
  },
  {
   "cell_type": "code",
   "execution_count": null,
   "id": "80349ff2",
   "metadata": {},
   "outputs": [],
   "source": [
    "data.isnull().sum().sum()"
   ]
  },
  {
   "cell_type": "code",
   "execution_count": null,
   "id": "250735a8",
   "metadata": {},
   "outputs": [],
   "source": [
    "X = data.drop('Type', axis=1)\n",
    "y = data['Type']"
   ]
  },
  {
   "cell_type": "code",
   "execution_count": null,
   "id": "66be3b1d",
   "metadata": {},
   "outputs": [],
   "source": [
    "from sklearn.model_selection import train_test_split\n",
    "from sklearn.metrics import confusion_matrix, classification_report\n",
    "from sklearn import metrics\n",
    "X_train, X_test, y_train, y_test = train_test_split(X, y, test_size = 0.2, random_state = 42)"
   ]
  },
  {
   "cell_type": "markdown",
   "id": "5763ccfb",
   "metadata": {},
   "source": [
    "## KNN"
   ]
  },
  {
   "cell_type": "code",
   "execution_count": null,
   "id": "8fcb2bec",
   "metadata": {},
   "outputs": [],
   "source": [
    "reg_knn = KNeighborsClassifier()\n",
    "reg_knn.fit(X_train, y_train)\n",
    "y_pred = reg_knn.predict(X_test)\n",
    "print(metrics.classification_report(y_test, y_pred))"
   ]
  },
  {
   "cell_type": "code",
   "execution_count": null,
   "id": "874754cd",
   "metadata": {},
   "outputs": [],
   "source": [
    "y_predict = reg_knn.predict(X_test)\n",
    "accuracy_score(y_test, y_predict)"
   ]
  },
  {
   "cell_type": "code",
   "execution_count": null,
   "id": "3022eb71",
   "metadata": {},
   "outputs": [],
   "source": [
    "print('Accuracy of K-NN classifier on set: ', reg_knn.score(X, y))"
   ]
  },
  {
   "cell_type": "code",
   "execution_count": null,
   "id": "f3ba6616",
   "metadata": {},
   "outputs": [],
   "source": [
    "print(cross_val_score(reg_knn, X, y, cv=10).mean())"
   ]
  },
  {
   "cell_type": "markdown",
   "id": "5fd9f761",
   "metadata": {},
   "source": [
    "## Logistic Regression"
   ]
  },
  {
   "cell_type": "code",
   "execution_count": null,
   "id": "ff35c38c",
   "metadata": {},
   "outputs": [],
   "source": [
    "from sklearn.linear_model import LogisticRegression"
   ]
  },
  {
   "cell_type": "code",
   "execution_count": null,
   "id": "cd6fd955",
   "metadata": {},
   "outputs": [],
   "source": [
    "reg_log = LogisticRegression()\n",
    "reg_log.fit(X_train, y_train)\n",
    "y_pred = reg_log.predict(X_test)"
   ]
  },
  {
   "cell_type": "code",
   "execution_count": null,
   "id": "17991422",
   "metadata": {},
   "outputs": [],
   "source": [
    "print(metrics.classification_report(y_test, y_pred))"
   ]
  },
  {
   "cell_type": "code",
   "execution_count": null,
   "id": "eba807da",
   "metadata": {},
   "outputs": [],
   "source": [
    "y_predict = reg_log.predict(X_test)\n",
    "accuracy_score(y_predict, y_test)"
   ]
  },
  {
   "cell_type": "code",
   "execution_count": null,
   "id": "c74a248a",
   "metadata": {},
   "outputs": [],
   "source": [
    "print(cross_val_score(reg_log, X, y, cv=10).mean())"
   ]
  },
  {
   "cell_type": "markdown",
   "id": "839d6214",
   "metadata": {},
   "source": [
    "## SVC"
   ]
  },
  {
   "cell_type": "code",
   "execution_count": 20,
   "id": "684d53f2",
   "metadata": {},
   "outputs": [],
   "source": [
    "from sklearn.svm import SVC"
   ]
  },
  {
   "cell_type": "code",
   "execution_count": 21,
   "id": "09986a66",
   "metadata": {},
   "outputs": [
    {
     "name": "stdout",
     "output_type": "stream",
     "text": [
      "              precision    recall  f1-score   support\n",
      "\n",
      "           1       0.69      0.82      0.75        11\n",
      "           2       0.67      0.71      0.69        14\n",
      "           3       0.00      0.00      0.00         3\n",
      "           5       0.80      1.00      0.89         4\n",
      "           6       1.00      0.67      0.80         3\n",
      "           7       0.88      0.88      0.88         8\n",
      "\n",
      "    accuracy                           0.74        43\n",
      "   macro avg       0.67      0.68      0.67        43\n",
      "weighted avg       0.70      0.74      0.72        43\n",
      "\n"
     ]
    },
    {
     "name": "stderr",
     "output_type": "stream",
     "text": [
      "/opt/anaconda3/lib/python3.8/site-packages/sklearn/metrics/_classification.py:1248: UndefinedMetricWarning: Precision and F-score are ill-defined and being set to 0.0 in labels with no predicted samples. Use `zero_division` parameter to control this behavior.\n",
      "  _warn_prf(average, modifier, msg_start, len(result))\n",
      "/opt/anaconda3/lib/python3.8/site-packages/sklearn/metrics/_classification.py:1248: UndefinedMetricWarning: Precision and F-score are ill-defined and being set to 0.0 in labels with no predicted samples. Use `zero_division` parameter to control this behavior.\n",
      "  _warn_prf(average, modifier, msg_start, len(result))\n",
      "/opt/anaconda3/lib/python3.8/site-packages/sklearn/metrics/_classification.py:1248: UndefinedMetricWarning: Precision and F-score are ill-defined and being set to 0.0 in labels with no predicted samples. Use `zero_division` parameter to control this behavior.\n",
      "  _warn_prf(average, modifier, msg_start, len(result))\n"
     ]
    }
   ],
   "source": [
    "reg_svc = SVC(kernel='linear')\n",
    "reg_svc.fit(X_train, y_train)\n",
    "y_pred = reg_svc.predict(X_test)\n",
    "print(metrics.classification_report(y_test, y_pred))"
   ]
  },
  {
   "cell_type": "code",
   "execution_count": null,
   "id": "7a96fffc",
   "metadata": {},
   "outputs": [],
   "source": [
    "y_predict = reg_svc.predict(X_test)\n",
    "accuracy_score(y_predict, y_test)"
   ]
  },
  {
   "cell_type": "code",
   "execution_count": 24,
   "id": "1fa20f3d",
   "metadata": {},
   "outputs": [
    {
     "name": "stdout",
     "output_type": "stream",
     "text": [
      "0.5796536796536796\n"
     ]
    },
    {
     "name": "stderr",
     "output_type": "stream",
     "text": [
      "/opt/anaconda3/lib/python3.8/site-packages/sklearn/model_selection/_split.py:666: UserWarning: The least populated class in y has only 9 members, which is less than n_splits=10.\n",
      "  warnings.warn((\"The least populated class in y has only %d\"\n"
     ]
    }
   ],
   "source": [
    "print(cross_val_score(reg_svc, X, y, cv=10, scoring='accuracy').mean())"
   ]
  },
  {
   "cell_type": "markdown",
   "id": "91483945",
   "metadata": {},
   "source": [
    "## Naive Bayes"
   ]
  },
  {
   "cell_type": "code",
   "execution_count": 16,
   "id": "2d4172f6",
   "metadata": {},
   "outputs": [],
   "source": [
    "from sklearn.naive_bayes import GaussianNB"
   ]
  },
  {
   "cell_type": "code",
   "execution_count": 17,
   "id": "31b3de9e",
   "metadata": {},
   "outputs": [
    {
     "name": "stdout",
     "output_type": "stream",
     "text": [
      "              precision    recall  f1-score   support\n",
      "\n",
      "           1       0.41      0.64      0.50        11\n",
      "           2       0.43      0.21      0.29        14\n",
      "           3       0.40      0.67      0.50         3\n",
      "           5       0.50      0.25      0.33         4\n",
      "           6       1.00      1.00      1.00         3\n",
      "           7       0.89      1.00      0.94         8\n",
      "\n",
      "    accuracy                           0.56        43\n",
      "   macro avg       0.60      0.63      0.59        43\n",
      "weighted avg       0.55      0.56      0.53        43\n",
      "\n"
     ]
    }
   ],
   "source": [
    "reg_rf = GaussianNB()\n",
    "reg_rf.fit(X_train, y_train)\n",
    "y_pred = reg_rf.predict(X_test)\n",
    "print(metrics.classification_report(y_test, y_pred))"
   ]
  },
  {
   "cell_type": "code",
   "execution_count": null,
   "id": "7fc3cf61",
   "metadata": {},
   "outputs": [],
   "source": [
    "y_predict = reg_rf.predict(X_test)\n",
    "accuracy_score(y_predict, y_test)"
   ]
  },
  {
   "cell_type": "code",
   "execution_count": 18,
   "id": "c299a9ec",
   "metadata": {},
   "outputs": [
    {
     "name": "stdout",
     "output_type": "stream",
     "text": [
      "0.41601731601731606\n"
     ]
    },
    {
     "name": "stderr",
     "output_type": "stream",
     "text": [
      "/opt/anaconda3/lib/python3.8/site-packages/sklearn/model_selection/_split.py:666: UserWarning: The least populated class in y has only 9 members, which is less than n_splits=10.\n",
      "  warnings.warn((\"The least populated class in y has only %d\"\n"
     ]
    }
   ],
   "source": [
    "print(cross_val_score(reg_rf, X, y, cv=10).mean())"
   ]
  }
 ],
 "metadata": {
  "kernelspec": {
   "display_name": "Python 3",
   "language": "python",
   "name": "python3"
  },
  "language_info": {
   "codemirror_mode": {
    "name": "ipython",
    "version": 3
   },
   "file_extension": ".py",
   "mimetype": "text/x-python",
   "name": "python",
   "nbconvert_exporter": "python",
   "pygments_lexer": "ipython3",
   "version": "3.8.12"
  }
 },
 "nbformat": 4,
 "nbformat_minor": 5
}
